{
  "nbformat": 4,
  "nbformat_minor": 0,
  "metadata": {
    "colab": {
      "name": "cfierro_lab1.ipynb",
      "provenance": [],
      "collapsed_sections": []
    },
    "kernelspec": {
      "display_name": "Python 3",
      "language": "python",
      "name": "python3"
    },
    "language_info": {
      "codemirror_mode": {
        "name": "ipython",
        "version": 3
      },
      "file_extension": ".py",
      "mimetype": "text/x-python",
      "name": "python",
      "nbconvert_exporter": "python",
      "pygments_lexer": "ipython3",
      "version": "3.6.4"
    }
  },
  "cells": [
    {
      "cell_type": "markdown",
      "metadata": {
        "id": "eQzBbvyKQymx"
      },
      "source": [
        "<div align=\"center\">\n",
        "<img style=\"display: block; margin: auto;\" alt=\"photo\" src=\"https://cdn.quantconnect.com/web/i/icon.png\">\n",
        "\n",
        "Quantconnect\n",
        "\n",
        "Introduction to Financial Python\n",
        "</div>\n",
        "\n",
        "# 01 Data Types and Data Structures\n",
        "\n",
        "# Introduction\n",
        "\n",
        "This tutorial provides a basic introduction to the Python programming language. If you are new to Python, you should run the code snippets while reading this tutorial. If you are an advanced Python user, please feel free to skip this chapter.\n",
        "\n",
        "# Basic Variable Types\n",
        "The basic types of variables in Python are: strings, integers, floating point numbers and booleans.\n",
        "\n",
        "Strings in python are identified as a contiguous set of characters represented in either single quotes (' ') or double quotes (\" \").\n"
      ]
    },
    {
      "cell_type": "code",
      "metadata": {
        "colab": {
          "base_uri": "https://localhost:8080/"
        },
        "id": "N5t-UrcfOqid",
        "outputId": "c8658c9d-39cc-4b3f-beac-71ac24e8152e"
      },
      "source": [
        "my_string1 = 'Welcome to'\n",
        "my_string2 = \"QuantConnect\"\n",
        "print(my_string1 + ' ' + my_string2)"
      ],
      "execution_count": null,
      "outputs": [
        {
          "output_type": "stream",
          "name": "stdout",
          "text": [
            "Welcome to QuantConnect\n"
          ]
        }
      ]
    },
    {
      "cell_type": "code",
      "source": [
        "#ejemplo_cfierro\n",
        "str1=\"Hola\"\n",
        "str2=\"Mundo\"\n",
        "print(str1+\" \"+str2) #Aqui se concatenan las variables str1 y str2 junto con un espacio para imprimir la palabra \"Hola Mundo\"."
      ],
      "metadata": {
        "colab": {
          "base_uri": "https://localhost:8080/"
        },
        "id": "zgj3UB9gXQQ9",
        "outputId": "ef2873ef-e28c-45e2-ed28-4190ea20075d"
      },
      "execution_count": null,
      "outputs": [
        {
          "output_type": "stream",
          "name": "stdout",
          "text": [
            "Hola Mundo\n"
          ]
        }
      ]
    },
    {
      "cell_type": "markdown",
      "metadata": {
        "id": "bXHnxZyHSd1M"
      },
      "source": [
        "An integer is a round number with no values after the decimal point."
      ]
    },
    {
      "cell_type": "code",
      "metadata": {
        "colab": {
          "base_uri": "https://localhost:8080/"
        },
        "id": "pNjuz3toOqif",
        "outputId": "9908155d-4a92-4967-ac21-1550cbcd46ad"
      },
      "source": [
        "my_int = 10\n",
        "print(my_int)\n",
        "print(type(my_int))"
      ],
      "execution_count": null,
      "outputs": [
        {
          "output_type": "stream",
          "name": "stdout",
          "text": [
            "10\n",
            "<class 'int'>\n"
          ]
        }
      ]
    },
    {
      "cell_type": "code",
      "source": [
        "#ejemplo_cfierro\n",
        "int1=19\n",
        "print(int1)          #imprime la variable int1 que se asignó anteriormente.\n",
        "print(type(int1))    #imprime el tipo de variable que corresponde a int1, que en este caso es entero o integer(int)."
      ],
      "metadata": {
        "colab": {
          "base_uri": "https://localhost:8080/"
        },
        "id": "v4EzdGZaYRRR",
        "outputId": "d4bdfb25-a913-41c6-ce7b-ae0f41fd0e60"
      },
      "execution_count": null,
      "outputs": [
        {
          "output_type": "stream",
          "name": "stdout",
          "text": [
            "19\n",
            "<class 'int'>\n"
          ]
        }
      ]
    },
    {
      "cell_type": "markdown",
      "metadata": {
        "id": "_1ZanWrYSnzF"
      },
      "source": [
        "The built-in function int() can convert a string into an integer."
      ]
    },
    {
      "cell_type": "code",
      "metadata": {
        "colab": {
          "base_uri": "https://localhost:8080/"
        },
        "id": "zPwGb20FOqif",
        "outputId": "5916c085-45fb-4b3d-c634-c12141cd3134"
      },
      "source": [
        "my_string = \"100\"\n",
        "print(type(my_string))\n",
        "my_int = int(my_string)\n",
        "print(type(my_int))"
      ],
      "execution_count": null,
      "outputs": [
        {
          "output_type": "stream",
          "name": "stdout",
          "text": [
            "<class 'str'>\n",
            "<class 'int'>\n"
          ]
        }
      ]
    },
    {
      "cell_type": "code",
      "source": [
        "#ejemplo_cfierro\n",
        "numero_str=\"19\"\n",
        "print(type(numero_str))     #imprime el tipo de variable de numero_str que corresponde a un string(cadena) de un número pero como tipo texto.\n",
        "numero_int=int(numero_str)  #transforma numero_str de tipo string a un tipo entero con una función. Esto se puede realizar ya que aunque son texto estos caracteres corresponden a números.\n",
        "print(type(numero_int))     #imprime el tipo de variable de numero_int que corresponde a un integer luego de transformar la variable numero_str."
      ],
      "metadata": {
        "colab": {
          "base_uri": "https://localhost:8080/"
        },
        "id": "ny4DuR-kZ08x",
        "outputId": "4481ff22-e4dd-4382-bed7-836c45956f7a"
      },
      "execution_count": null,
      "outputs": [
        {
          "output_type": "stream",
          "name": "stdout",
          "text": [
            "<class 'str'>\n",
            "<class 'int'>\n"
          ]
        }
      ]
    },
    {
      "cell_type": "markdown",
      "metadata": {
        "id": "WqMDPDTHSrE9"
      },
      "source": [
        "A floating point number, or a float, is a real number in mathematics. In Python we need to include a value after a decimal point to define it as a float"
      ]
    },
    {
      "cell_type": "code",
      "metadata": {
        "colab": {
          "base_uri": "https://localhost:8080/"
        },
        "id": "otCzKKW9Oqig",
        "outputId": "6f5add50-c782-4e35-af1a-eba8c0029a43"
      },
      "source": [
        "my_string = \"100\"\n",
        "my_float = float(my_string)\n",
        "print(type(my_float))"
      ],
      "execution_count": null,
      "outputs": [
        {
          "output_type": "stream",
          "name": "stdout",
          "text": [
            "<class 'float'>\n"
          ]
        }
      ]
    },
    {
      "cell_type": "code",
      "source": [
        "#ejemplo_cfierro\n",
        "numero=19\n",
        "flotante=float(numero)  #transforma la variable \"numero\" de tipo integer a tipo float que permite números reales, con decimales o sin ellos.\n",
        "print(type(flotante))   #imprime el tipo de la variable \"flotante\" que es float."
      ],
      "metadata": {
        "colab": {
          "base_uri": "https://localhost:8080/"
        },
        "id": "Z6fZUzmAcAJn",
        "outputId": "1d76d151-b250-411a-d12a-114689baf79c"
      },
      "execution_count": null,
      "outputs": [
        {
          "output_type": "stream",
          "name": "stdout",
          "text": [
            "<class 'float'>\n"
          ]
        }
      ]
    },
    {
      "cell_type": "markdown",
      "metadata": {
        "id": "2iuyv8Q7StTJ"
      },
      "source": [
        "As you can see above, if we don't include a decimal value, the variable would be defined as an integer. The built-in function float() can convert a string or an integer into a float."
      ]
    },
    {
      "cell_type": "markdown",
      "metadata": {
        "id": "bnGMwH21Szr_"
      },
      "source": [
        "A boolean, or bool, is a binary variable. Its value can only be True or False. It is useful when we do some logic operations, which would be covered in our next chapter."
      ]
    },
    {
      "cell_type": "code",
      "metadata": {
        "colab": {
          "base_uri": "https://localhost:8080/"
        },
        "id": "wwLw5VthOqig",
        "outputId": "55dab063-521e-4833-fea5-21a920b09013"
      },
      "source": [
        "my_bool = False\n",
        "print(my_bool)\n",
        "print(type(my_bool))"
      ],
      "execution_count": null,
      "outputs": [
        {
          "output_type": "stream",
          "name": "stdout",
          "text": [
            "False\n",
            "<class 'bool'>\n"
          ]
        }
      ]
    },
    {
      "cell_type": "code",
      "source": [
        "#ejemplo_cfierro\n",
        "booleano=True\n",
        "print(booleano)         #imprime el estado actual de la variable booleana, ya sea True o False.\n",
        "print(type(booleano))   #imprime el tipo de variable que es \"booleano\"."
      ],
      "metadata": {
        "colab": {
          "base_uri": "https://localhost:8080/"
        },
        "id": "6nwImzBUcrRn",
        "outputId": "1148e1c6-da67-4b2d-80aa-69b9d91c8d70"
      },
      "execution_count": null,
      "outputs": [
        {
          "output_type": "stream",
          "name": "stdout",
          "text": [
            "True\n",
            "<class 'bool'>\n"
          ]
        }
      ]
    },
    {
      "cell_type": "markdown",
      "metadata": {
        "id": "1Xc9G9_sS2ju"
      },
      "source": [
        "# Basic Math Operations\n",
        "\n",
        "The basic math operators in python are demonstrated below:"
      ]
    },
    {
      "cell_type": "code",
      "metadata": {
        "colab": {
          "base_uri": "https://localhost:8080/"
        },
        "id": "DMa6pDl5Oqig",
        "outputId": "d2ae3e69-cbfe-471c-e995-0bd4dc206596"
      },
      "source": [
        "print(\"Addition \", 1+1)\n",
        "print(\"Subtraction \", 5-2)\n",
        "print(\"Multiplication \", 2*3)\n",
        "print(\"Division \", 10/2)\n",
        "print('exponent', 2**3)"
      ],
      "execution_count": null,
      "outputs": [
        {
          "output_type": "stream",
          "name": "stdout",
          "text": [
            "Addition  2\n",
            "Subtraction  3\n",
            "Multiplication  6\n",
            "Division  5.0\n",
            "exponent 8\n"
          ]
        }
      ]
    },
    {
      "cell_type": "code",
      "source": [
        "#ejemplo_cfierro\n",
        "print(\"Addition \",10+9)         #imprime la suma de variables enteras o flotantes.\n",
        "print(\"Subtraction \", 10-9)     #imprime la resta de variables enteras o flotantes.\n",
        "print(\"Multiplication \", 10*9)  #imprime la multiplicación de variables enteras o flotantes.\n",
        "print(\"Division \", 10/5)        #imprime la división de variables enteras o flotantes.\n",
        "print('exponent', 5**3)         #imprime la potenciación de variables enteras o flotantes."
      ],
      "metadata": {
        "colab": {
          "base_uri": "https://localhost:8080/"
        },
        "id": "sQInVxx0dhDc",
        "outputId": "c38e3bf2-7e3a-4acb-ff64-b650a3dc33cb"
      },
      "execution_count": null,
      "outputs": [
        {
          "output_type": "stream",
          "name": "stdout",
          "text": [
            "Addition  19\n",
            "Subtraction  1\n",
            "Multiplication  90\n",
            "Division  2.0\n",
            "exponent 125\n"
          ]
        }
      ]
    },
    {
      "cell_type": "code",
      "metadata": {
        "colab": {
          "base_uri": "https://localhost:8080/"
        },
        "id": "KE9gUryAOqig",
        "outputId": "9a24e402-1e07-4285-c8c8-243b009eb080"
      },
      "source": [
        "print(1/3)\n",
        "print(1.0/3)"
      ],
      "execution_count": null,
      "outputs": [
        {
          "output_type": "stream",
          "name": "stdout",
          "text": [
            "0.3333333333333333\n",
            "0.3333333333333333\n"
          ]
        }
      ]
    },
    {
      "cell_type": "code",
      "source": [
        "#ejemplo_cfierro\n",
        "print(5/7)      #imprime la división entre dos números enteros.\n",
        "print(5.0/7.0)  #imprime la división entre dos números flotantes.\n",
        "#el resultado es el mismo para ambos,demostrando que si la división da un flotante, no importan las variables de la división ya que el resultado es igual."
      ],
      "metadata": {
        "id": "I-qXJzp-eWb_",
        "colab": {
          "base_uri": "https://localhost:8080/"
        },
        "outputId": "20714b58-ed02-475c-8a34-c585957d6b05"
      },
      "execution_count": null,
      "outputs": [
        {
          "output_type": "stream",
          "name": "stdout",
          "text": [
            "0.7142857142857143\n",
            "0.7142857142857143\n"
          ]
        }
      ]
    },
    {
      "cell_type": "markdown",
      "metadata": {
        "id": "AN5Oa3DoS_Nf"
      },
      "source": [
        "# Data Collections\n",
        "\n",
        "## List\n",
        "A list is an ordered collection of values. A list is mutable, which means you can change a list's value without changing the list itself. Creating a list is simply putting different comma-separated values between square brackets."
      ]
    },
    {
      "cell_type": "code",
      "metadata": {
        "colab": {
          "base_uri": "https://localhost:8080/"
        },
        "id": "-tQdNqCvOqig",
        "outputId": "f898c02e-e7c0-4e4f-fc6b-b3280b47f597"
      },
      "source": [
        "my_list = ['Quant', 'Connect']#, 1,2,3]\n",
        "print(my_list)"
      ],
      "execution_count": null,
      "outputs": [
        {
          "output_type": "stream",
          "name": "stdout",
          "text": [
            "['Quant', 'Connect']\n"
          ]
        }
      ]
    },
    {
      "cell_type": "code",
      "source": [
        "#ejemplo_cfierro\n",
        "lista=[\"Hola\",\"Mundo\",2]  \n",
        "print(lista)    #imprime la lista pero como está organizada, no se imprime como texto sino como una lista separando el contenido con , y denotando con comillas los tipo str."
      ],
      "metadata": {
        "colab": {
          "base_uri": "https://localhost:8080/"
        },
        "id": "EWmVkjJVfGMu",
        "outputId": "91fb2d26-0695-482b-9b29-0a85c7d32150"
      },
      "execution_count": null,
      "outputs": [
        {
          "output_type": "stream",
          "name": "stdout",
          "text": [
            "['Hola', 'Mundo', 2]\n"
          ]
        }
      ]
    },
    {
      "cell_type": "markdown",
      "metadata": {
        "id": "1O0TsgZCTHrM"
      },
      "source": [
        "The values in a list are called \"elements\". We can access list elements by indexing. Python index starts from 0. So if you have a list of length n, the index of the first element will be 0, and that of the last element will be n − 1. By the way, the length of a list can be obtained by the built-in function len()."
      ]
    },
    {
      "cell_type": "code",
      "metadata": {
        "colab": {
          "base_uri": "https://localhost:8080/"
        },
        "id": "QhuVhRR5Oqih",
        "outputId": "ed40b5ce-99a1-4cd1-a1ef-134b00957a87"
      },
      "source": [
        "my_list = ['Quant', 'Connect', 1,2,3]\n",
        "print(len(my_list))\n",
        "print(my_list[0])\n",
        "print(my_list[len(my_list) -1])"
      ],
      "execution_count": null,
      "outputs": [
        {
          "output_type": "stream",
          "name": "stdout",
          "text": [
            "5\n",
            "Quant\n",
            "3\n"
          ]
        }
      ]
    },
    {
      "cell_type": "code",
      "source": [
        "#ejemplo_cfierro\n",
        "lista=[\"Hola\",\"Mundo\",2,1,9]  \n",
        "print(len(lista))               #imprime la longitud de la lista creada, usando la función len() que retorna esa longitud.\n",
        "print(lista[0])               #imprime el valor de la posición que se indique entre los \"[]\" que en este caso es 0 y corresponde al primer elemento.\n",
        "print(lista[len(lista) -1]) #en este caso primero se toma el valor de la longitud de la lista, se resta 1 del resultado y este valor será el index del elemento que va a imprimirse(en este caso es el último)."
      ],
      "metadata": {
        "colab": {
          "base_uri": "https://localhost:8080/"
        },
        "id": "-cPH1H-BgYub",
        "outputId": "a5124079-7d1d-40d3-fca9-1b69b608cfb3"
      },
      "execution_count": null,
      "outputs": [
        {
          "output_type": "stream",
          "name": "stdout",
          "text": [
            "5\n",
            "Hola\n",
            "9\n"
          ]
        }
      ]
    },
    {
      "cell_type": "markdown",
      "metadata": {
        "id": "jgSZy1VGTKSc"
      },
      "source": [
        "You can also change the elements in the list by accessing an index and assigning a new value."
      ]
    },
    {
      "cell_type": "code",
      "metadata": {
        "colab": {
          "base_uri": "https://localhost:8080/"
        },
        "id": "NQBNLjAvOqih",
        "outputId": "b50ed8e9-bfce-4f22-c4eb-558c2d95b14a"
      },
      "source": [
        "my_list = ['Quant','Connect',1,2,3]\n",
        "my_list[2] = 'go'\n",
        "print(my_list)"
      ],
      "execution_count": null,
      "outputs": [
        {
          "output_type": "stream",
          "name": "stdout",
          "text": [
            "['Quant', 'Connect', 'go', 2, 3]\n"
          ]
        }
      ]
    },
    {
      "cell_type": "code",
      "source": [
        "#ejemplo_cfierro\n",
        "lista=[\"Hola\",\"Mundo\",2,1,9] \n",
        "lista[2] = 'Adiós'  #cambia el valor del elemento indexado como 2 que corresponde al tercer elemento de la lista y lo transforma en \"Adios\"\n",
        "print(lista)        #imprime la lista con el valor alterado pues esto se hizo sobre la misma lista"
      ],
      "metadata": {
        "colab": {
          "base_uri": "https://localhost:8080/"
        },
        "id": "pikT__mjh66E",
        "outputId": "0a9e84c4-1762-47e2-912a-719d2d10a06f"
      },
      "execution_count": null,
      "outputs": [
        {
          "output_type": "stream",
          "name": "stdout",
          "text": [
            "['Hola', 'Mundo', 'Adiós', 1, 9]\n"
          ]
        }
      ]
    },
    {
      "cell_type": "markdown",
      "metadata": {
        "id": "EQPs5ojoTVrk"
      },
      "source": [
        "A list can also be sliced with a colon:"
      ]
    },
    {
      "cell_type": "code",
      "metadata": {
        "colab": {
          "base_uri": "https://localhost:8080/"
        },
        "id": "keNX2RbtOqii",
        "outputId": "39a3fae7-e7f9-4ca5-a3c9-dd9eccc141b2"
      },
      "source": [
        "my_list = ['Quant','Connect',1,2,3]\n",
        "print(my_list[1:3])"
      ],
      "execution_count": null,
      "outputs": [
        {
          "output_type": "stream",
          "name": "stdout",
          "text": [
            "['Connect', 1]\n"
          ]
        }
      ]
    },
    {
      "cell_type": "code",
      "source": [
        "#ejemplo_cfierro\n",
        "lista=[\"Hola\",\"Mundo\",2,1,9] \n",
        "print(lista[1:4])   #imprime la lista desde una posicion hasta otra, en este caso los index son del 1 al 4 que corresponden a los elementos del segundo al cuarto. (el index final se resta 1 para las posiciones, 4-1=3)."
      ],
      "metadata": {
        "colab": {
          "base_uri": "https://localhost:8080/"
        },
        "id": "1mgQJqT_q30J",
        "outputId": "17f72d8a-c161-41d3-a3f9-0b42c378a589"
      },
      "execution_count": null,
      "outputs": [
        {
          "output_type": "stream",
          "name": "stdout",
          "text": [
            "['Mundo', 2, 1]\n"
          ]
        }
      ]
    },
    {
      "cell_type": "markdown",
      "metadata": {
        "id": "AZqQd0K8TYul"
      },
      "source": [
        "The slice starts from the first element indicated, but excludes the last element indicated. Here we select all elements starting from index 1, which refers to the second element:"
      ]
    },
    {
      "cell_type": "code",
      "metadata": {
        "colab": {
          "base_uri": "https://localhost:8080/"
        },
        "id": "0-76sLfkOqii",
        "outputId": "d7025024-51db-49f5-b4bf-a78c3925d4c8"
      },
      "source": [
        "print(my_list[1:])"
      ],
      "execution_count": null,
      "outputs": [
        {
          "output_type": "stream",
          "name": "stdout",
          "text": [
            "['Connect', 1, 2, 3]\n"
          ]
        }
      ]
    },
    {
      "cell_type": "code",
      "source": [
        "#ejemplo_cfierro\n",
        "lista=[\"Hola\",\"Mundo\",2,1,9] \n",
        "print(lista[1:])    #imprime la lista desde el index indicado hasta el final de la lista pues no se especifica el final."
      ],
      "metadata": {
        "colab": {
          "base_uri": "https://localhost:8080/"
        },
        "id": "siYZm7OMsPMY",
        "outputId": "0b9cc9a8-4ff4-47b3-b3fc-f932f7211729"
      },
      "execution_count": null,
      "outputs": [
        {
          "output_type": "stream",
          "name": "stdout",
          "text": [
            "['Mundo', 2, 1, 9]\n"
          ]
        }
      ]
    },
    {
      "cell_type": "markdown",
      "metadata": {
        "id": "XBqvhUdZVKWs"
      },
      "source": [
        "And all elements up to but excluding index 3:"
      ]
    },
    {
      "cell_type": "code",
      "metadata": {
        "colab": {
          "base_uri": "https://localhost:8080/"
        },
        "id": "5NWr75L9Oqii",
        "outputId": "ed0a79a2-586a-478a-a7fd-bdbf782f9bae"
      },
      "source": [
        "print(my_list[:3])"
      ],
      "execution_count": null,
      "outputs": [
        {
          "output_type": "stream",
          "name": "stdout",
          "text": [
            "['Quant', 'Connect', 1]\n"
          ]
        }
      ]
    },
    {
      "cell_type": "code",
      "source": [
        "#ejemplo_cfierro\n",
        "lista=[\"Hola\",\"Mundo\",2,1,9] \n",
        "print(lista[:3])    #imprime la lista desde el inicio hasta el index indicado pues no se especifica el inicio."
      ],
      "metadata": {
        "colab": {
          "base_uri": "https://localhost:8080/"
        },
        "id": "4ty42Kq_sv72",
        "outputId": "3ba64a14-486c-4d0a-a210-4ccdda97c049"
      },
      "execution_count": null,
      "outputs": [
        {
          "output_type": "stream",
          "name": "stdout",
          "text": [
            "['Hola', 'Mundo', 2]\n"
          ]
        }
      ]
    },
    {
      "cell_type": "markdown",
      "metadata": {
        "id": "eAFmM6bkTZz9"
      },
      "source": [
        "If you wish to add or remove an element from a list, you can use the append() and remove() methods for lists as follows:"
      ]
    },
    {
      "cell_type": "code",
      "metadata": {
        "colab": {
          "base_uri": "https://localhost:8080/"
        },
        "id": "pHmgTPElTo19",
        "outputId": "4f8c3dff-f79f-471f-d2b8-6248c8cdf195"
      },
      "source": [
        "my_list = ['Hello', 'Quant']\n",
        "my_list.append('Hello')\n",
        "print(my_list)"
      ],
      "execution_count": null,
      "outputs": [
        {
          "output_type": "stream",
          "name": "stdout",
          "text": [
            "['Hello', 'Quant', 'Hello']\n"
          ]
        }
      ]
    },
    {
      "cell_type": "code",
      "source": [
        "#ejemplo_cfierro\n",
        "lista=[\"Hola\",\"Mundo\"]\n",
        "lista.append(\"Adios\")   #se añade mediante el método append() un nuevo elemento que queda al final de la lista.\n",
        "print(lista)            #se imprime la lista ya alterada."
      ],
      "metadata": {
        "colab": {
          "base_uri": "https://localhost:8080/"
        },
        "id": "rP9Mk1oLtL3d",
        "outputId": "3e3c3689-cfa9-42d4-f7a7-3bf37d1008a9"
      },
      "execution_count": null,
      "outputs": [
        {
          "output_type": "stream",
          "name": "stdout",
          "text": [
            "['Hola', 'Mundo', 'Adios']\n"
          ]
        }
      ]
    },
    {
      "cell_type": "code",
      "metadata": {
        "colab": {
          "base_uri": "https://localhost:8080/"
        },
        "id": "4C4U1Yf0Tr8l",
        "outputId": "e69ad7a6-17f1-4a4c-f052-4c22624914ba"
      },
      "source": [
        "my_list.remove('Hello')\n",
        "print(my_list)"
      ],
      "execution_count": null,
      "outputs": [
        {
          "output_type": "stream",
          "name": "stdout",
          "text": [
            "['Quant', 'Hello']\n"
          ]
        }
      ]
    },
    {
      "cell_type": "code",
      "source": [
        "#ejemplo_cfierro\n",
        "lista=[\"Hola\",\"Mundo\"]\n",
        "lista.remove(\"Hola\")    #se remueve el primer elemento que coincide con el valor especificado en el método remove(), solo remueve uno.\n",
        "print(lista)            #se imprime la lista ya alterada."
      ],
      "metadata": {
        "colab": {
          "base_uri": "https://localhost:8080/"
        },
        "id": "EUI-bR82tckm",
        "outputId": "fd5a8df5-fdf7-445b-c44e-d81b94bad0e1"
      },
      "execution_count": null,
      "outputs": [
        {
          "output_type": "stream",
          "name": "stdout",
          "text": [
            "['Mundo']\n"
          ]
        }
      ]
    },
    {
      "cell_type": "markdown",
      "metadata": {
        "id": "11W1gG-cVmOU"
      },
      "source": [
        "When there are repeated instances of \"Hello\", the first one is removed.\n",
        "\n",
        "## Tuple\n",
        "A tuple is a data structure type similar to a list. The difference is that a tuple is immutable, which means you can't change the elements in it once it's defined. We create a tuple by putting comma-separated values between parentheses."
      ]
    },
    {
      "cell_type": "code",
      "metadata": {
        "collapsed": true,
        "id": "vPmn6BAaOqii"
      },
      "source": [
        "my_tuple = ('Welcome','to','QuantConnect')"
      ],
      "execution_count": null,
      "outputs": []
    },
    {
      "cell_type": "code",
      "source": [
        "#ejemplo_cfierro\n",
        "tupla=(\"Hola\",\"Mundo\")  #a diferencia de la lista, esta se crea con paréntesis y no con corchetes cuadrados(\"[]\")"
      ],
      "metadata": {
        "id": "zFX89p_TuDmm"
      },
      "execution_count": null,
      "outputs": []
    },
    {
      "cell_type": "markdown",
      "metadata": {
        "id": "zMIme4dDV0Wz"
      },
      "source": [
        "Just like a list, a tuple can be sliced by using index."
      ]
    },
    {
      "cell_type": "code",
      "metadata": {
        "colab": {
          "base_uri": "https://localhost:8080/"
        },
        "id": "8P-ddO0sOqii",
        "outputId": "6577f076-f7d3-4986-cc49-7e7bfbfaeebd"
      },
      "source": [
        "my_tuple = ('Welcome','to','QuantConnect')\n",
        "print(my_tuple[1:])"
      ],
      "execution_count": null,
      "outputs": [
        {
          "output_type": "stream",
          "name": "stdout",
          "text": [
            "('to', 'QuantConnect')\n"
          ]
        }
      ]
    },
    {
      "cell_type": "code",
      "source": [
        "#ejemplo_cfierro\n",
        "tupla=(\"Hola\",\"Mundo\")\n",
        "print(tupla[1:])    #se puede imprimir por partes como las listas especificando los index."
      ],
      "metadata": {
        "colab": {
          "base_uri": "https://localhost:8080/"
        },
        "id": "NQDpEuDtuamT",
        "outputId": "8a93ad3e-5b99-42cb-cf50-e077c8bcca08"
      },
      "execution_count": null,
      "outputs": [
        {
          "output_type": "stream",
          "name": "stdout",
          "text": [
            "('Mundo',)\n"
          ]
        }
      ]
    },
    {
      "cell_type": "markdown",
      "metadata": {
        "id": "l2JqbusAV1Y2"
      },
      "source": [
        "## Set\n",
        "A set is an **unordered**  collection with **no duplicate** elements. The built-in function **set()** can be used to create sets."
      ]
    },
    {
      "cell_type": "code",
      "metadata": {
        "colab": {
          "base_uri": "https://localhost:8080/"
        },
        "id": "Plau8r-UOqij",
        "outputId": "71943170-b34d-4a74-9787-6291475dd289"
      },
      "source": [
        "stock_list = ['AAPL','GOOG','IBM','AAPL','IBM','FB','F','GOOG']\n",
        "stock_set = set(stock_list)\n",
        "print(stock_set)"
      ],
      "execution_count": null,
      "outputs": [
        {
          "output_type": "stream",
          "name": "stdout",
          "text": [
            "{'FB', 'AAPL', 'GOOG', 'F', 'IBM'}\n"
          ]
        }
      ]
    },
    {
      "cell_type": "code",
      "source": [
        "#ejemplo_cfierro\n",
        "lista_stock=['Python','C','C','Django','Julia','Java','Python','Java']\n",
        "set_stock= set(lista_stock)     #se toma la lista creada y se convierte en un set, el cual no permite objetos duplicados.\n",
        "print(set_stock)                #se imprime el set como si fuera una lista, mostrando la manera en la que se ordena y no como si fuera texto."
      ],
      "metadata": {
        "colab": {
          "base_uri": "https://localhost:8080/"
        },
        "id": "9v1ijL-nu99q",
        "outputId": "9ad20dab-eb04-468e-e567-8c0c4ce84238"
      },
      "execution_count": null,
      "outputs": [
        {
          "output_type": "stream",
          "name": "stdout",
          "text": [
            "{'Java', 'Python', 'Julia', 'Django', 'C'}\n"
          ]
        }
      ]
    },
    {
      "cell_type": "markdown",
      "metadata": {
        "id": "Jyb4GGIoWIHk"
      },
      "source": [
        "Set is an easy way to remove duplicate elements from a list.\n",
        "\n",
        "##Dictionary\n",
        "A dictionary is one of the most important data structures in Python. Unlike sequences which are indexed by integers, dictionaries are indexed by keys which can be either strings or floats.\n",
        "\n",
        "A dictionary is an **unordered** collection of key : value pairs, with the requirement that the keys are unique. We create a dictionary by placing a comma-separated list of key : value pairs within the braces."
      ]
    },
    {
      "cell_type": "code",
      "metadata": {
        "collapsed": true,
        "id": "36mTe5BaOqij"
      },
      "source": [
        "my_dic = {'AAPL':'AAPLE', 'FB':'FaceBook', 'GOOG':'Alphabet'}"
      ],
      "execution_count": null,
      "outputs": []
    },
    {
      "cell_type": "code",
      "source": [
        "#ejemplo_cfierro\n",
        "diccionario={'Python':\"1\",\"Julia\":\"2\",\"Django\":\"3\"}"
      ],
      "metadata": {
        "id": "cFDW4_uCw4Yu"
      },
      "execution_count": null,
      "outputs": []
    },
    {
      "cell_type": "code",
      "metadata": {
        "colab": {
          "base_uri": "https://localhost:8080/"
        },
        "id": "KUfdVf43Oqij",
        "outputId": "f7749996-4278-40a5-d304-0d05d203e494"
      },
      "source": [
        "print(my_dic['GOOG'])"
      ],
      "execution_count": null,
      "outputs": [
        {
          "output_type": "stream",
          "name": "stdout",
          "text": [
            "Alphabet\n"
          ]
        }
      ]
    },
    {
      "cell_type": "code",
      "source": [
        "#ejemplo_cfierro\n",
        "print(diccionario['Julia']) #imprime el valor de la llave que se asigna dentro de los \"[]\"."
      ],
      "metadata": {
        "colab": {
          "base_uri": "https://localhost:8080/"
        },
        "id": "T1mIfw9fxJiB",
        "outputId": "895da2d8-6be4-4f98-9904-7849a5b9b339"
      },
      "execution_count": null,
      "outputs": [
        {
          "output_type": "stream",
          "name": "stdout",
          "text": [
            "2\n"
          ]
        }
      ]
    },
    {
      "cell_type": "markdown",
      "metadata": {
        "id": "gSicoNqDWP4c"
      },
      "source": [
        "After defining a dictionary, we can access any value by indicating its key in brackets."
      ]
    },
    {
      "cell_type": "code",
      "metadata": {
        "colab": {
          "base_uri": "https://localhost:8080/"
        },
        "id": "IrTZdq9FOqij",
        "outputId": "3a4ccb0f-b3a2-4ac3-8c95-a3e6309ffc87"
      },
      "source": [
        "my_dic['GOOG'] = 'Alphabet Company' \n",
        "print(my_dic['GOOG'])"
      ],
      "execution_count": null,
      "outputs": [
        {
          "output_type": "stream",
          "name": "stdout",
          "text": [
            "Alphabet Company\n"
          ]
        }
      ]
    },
    {
      "cell_type": "code",
      "source": [
        "#ejemplo_cfierro\n",
        "diccionario[\"Python\"]=\"Main\"    #cambia el valor de la llave que se especifica en el diccionario.\n",
        "print(diccionario[\"Python\"])    #imprime el valor de la llave que se asigna dentro de los \"[]\"."
      ],
      "metadata": {
        "colab": {
          "base_uri": "https://localhost:8080/"
        },
        "id": "lv8reuQaxdQH",
        "outputId": "a693c1cb-96da-4ec3-c632-b00afdf77978"
      },
      "execution_count": null,
      "outputs": [
        {
          "output_type": "stream",
          "name": "stdout",
          "text": [
            "Main\n"
          ]
        }
      ]
    },
    {
      "cell_type": "markdown",
      "metadata": {
        "id": "M9sDsTEMWQvc"
      },
      "source": [
        "We can also change the value associated with a specified key:"
      ]
    },
    {
      "cell_type": "code",
      "metadata": {
        "colab": {
          "base_uri": "https://localhost:8080/"
        },
        "id": "lupRHf1_Oqij",
        "outputId": "fad5c804-1a73-4dcf-8847-7cdd18bc30be"
      },
      "source": [
        "print(my_dic.keys())"
      ],
      "execution_count": null,
      "outputs": [
        {
          "output_type": "stream",
          "name": "stdout",
          "text": [
            "dict_keys(['AAPL', 'FB', 'GOOG'])\n"
          ]
        }
      ]
    },
    {
      "cell_type": "code",
      "source": [
        "#ejemplo_cfierro\n",
        "print(diccionario.keys())   #imprime unicamente las llaves del diccionario."
      ],
      "metadata": {
        "colab": {
          "base_uri": "https://localhost:8080/"
        },
        "id": "qnvgJBdNyL5y",
        "outputId": "7e0550e7-9168-4597-b40b-93e4dc10800b"
      },
      "execution_count": null,
      "outputs": [
        {
          "output_type": "stream",
          "name": "stdout",
          "text": [
            "dict_keys(['Python', 'Julia', 'Django'])\n"
          ]
        }
      ]
    },
    {
      "cell_type": "markdown",
      "metadata": {
        "id": "VPuDinlwWS9D"
      },
      "source": [
        "The built-in method of the dictionary object dict.keys() returns a list of all the keys used in the dictionary."
      ]
    },
    {
      "cell_type": "markdown",
      "metadata": {
        "id": "kSGzgNb2Womz"
      },
      "source": [
        "# Common String Operations\n",
        "A string is an immutable sequence of characters. It can be sliced by index just like a tuple:"
      ]
    },
    {
      "cell_type": "code",
      "metadata": {
        "colab": {
          "base_uri": "https://localhost:8080/"
        },
        "id": "xPojDnm9Oqik",
        "outputId": "e00342e2-095c-433e-c747-e58f2b2666be"
      },
      "source": [
        "my_str = 'Welcome to QuantConnect'\n",
        "print(my_str[8:])"
      ],
      "execution_count": null,
      "outputs": [
        {
          "output_type": "stream",
          "name": "stdout",
          "text": [
            "to QuantConnect\n"
          ]
        }
      ]
    },
    {
      "cell_type": "code",
      "source": [
        "#ejemplo_cfierro\n",
        "cadena=\"Hola Mundo\"\n",
        "print(cadena[3:])   #imprime la cadena por partes indicando el index de inicio y fin justo como las listas, solo que ahora se imprime como el texto."
      ],
      "metadata": {
        "colab": {
          "base_uri": "https://localhost:8080/"
        },
        "id": "ZhJtnVUbyt78",
        "outputId": "8d999075-73e5-4cfb-a0ce-052fcc3497ee"
      },
      "execution_count": null,
      "outputs": [
        {
          "output_type": "stream",
          "name": "stdout",
          "text": [
            "a Mundo\n"
          ]
        }
      ]
    },
    {
      "cell_type": "markdown",
      "metadata": {
        "id": "wuJYy7tvWtM7"
      },
      "source": [
        "There are many methods associated with strings. We can use string.count() to count the occurrences of a character in a string, use string.find() to return the index of a specific character, and use string.replace() to replace characters"
      ]
    },
    {
      "cell_type": "code",
      "metadata": {
        "colab": {
          "base_uri": "https://localhost:8080/"
        },
        "id": "u9deZq1SOqik",
        "outputId": "f312d85e-c5f9-4bdf-f078-20c1d5992264"
      },
      "source": [
        "print('Counting the number of e appears in this sentence'.count('e'))\n",
        "print('The first time e appears in this sentence'.find('e'))\n",
        "print('all the a in this sentence now becomes e'.replace('a','e'))"
      ],
      "execution_count": null,
      "outputs": [
        {
          "output_type": "stream",
          "name": "stdout",
          "text": [
            "7\n",
            "2\n",
            "ell the e in this sentence now becomes e\n"
          ]
        }
      ]
    },
    {
      "cell_type": "code",
      "source": [
        "#ejemplo_cfierro\n",
        "print(\"En esta oración se van a contar solo las o\".count(\"o\"))      #aqui se toma esta cadena y con el método count() se cuentan la cantidad de veces que aparece lo que está dentro del método y lo imprime.\n",
        "print(\"En que posición aparece por primera vez la i\".find(\"e\"))     #aqui se toma la cadena y con el método find() se busca la primera vez que aparece lo que esta dentro del método y luego imprime la posición.\n",
        "print(\"ahora cambiamos todas las a por algunas u\".replace(\"a\",\"u\")) #con este método replace() se cambian los caracteres indicados en el primer argumentos por los indicados en el segundo argumento e imprime la cadena."
      ],
      "metadata": {
        "colab": {
          "base_uri": "https://localhost:8080/"
        },
        "id": "6hXtPgdEzl4m",
        "outputId": "3b3d68e9-59fa-4f04-8604-9f8ff58e1589"
      },
      "execution_count": null,
      "outputs": [
        {
          "output_type": "stream",
          "name": "stdout",
          "text": [
            "5\n",
            "5\n",
            "uhoru cumbiumos todus lus u por ulgunus u\n"
          ]
        }
      ]
    },
    {
      "cell_type": "markdown",
      "metadata": {
        "id": "sJPn3rkvWwHN"
      },
      "source": [
        "The most commonly used method for strings is string.split(). This method will split the string by the indicated character and return a list:"
      ]
    },
    {
      "cell_type": "code",
      "metadata": {
        "colab": {
          "base_uri": "https://localhost:8080/"
        },
        "id": "hbIaFLFHOqik",
        "outputId": "c5b7e3ff-eb5d-4d0f-f56b-1ac230fc52c1"
      },
      "source": [
        "Time = '2016-04-01 09:43:00'\n",
        "splited_list = Time.split(' ')\n",
        "date = splited_list[0]\n",
        "time = splited_list[1]\n",
        "print(date, time)\n",
        "hour = time.split(':')[0]\n",
        "print(hour)"
      ],
      "execution_count": null,
      "outputs": [
        {
          "output_type": "stream",
          "name": "stdout",
          "text": [
            "2016-04-01 09:43:00\n",
            "09\n"
          ]
        }
      ]
    },
    {
      "cell_type": "code",
      "source": [
        "#ejemplo_cfierro\n",
        "Tiempo = '2000-06-29 11:43:00'\n",
        "lista_dividida = Tiempo.split(' ')  #divide la cadena y la convierte en una lista separando los elementos cada que encuentra el caractér del método split(), en este caso \" \".\n",
        "fecha = lista_dividida[0]           #se asigna el primer elemento a la variable \"fecha\".\n",
        "Tiempo = lista_dividida[1]          #se asigna el segundo elemento a la variable \"Tiempo\", reemplazando lo que tenía.\n",
        "print(fecha, Tiempo)                \n",
        "hora = Tiempo.split(':')[0]         #divide la cadena y la convierte en una lista separando los elementos cada que encuentra el caractér del método split(), en este caso \":\" y luego asigna a \"hora\" el primer elemento.\n",
        "print(hora)"
      ],
      "metadata": {
        "colab": {
          "base_uri": "https://localhost:8080/"
        },
        "id": "B-tHE6no1x9J",
        "outputId": "9396aa53-cd55-4c37-e4f8-8365436b25aa"
      },
      "execution_count": null,
      "outputs": [
        {
          "output_type": "stream",
          "name": "stdout",
          "text": [
            "2000-06-29 11:43:00\n",
            "11\n"
          ]
        }
      ]
    },
    {
      "cell_type": "markdown",
      "metadata": {
        "id": "9cJQGk96WyVc"
      },
      "source": [
        "We can replace parts of a string by our variable. This is called string formatting."
      ]
    },
    {
      "cell_type": "code",
      "metadata": {
        "colab": {
          "base_uri": "https://localhost:8080/"
        },
        "id": "-E_rIvv6Oqik",
        "outputId": "595bf8b2-ee64-4d86-cc3c-6aaf68083aad"
      },
      "source": [
        "my_time = 'Hour: {}, Minute:{}'.format('09','43')\n",
        "print(my_time)"
      ],
      "execution_count": null,
      "outputs": [
        {
          "output_type": "stream",
          "name": "stdout",
          "text": [
            "Hour: 09, Minute:43\n"
          ]
        }
      ]
    },
    {
      "cell_type": "code",
      "source": [
        "#ejemplo_cfierro\n",
        "mi_tiempo='Hour: {}, Minute: {}'.format('12','30')  #en este caso se asigna la cadena con los {} como espacio de referencia para reemplazar con el método .format() y asignando cada argumento en orden.\n",
        "print(mi_tiempo)"
      ],
      "metadata": {
        "colab": {
          "base_uri": "https://localhost:8080/"
        },
        "id": "X07mQBTz3CI-",
        "outputId": "5da6c186-9e32-45da-aff0-d98fab1a3355"
      },
      "execution_count": null,
      "outputs": [
        {
          "output_type": "stream",
          "name": "stdout",
          "text": [
            "Hour: 12, Minute: 30\n"
          ]
        }
      ]
    },
    {
      "cell_type": "markdown",
      "metadata": {
        "id": "1_NbVldpWzAs"
      },
      "source": [
        "Another way to format a string is to use the % symbol."
      ]
    },
    {
      "cell_type": "code",
      "metadata": {
        "colab": {
          "base_uri": "https://localhost:8080/"
        },
        "id": "4rZ4rkD2Oqik",
        "outputId": "de3469d2-00b5-4f39-a527-ec4179a18e29"
      },
      "source": [
        "print('the pi number is %f'%3.14)\n",
        "print('%s to %s'%('Welcome','Quantconnect'))"
      ],
      "execution_count": null,
      "outputs": [
        {
          "output_type": "stream",
          "name": "stdout",
          "text": [
            "the pi number is 3.140000\n",
            "Welcome to Quantconnect\n"
          ]
        }
      ]
    },
    {
      "cell_type": "code",
      "source": [
        "#ejemplo_cfierro\n",
        "print('El valor de pi es %f'%3.1416)    #en este caso se reemplazan los datos al usar como formato el %f y seguido se puso el valor que reemplaza en la cadena de tipo float(f).\n",
        "print('%s y %s'%('Hola','Adiós'))       #para este caso se usa el %s y luego se dan los argumentos para reemplazar que en este caso son string(s)"
      ],
      "metadata": {
        "colab": {
          "base_uri": "https://localhost:8080/"
        },
        "id": "yG4awHL-3orc",
        "outputId": "aeef0819-91c6-4937-e129-6d1634f8a829"
      },
      "execution_count": null,
      "outputs": [
        {
          "output_type": "stream",
          "name": "stdout",
          "text": [
            "El valor de pi es 3.141600\n",
            "Hola y Adiós\n"
          ]
        }
      ]
    },
    {
      "cell_type": "markdown",
      "metadata": {
        "id": "v_5cocrDW3MN"
      },
      "source": [
        "# Summary\n",
        "\n",
        "Weave seen the basic data types and data structures in Python. It's important to keep practicing to become familiar with these data structures. In the next tutorial, we will cover for and while loops and logical operations in Python."
      ]
    },
    {
      "cell_type": "markdown",
      "metadata": {
        "id": "QL6dNxwCXNEt"
      },
      "source": [
        "<div align=\"center\">\n",
        "<img style=\"display: block; margin: auto;\" alt=\"photo\" src=\"https://cdn.quantconnect.com/web/i/icon.png\">\n",
        "\n",
        "Quantconnect\n",
        "\n",
        "Introduction to Financial Python\n",
        "</div>\n",
        "\n",
        "# 02 Logical Operations and Loops\n",
        "\n",
        "# Introduction\n",
        "We discussed the basic data types and data structures in Python in the last tutorial. This chapter covers logical operations and loops in Python, which are very common in programming.\n",
        "\n",
        "# Logical Operations\n",
        "Like most programming languages, Python has comparison operators:"
      ]
    },
    {
      "cell_type": "code",
      "metadata": {
        "colab": {
          "base_uri": "https://localhost:8080/"
        },
        "id": "70Guys_rOv7a",
        "outputId": "a9c7d55f-2cba-478e-d6df-738f2612c9ee"
      },
      "source": [
        "print(1 == 0)\n",
        "print(1 == 1)\n",
        "print(1 != 0)\n",
        "print(5 >= 5)\n",
        "print(5 >= 6)"
      ],
      "execution_count": null,
      "outputs": [
        {
          "output_type": "stream",
          "name": "stdout",
          "text": [
            "False\n",
            "True\n",
            "True\n",
            "True\n",
            "False\n"
          ]
        }
      ]
    },
    {
      "cell_type": "code",
      "source": [
        "#ejemplo_cfierro\n",
        "print(2 == 1)       #compara si el primer argumento es igual al segundo. Si es verdadero es True, si no es False.\n",
        "print(13 == 13)     #compara si el primer argumento es igual al segundo. Si es verdadero es True, si no es False.\n",
        "print(5 != 2)       #compara si el primer argumento es diferente al segundo. Si es verdadero es True, si no es False.\n",
        "print(54 >= 35)     #compara si el primer argumento es mayor o igual al segundo. Si es verdadero es True, si no es False.\n",
        "print(6 >= 9)       #compara si el primer argumento es mayor o igual al segundo. Si es verdadero es True, si no es False."
      ],
      "metadata": {
        "colab": {
          "base_uri": "https://localhost:8080/"
        },
        "id": "pw9VZ6hH4-We",
        "outputId": "43e6353b-45d8-473f-da4a-109805252c13"
      },
      "execution_count": null,
      "outputs": [
        {
          "output_type": "stream",
          "name": "stdout",
          "text": [
            "False\n",
            "True\n",
            "True\n",
            "True\n",
            "False\n"
          ]
        }
      ]
    },
    {
      "cell_type": "markdown",
      "metadata": {
        "id": "8aFHYDj-YTXt"
      },
      "source": [
        "Each statement above has a boolean value, which must be either True or False, but not both.\n",
        "\n",
        "We can combine simple statements P and Q to form complex statements using logical operators:\n",
        "\n",
        "- The statement \"P and Q\" is true if both P and Q are true, otherwise it is false.\n",
        "- The statement \"P or Q\" is false if both P and Q are false, otherwise it is true.\n",
        "- The statement \"not P\" is true if P is false, and vice versa."
      ]
    },
    {
      "cell_type": "code",
      "metadata": {
        "colab": {
          "base_uri": "https://localhost:8080/"
        },
        "id": "O5YEEcUbOv7d",
        "outputId": "801d3b77-9057-49da-d83e-95ee13c7bcf5"
      },
      "source": [
        "print(2 > 1 and 3 > 2)\n",
        "print(2 > 1 and 3 < 2) \n",
        "print(2 > 1 or 3 < 2)\n",
        "print(2 < 1 and 3 < 2)"
      ],
      "execution_count": null,
      "outputs": [
        {
          "output_type": "stream",
          "name": "stdout",
          "text": [
            "True\n",
            "False\n",
            "True\n",
            "False\n"
          ]
        }
      ]
    },
    {
      "cell_type": "code",
      "source": [
        "#ejemplo_cfierro\n",
        "print(5 > 3 and 52 > 32)    #combina las operaciones y compara por partes, primero mira el \"lado\" izquierdo y luego el derecho. Si ambos son verdaderos, resulta el and en True pero si no resula en False.\n",
        "print(10 > 2 and 13 < 1)    #combina las operaciones y compara por partes, primero mira el \"lado\" izquierdo y luego el derecho. Si ambos son verdaderos, resulta el and en True pero si no resula en False.\n",
        "print(15 > 5 or 18 < 1)     #combina las operaciones y compara por partes, primero mira el \"lado\" izquierdo y luego el derecho. Si ambos son verdaderos, resulta el and en True pero si no resula en False.\n",
        "print(21 < 13 and 53 < 20)  #combina las operaciones y compara por partes, primero mira el \"lado\" izquierdo y luego el derecho. Si ambos son verdaderos, resulta el and en True pero si no resula en False."
      ],
      "metadata": {
        "colab": {
          "base_uri": "https://localhost:8080/"
        },
        "id": "gqmPnhKB5-KY",
        "outputId": "78938cf4-ed47-48b4-ba88-7a18ee514fcc"
      },
      "execution_count": null,
      "outputs": [
        {
          "output_type": "stream",
          "name": "stdout",
          "text": [
            "True\n",
            "False\n",
            "True\n",
            "False\n"
          ]
        }
      ]
    },
    {
      "cell_type": "markdown",
      "metadata": {
        "id": "Dy7yzoSXYXmL"
      },
      "source": [
        "When dealing with a very complex logical statement that involves in several statements, we can use brackets to separate and combine them."
      ]
    },
    {
      "cell_type": "code",
      "metadata": {
        "colab": {
          "base_uri": "https://localhost:8080/"
        },
        "id": "QZ-W2xJZOv7d",
        "outputId": "3f2948eb-86ef-4585-a240-db7993e3413c"
      },
      "source": [
        "print((3 > 2 or 1 < 3) and (1!=3 and 4>3) and not ( 3 < 2 or 1 < 3 and (1!=3 and 4>3)))\n",
        "print(3 > 2 or 1 < 3 and (1!=3 and 4>3) and not ( 3 < 2 or 1 < 3 and (1!=3 and 4>3)))"
      ],
      "execution_count": null,
      "outputs": [
        {
          "output_type": "stream",
          "name": "stdout",
          "text": [
            "False\n",
            "True\n"
          ]
        }
      ]
    },
    {
      "cell_type": "code",
      "source": [
        "#ejemplo_cfierro\n",
        "print((13 > 1 or 5 < 7) and (2!=10 and 13>2) and not ( 6 < 1 or 2 < 9 and (2!=5 and 12>2)))\n",
        "#como en el anterior, compara todos los argumentos externos luego de comparar los internos, pero el not altera el resultado, pues si es True cambia a False y viceversa. Y al final si todos los argumentos son True, resulta en True, de resto False.\n",
        "print(10 > 1 or 6 < 8 and (2!=4 and 7>2) and not ( 19 < 5 or 4 < 9 and (4!=56 and 42>1)))  \n",
        "#como en el anterior, compara todos los argumentos externos luego de comparar los internos, pero el not altera el resultado, pues si es True cambia a False y viceversa. Y al final si todos los argumentos son True, resulta en True, de resto False."
      ],
      "metadata": {
        "colab": {
          "base_uri": "https://localhost:8080/"
        },
        "id": "qepVIUJ87Hws",
        "outputId": "0f76ed7e-f74d-41f1-ee9b-c26ba944d169"
      },
      "execution_count": null,
      "outputs": [
        {
          "output_type": "stream",
          "name": "stdout",
          "text": [
            "False\n",
            "True\n"
          ]
        }
      ]
    },
    {
      "cell_type": "markdown",
      "metadata": {
        "id": "s95xoRYMYaPD"
      },
      "source": [
        "Comparing the above two statements, we can see that it's wise to use brackets when we make a complex logical statement.\n",
        "\n",
        "# If Statement\n",
        "An if statement executes a segment of code only if its condition is true. A standard if statement consists of 3 segments: if, elif and else."
      ]
    },
    {
      "cell_type": "markdown",
      "metadata": {
        "id": "aRzMMitAaBOL"
      },
      "source": [
        "```python\n",
        "if statement1:\n",
        "    # if the statement1 is true, execute the code here.\n",
        "    # code.....\n",
        "    # code.....\n",
        "elif statement2:\n",
        "    # if the statement 1 is false, skip the codes above to this part.\n",
        "    # code......\n",
        "    # code......\n",
        "else:\n",
        "    # if none of the above statements is True, skip to this part\n",
        "    # code......\n",
        "```"
      ]
    },
    {
      "cell_type": "markdown",
      "metadata": {
        "id": "l59R2AS8aH2K"
      },
      "source": [
        "An if statement doesn't necessarily has elif and else part. If it's not specified, the indented block of code will be executed when the condition is true, otherwise the whole if statement will be skipped."
      ]
    },
    {
      "cell_type": "code",
      "metadata": {
        "colab": {
          "base_uri": "https://localhost:8080/"
        },
        "id": "FZ5GoTXfOv7e",
        "outputId": "5c3884c2-4c3f-49b2-96ba-3b395a84d5d7"
      },
      "source": [
        "i = 0\n",
        "if i == 0:\n",
        "    print('i==0 is True')"
      ],
      "execution_count": null,
      "outputs": [
        {
          "output_type": "stream",
          "name": "stdout",
          "text": [
            "i==0 is True\n"
          ]
        }
      ]
    },
    {
      "cell_type": "code",
      "source": [
        "#ejemplo_cfierro\n",
        "i = 10\n",
        "if i == 10:                  #este condicional funciona con True o False, si se cumple la condición se pasa a lo que haya dentro del if, si no se cumple pasa todo lo que se encuentre identado.\n",
        "    print('i==10 is True')   #esta sentencia solo se ejecuta si se cumple la condición del if."
      ],
      "metadata": {
        "id": "LVUPIdIH8t5_",
        "colab": {
          "base_uri": "https://localhost:8080/"
        },
        "outputId": "073bed78-5ba7-463e-94c2-0f3c566051f5"
      },
      "execution_count": null,
      "outputs": [
        {
          "output_type": "stream",
          "name": "stdout",
          "text": [
            "i==10 is True\n"
          ]
        }
      ]
    },
    {
      "cell_type": "markdown",
      "metadata": {
        "id": "nPNW-l5eaJn8"
      },
      "source": [
        "As we mentioned above, we can write some complex statements here:"
      ]
    },
    {
      "cell_type": "code",
      "metadata": {
        "colab": {
          "base_uri": "https://localhost:8080/"
        },
        "id": "gh-U6nMzOv7e",
        "outputId": "bad7a789-c386-4f80-df5e-5216ef9231f6"
      },
      "source": [
        "p = 1 > 0\n",
        "q = 2 > 3\n",
        "if p and q:\n",
        "    print('p and q is true')\n",
        "elif p and not q:\n",
        "    print('q is false')\n",
        "elif q and not p:\n",
        "    print('p is false')\n",
        "else:\n",
        "    print('None of p and q is true')"
      ],
      "execution_count": null,
      "outputs": [
        {
          "output_type": "stream",
          "name": "stdout",
          "text": [
            "q is false\n"
          ]
        }
      ]
    },
    {
      "cell_type": "code",
      "source": [
        "#ejemplo_cfierro\n",
        "p = 20 > 35\n",
        "q = 1 > 3\n",
        "if p and q:                             #en esta condición, p y q son True.\n",
        "    print('p and q is true')            \n",
        "elif p and not q:                       #en esta condición, p es True pero q es False pero se ejecuta si el if de arriba no fue ejecutado.\n",
        "    print('q is false')                 \n",
        "elif q and not p:                       #en esta condición, p es False pero q es True pero se ejecuta si el if de arriba no fue ejecutado.\n",
        "    print('p is false')                 \n",
        "else:                                   #en esta condición, p y q son False y se ejecuta cuando los if de arriba no se ejecutaron.\n",
        "    print('None of p and q is true')    "
      ],
      "metadata": {
        "colab": {
          "base_uri": "https://localhost:8080/"
        },
        "id": "5LtUhIen-L1P",
        "outputId": "95ea0126-cf2b-45b1-fba7-cfc93d22cf44"
      },
      "execution_count": null,
      "outputs": [
        {
          "output_type": "stream",
          "name": "stdout",
          "text": [
            "None of p and q is true\n"
          ]
        }
      ]
    },
    {
      "cell_type": "markdown",
      "metadata": {
        "id": "tgRDwiAsaMOL"
      },
      "source": [
        "# Loop Structure\n",
        "Loops are an essential part of programming. The \"for\" and \"while\" loops run a block of code repeatedly.\n",
        "\n",
        "## While Loop\n",
        "A \"while\" loop will run repeatedly until a certain condition has been met."
      ]
    },
    {
      "cell_type": "code",
      "metadata": {
        "colab": {
          "base_uri": "https://localhost:8080/"
        },
        "id": "uQLau8d5Ov7f",
        "outputId": "70150b70-1f2d-4f7a-b255-867ee50d64de"
      },
      "source": [
        "i = 0\n",
        "while i < 5:\n",
        "    print(i)\n",
        "    i += 1 "
      ],
      "execution_count": null,
      "outputs": [
        {
          "output_type": "stream",
          "name": "stdout",
          "text": [
            "0\n",
            "1\n",
            "2\n",
            "3\n",
            "4\n"
          ]
        }
      ]
    },
    {
      "cell_type": "code",
      "source": [
        "#ejemplo_cfierro\n",
        "i = 0\n",
        "while i < 7:    #el while es un ciclo que se repite mientras su argumento sea True. Si se ejecuta, todas las sentencias identadas se ejecutarán. Si es False, se salta todo el while.\n",
        "    print(i)    \n",
        "    i += 1      #en esta sentencia lo que se busca es incrementar el valor de \"i\" a lo largo de las iteraciones, con el fin de llegar al punto donde el while tiene como argumento False y termina su ciclo."
      ],
      "metadata": {
        "colab": {
          "base_uri": "https://localhost:8080/"
        },
        "id": "mWbDtjy5AXl-",
        "outputId": "2c782526-ac4f-4155-d08f-410a78fcafad"
      },
      "execution_count": null,
      "outputs": [
        {
          "output_type": "stream",
          "name": "stdout",
          "text": [
            "0\n",
            "1\n",
            "2\n",
            "3\n",
            "4\n",
            "5\n",
            "6\n"
          ]
        }
      ]
    },
    {
      "cell_type": "markdown",
      "metadata": {
        "id": "ydLddFAPaTOE"
      },
      "source": [
        "When making a while loop, we need to ensure that something changes from iteration to iteration so that the while loop will terminate, otherwise, it will run forever. Here we used i += 1 (short for i = i + 1) to make i larger after each iteration. This is the most commonly used method to control a while loop.\n",
        "\n",
        "## For Loop\n",
        "A \"for\" loop will iterate over a sequence of value and terminate when the sequence has ended."
      ]
    },
    {
      "cell_type": "code",
      "metadata": {
        "colab": {
          "base_uri": "https://localhost:8080/"
        },
        "id": "kt8Ie8u1Ov7f",
        "outputId": "318ce37d-f992-4d80-9fde-d585e1f7569d"
      },
      "source": [
        "for i in [1,2,3,4,5]:\n",
        "    print(i)"
      ],
      "execution_count": null,
      "outputs": [
        {
          "output_type": "stream",
          "name": "stdout",
          "text": [
            "1\n",
            "2\n",
            "3\n",
            "4\n",
            "5\n"
          ]
        }
      ]
    },
    {
      "cell_type": "code",
      "source": [
        "#ejemplo_cfierro\n",
        "for i in [1,2,3,4,5]:   #el for es un ciclo finito, con un límite establecido que ejecuta esa cantidad de veces lo que haya dentro del for.\n",
        "    print(i)"
      ],
      "metadata": {
        "id": "0Wvgd9XTBJew",
        "colab": {
          "base_uri": "https://localhost:8080/"
        },
        "outputId": "2a0aac60-dc9e-4862-b4bc-20ff5962d41b"
      },
      "execution_count": null,
      "outputs": [
        {
          "output_type": "stream",
          "name": "stdout",
          "text": [
            "1\n",
            "2\n",
            "3\n",
            "4\n",
            "5\n"
          ]
        }
      ]
    },
    {
      "cell_type": "markdown",
      "metadata": {
        "id": "yWStqpreaX-T"
      },
      "source": [
        "We can also add if statements in a for loop. Here is a real example from our pairs trading algorithm:"
      ]
    },
    {
      "cell_type": "code",
      "metadata": {
        "colab": {
          "base_uri": "https://localhost:8080/"
        },
        "id": "kElmffvFOv7f",
        "outputId": "6241e1fa-2061-44b5-93d7-75fce42d7570"
      },
      "source": [
        "stocks = ['AAPL','GOOG','IBM','FB','F','V', 'G', 'GE']\n",
        "selected = ['AAPL','IBM']\n",
        "new_list = []\n",
        "for i in stocks:\n",
        "    if i not in selected:\n",
        "        new_list.append(i)\n",
        "print(stocks)"
      ],
      "execution_count": null,
      "outputs": [
        {
          "output_type": "stream",
          "name": "stdout",
          "text": [
            "['AAPL', 'GOOG', 'IBM', 'FB', 'F', 'V', 'G', 'GE']\n"
          ]
        }
      ]
    },
    {
      "cell_type": "code",
      "source": [
        "#ejemplo_cfierro\n",
        "lista_stock=['Python','C','C','Django','Julia','Java','Python','Java']\n",
        "seleccion=[\"Python\",\"C\"]\n",
        "nueva=[]\n",
        "for i in lista_stock:       #en este ciclo for se toman los elementos de la lista uno a uno para asignarse a la variable \"i\".\n",
        "    if i not in seleccion:  #se compara la variable \"i\" con la lista \"seleccion\". Si \"i\" no está en \"seleccion\" se usa append() para añadir el elemento a la lista \"nueva\".\n",
        "        nueva.append(i)\n",
        "print(nueva)"
      ],
      "metadata": {
        "colab": {
          "base_uri": "https://localhost:8080/"
        },
        "id": "PfEEzC7iCASv",
        "outputId": "ba2384a4-2a38-4197-eedb-d72198425e24"
      },
      "execution_count": null,
      "outputs": [
        {
          "output_type": "stream",
          "name": "stdout",
          "text": [
            "['Django', 'Julia', 'Java', 'Java']\n"
          ]
        }
      ]
    },
    {
      "cell_type": "markdown",
      "metadata": {
        "id": "wb2hry9dahE0"
      },
      "source": [
        "Here we iterated all the elements in the list 'stocks'. Later in this chapter, we will introduce a smarter way to do this, which is just a one-line code.\n",
        "\n",
        "## Break and continue\n",
        "These are two commonly used commands in a for loop. If \"break\" is triggered while a loop is executing, the loop will terminate immediately:"
      ]
    },
    {
      "cell_type": "code",
      "metadata": {
        "colab": {
          "base_uri": "https://localhost:8080/"
        },
        "id": "yF5wMVItOv7g",
        "outputId": "7e4b0edc-35ef-40e6-86d6-01145d3f2797"
      },
      "source": [
        "stocks = ['AAPL','GOOG','IBM','FB','F','V', 'G', 'GE']\n",
        "for i in stocks:\n",
        "    print(i)\n",
        "    if i == 'FB':\n",
        "        break"
      ],
      "execution_count": null,
      "outputs": [
        {
          "output_type": "stream",
          "name": "stdout",
          "text": [
            "AAPL\n",
            "GOOG\n",
            "IBM\n",
            "FB\n"
          ]
        }
      ]
    },
    {
      "cell_type": "code",
      "source": [
        "#ejemplo_cfierro\n",
        "lista_stock=['Python','C','C','Django','Julia','Java','Python','Java']\n",
        "for i in lista_stock:   #hace un ciclo for con cada elemento de la lista\n",
        "    print(i)            \n",
        "    if i == \"Julia\":    #si el elemento que se está comparando es igual a \"Julia\"(en este caso), el argumento de la comparación, se ejecuta el if.\n",
        "        break           #esta sentencia rompe el ciclo, lo que hace que acabe así queden iteraciones por hacer."
      ],
      "metadata": {
        "colab": {
          "base_uri": "https://localhost:8080/"
        },
        "id": "ihdj5QVWECHH",
        "outputId": "d66d6248-02ee-4cb9-f285-1a8d6ca716ec"
      },
      "execution_count": null,
      "outputs": [
        {
          "output_type": "stream",
          "name": "stdout",
          "text": [
            "Python\n",
            "C\n",
            "C\n",
            "Django\n",
            "Julia\n"
          ]
        }
      ]
    },
    {
      "cell_type": "markdown",
      "metadata": {
        "id": "R0toxyp3ao0T"
      },
      "source": [
        "The \"continue\" command tells the loop to end this iteration and skip to the next iteration:"
      ]
    },
    {
      "cell_type": "code",
      "metadata": {
        "colab": {
          "base_uri": "https://localhost:8080/"
        },
        "id": "Stg-CH6IOv7g",
        "outputId": "cdc6a9a7-b1a3-49e8-e5b1-5459d851c8e3"
      },
      "source": [
        "stocks = ['AAPL','GOOG','IBM','FB','F','V', 'G', 'GE']\n",
        "for i in stocks:\n",
        "    if i == 'FB':\n",
        "        continue\n",
        "    print(i)"
      ],
      "execution_count": null,
      "outputs": [
        {
          "output_type": "stream",
          "name": "stdout",
          "text": [
            "AAPL\n",
            "GOOG\n",
            "IBM\n",
            "F\n",
            "V\n",
            "G\n",
            "GE\n"
          ]
        }
      ]
    },
    {
      "cell_type": "code",
      "source": [
        "#ejemplo_cfierro\n",
        "lista_stock=['Python','C','C','Django','Julia','Java','Python','Java']\n",
        "for i in lista_stock:\n",
        "    if i ==\"Java\":  #si el elemento comparado es igual al argumento se ejecuta el if.\n",
        "        continue    #esta sentencia se aplica y salta el resto del ciclo pero no se termina, por lo tanto es como saltarse un ciclo.\n",
        "    print(i)"
      ],
      "metadata": {
        "colab": {
          "base_uri": "https://localhost:8080/"
        },
        "id": "jcUyeN81FnPw",
        "outputId": "2190f313-f3b4-4278-81db-f89c70578b3a"
      },
      "execution_count": null,
      "outputs": [
        {
          "output_type": "stream",
          "name": "stdout",
          "text": [
            "Python\n",
            "C\n",
            "C\n",
            "Django\n",
            "Julia\n",
            "Python\n"
          ]
        }
      ]
    },
    {
      "cell_type": "markdown",
      "metadata": {
        "id": "4NusvdhBaxpZ"
      },
      "source": [
        "# List Comprehension\n",
        "List comprehension is a Pythonic way to create lists. Common applications are to make new lists where each element is the result of some operations applied to each member of another sequence. For example, if we want to create a list of squares using for loop:"
      ]
    },
    {
      "cell_type": "code",
      "metadata": {
        "colab": {
          "base_uri": "https://localhost:8080/"
        },
        "id": "bdxxeOABOv7h",
        "outputId": "3b342b49-f84c-4c07-dda5-e35cde3eac32"
      },
      "source": [
        "squares = []\n",
        "for i in [1,2,3,4,5]:\n",
        "    squares.append(i**2)\n",
        "print(squares)"
      ],
      "execution_count": null,
      "outputs": [
        {
          "output_type": "stream",
          "name": "stdout",
          "text": [
            "[1, 4, 9, 16, 25]\n"
          ]
        }
      ]
    },
    {
      "cell_type": "code",
      "source": [
        "#ejemplo_cfierro\n",
        "cubicos = []\n",
        "for i in [1,2,3,4,5]:\n",
        "    cubicos.append(i**3)    #en esta sentencia se usa el método append() para agregar los elementos del for pero dentro del argumento se usa la potenciación y ese argumento es el que se agrega.\n",
        "print(cubicos)"
      ],
      "metadata": {
        "colab": {
          "base_uri": "https://localhost:8080/"
        },
        "id": "0g3z4tloGyNT",
        "outputId": "0f210d27-272f-4b0d-92af-588e32f94cd1"
      },
      "execution_count": null,
      "outputs": [
        {
          "output_type": "stream",
          "name": "stdout",
          "text": [
            "[1, 8, 27, 64, 125]\n"
          ]
        }
      ]
    },
    {
      "cell_type": "markdown",
      "metadata": {
        "id": "--KliJBOa1CC"
      },
      "source": [
        "Using list comprehension:"
      ]
    },
    {
      "cell_type": "code",
      "metadata": {
        "colab": {
          "base_uri": "https://localhost:8080/"
        },
        "id": "440-yjG8Ov7h",
        "outputId": "e8349f86-dfa8-4c97-c6f3-8e9568d2cb79"
      },
      "source": [
        "list = [1,2,3,4,5]\n",
        "squares = [x**2 for x in list]\n",
        "print(squares)"
      ],
      "execution_count": null,
      "outputs": [
        {
          "output_type": "stream",
          "name": "stdout",
          "text": [
            "[1, 4, 9, 16, 25]\n"
          ]
        }
      ]
    },
    {
      "cell_type": "code",
      "source": [
        "#ejemplo_cfierro\n",
        "list = [1,2,3,4,5]\n",
        "cubicos = [x**3 for x in list]  #en este caso, se ve como por la comprehensión se usa una lista en la que se da el argumento similar al for pero comprimiendo la ejecución.\n",
        "print(cubicos)"
      ],
      "metadata": {
        "id": "WaQvO8ylH1I5",
        "colab": {
          "base_uri": "https://localhost:8080/"
        },
        "outputId": "7ea44834-f8fa-4c36-a000-64e871a717cf"
      },
      "execution_count": null,
      "outputs": [
        {
          "output_type": "stream",
          "name": "stdout",
          "text": [
            "[1, 8, 27, 64, 125]\n"
          ]
        }
      ]
    },
    {
      "cell_type": "markdown",
      "metadata": {
        "id": "uMuCfR3ya3zT"
      },
      "source": [
        "Recall the example above where we used a for loop to select stocks. Here we use list comprehension:"
      ]
    },
    {
      "cell_type": "code",
      "metadata": {
        "colab": {
          "base_uri": "https://localhost:8080/"
        },
        "id": "ZGtCtog2Ov7h",
        "outputId": "0b220479-e371-4540-a11f-c6aed673ab64"
      },
      "source": [
        "stocks = ['AAPL','GOOG','IBM','FB','F','V', 'G', 'GE']\n",
        "selected = ['AAPL','IBM']\n",
        "new_list = [x for x in stocks if x in selected]\n",
        "print(new_list)"
      ],
      "execution_count": null,
      "outputs": [
        {
          "output_type": "stream",
          "name": "stdout",
          "text": [
            "['AAPL', 'IBM']\n"
          ]
        }
      ]
    },
    {
      "cell_type": "code",
      "source": [
        "#ejemplo_cfierro\n",
        "lista_stock=['Python','C','C','Django','Julia','Java','Python','Java']\n",
        "seleccion=['Python','C']\n",
        "nuevo = [x for x in lista_stock if x in seleccion]  #para la creación de esta lista, se usa la comprehensión para hacer que se agreguen los elementos cumpliendo con los argumentos de que esté en ambas listas.\n",
        "print(nuevo)"
      ],
      "metadata": {
        "colab": {
          "base_uri": "https://localhost:8080/"
        },
        "id": "zVE2L7bQIV1f",
        "outputId": "f83f3c01-7015-49d7-8402-426b024724d5"
      },
      "execution_count": null,
      "outputs": [
        {
          "output_type": "stream",
          "name": "stdout",
          "text": [
            "['Python', 'C', 'C', 'Python']\n"
          ]
        }
      ]
    },
    {
      "cell_type": "markdown",
      "metadata": {
        "id": "EPeUv6Lia5oD"
      },
      "source": [
        "A list comprehension consists of square brackets containing an expression followed by a \"for\" clause, and possibly \"for\" or \"if\" clauses. For example:"
      ]
    },
    {
      "cell_type": "code",
      "metadata": {
        "colab": {
          "base_uri": "https://localhost:8080/"
        },
        "id": "O1AMB5d7Ov7i",
        "outputId": "7b85678f-b1bb-4228-ccc1-10e171f56944"
      },
      "source": [
        "print([(x, y) for x in [1,2,3] for y in [3,1,4] if x != y])\n",
        "print([str(x)+' vs '+str(y) for x in ['AAPL','GOOG','IBM','FB'] for y in ['F','V','G','GE'] if x!=y])"
      ],
      "execution_count": null,
      "outputs": [
        {
          "output_type": "stream",
          "name": "stdout",
          "text": [
            "[(1, 3), (1, 4), (2, 3), (2, 1), (2, 4), (3, 1), (3, 4)]\n",
            "['AAPL vs F', 'AAPL vs V', 'AAPL vs G', 'AAPL vs GE', 'GOOG vs F', 'GOOG vs V', 'GOOG vs G', 'GOOG vs GE', 'IBM vs F', 'IBM vs V', 'IBM vs G', 'IBM vs GE', 'FB vs F', 'FB vs V', 'FB vs G', 'FB vs GE']\n"
          ]
        }
      ]
    },
    {
      "cell_type": "code",
      "source": [
        "#ejemplo_cfierro\n",
        "print([(x, y) for x in [2,4,6] for y in [1,2,6] if x != y])                                                \n",
        "#aqui se imprime la lista creada por comprehension para el \"x\" y \"y\" siempre los elementos que no sean iguales. \"x\" y \"y\" se eligieron de manera anidada. Primero funciona para \"x\" y con cada elemento se aplica para todos los elementos de \"y\".\n",
        "print([str(x)+' vs '+str(y) for x in ['Python','C','Django',] for y in ['Julia','Java','Python'] if x!=y]) \n",
        "#aqui se imprime la lista creada por comprehension para el \"x\" y \"y\" siempre los elementos que no sean iguales. \"x\" y \"y\" se eligieron de manera anidada. Primero funciona para \"x\" y con cada elemento se aplica para todos los elementos de \"y\"."
      ],
      "metadata": {
        "colab": {
          "base_uri": "https://localhost:8080/"
        },
        "id": "MyqxqWr6JCYi",
        "outputId": "a045933a-c5bf-47b9-d2eb-9888829ccaa9"
      },
      "execution_count": null,
      "outputs": [
        {
          "output_type": "stream",
          "name": "stdout",
          "text": [
            "[(2, 1), (2, 6), (4, 1), (4, 2), (4, 6), (6, 1), (6, 2)]\n",
            "['Python vs Julia', 'Python vs Java', 'C vs Julia', 'C vs Java', 'C vs Python', 'Django vs Julia', 'Django vs Java', 'Django vs Python']\n"
          ]
        }
      ]
    },
    {
      "cell_type": "markdown",
      "metadata": {
        "id": "jJpvq-o4a8P7"
      },
      "source": [
        "List comprehension is an elegant way to organize one or more for loops when creating a list.\n",
        "\n",
        "# Summary\n",
        "This chapter has introduced logical operations, loops, and list comprehension. In the next chapter, we will introduce functions and object-oriented programming, which will enable us to make our codes clean and versatile."
      ]
    },
    {
      "cell_type": "markdown",
      "metadata": {
        "id": "Tef_X2wJbdhn"
      },
      "source": [
        "<div align=\"center\">\n",
        "<img style=\"display: block; margin: auto;\" alt=\"photo\" src=\"https://cdn.quantconnect.com/web/i/icon.png\">\n",
        "\n",
        "Quantconnect\n",
        "\n",
        "Introduction to Financial Python\n",
        "</div>\n",
        "\n",
        "# 03 Functions and Objective-Oriented Programming\n",
        "\n",
        "# Introduction\n",
        "\n",
        "In the last tutorial we introduced logical operations, loops and list comprehension. We will introduce functions and object-oriented programming in this chapter, which will enable us to build complex algorithms in more flexible ways.\n",
        "\n",
        "# Functions\n",
        "A function is a reusable block of code. We can use a function to output a value, or do anything else we want. We can easily define our own function by using the keyword \"def\"."
      ]
    },
    {
      "cell_type": "code",
      "metadata": {
        "colab": {
          "base_uri": "https://localhost:8080/"
        },
        "id": "eE_NkTiSO2PO",
        "outputId": "beb13fc4-4c13-43ad-9677-4216ffeab541"
      },
      "source": [
        "def product(x,y):\n",
        "    return x*y\n",
        "print(product(2,3))\n",
        "print(product(5,10))"
      ],
      "execution_count": null,
      "outputs": [
        {
          "output_type": "stream",
          "name": "stdout",
          "text": [
            "6\n",
            "50\n"
          ]
        }
      ]
    },
    {
      "cell_type": "code",
      "source": [
        "#ejemplo_cfierro\n",
        "def multiplicar(x,y):       #en esta sentencia se define una función que ejecutará las sentencias identadas cada vez que sea llamada. Los argumentos se dan en un orden establecido.\n",
        "    return x*y\n",
        "print(multiplicar(2,3))     #primero se llama la función \"multiplicar\" y se le dan dos argumentos. Se va a la función donde se retorna el valor multiplicado. Este valor retornado es el que queda para imprimir.\n",
        "print(multiplicar(5,10))    #primero se llama la función \"multiplicar\" y se le dan dos argumentos. Se va a la función donde se retorna el valor multiplicado. Este valor retornado es el que queda para imprimir."
      ],
      "metadata": {
        "colab": {
          "base_uri": "https://localhost:8080/"
        },
        "id": "TUg0ObDLLoEA",
        "outputId": "6b952368-32ec-4eb3-cc97-88eaf674362d"
      },
      "execution_count": null,
      "outputs": [
        {
          "output_type": "stream",
          "name": "stdout",
          "text": [
            "6\n",
            "50\n"
          ]
        }
      ]
    },
    {
      "cell_type": "markdown",
      "metadata": {
        "id": "4oRU_dVJbsdD"
      },
      "source": [
        "The keyword \"def\" is followed by the function name and the parenthesized list of formal parameters. The statements that form the body of the function start at the next line, and must be indented. The product() function above has \"x\" and \"y\" as its parameters. A function doesn't necessarily have parameters:"
      ]
    },
    {
      "cell_type": "code",
      "metadata": {
        "colab": {
          "base_uri": "https://localhost:8080/"
        },
        "id": "JhdWVLbUO2PQ",
        "outputId": "36d62971-6dd4-435a-e513-b7c04b332b0a"
      },
      "source": [
        "def say_hi():\n",
        "    print('Welcome to QuantConnect')\n",
        "say_hi()"
      ],
      "execution_count": null,
      "outputs": [
        {
          "output_type": "stream",
          "name": "stdout",
          "text": [
            "Welcome to QuantConnect\n"
          ]
        }
      ]
    },
    {
      "cell_type": "code",
      "source": [
        "#ejemplo_cfierro\n",
        "def Saluda():\n",
        "    print('Hola Mundo')     #Aqui se da la sentencia a ejecutar cada vez que se llama la función, sin importar el parámetro pues no es necesario.\n",
        "Saluda()                    #Aqui se llama la función sin necesidad de tener un print o algo más, pues el resultado se ejecuta dentro de la función."
      ],
      "metadata": {
        "colab": {
          "base_uri": "https://localhost:8080/"
        },
        "id": "NeJTKtzpMXw3",
        "outputId": "0c46b432-cc72-4b0b-ca8a-f79dc2c3fb1b"
      },
      "execution_count": null,
      "outputs": [
        {
          "output_type": "stream",
          "name": "stdout",
          "text": [
            "Hola Mundo\n"
          ]
        }
      ]
    },
    {
      "cell_type": "markdown",
      "metadata": {
        "id": "lHwqVpWVb1Jr"
      },
      "source": [
        "# Built-in Function\n",
        "**range()** is a function that creates a list containing an arithmetic sequence. It's often used in for loops. The arguments must be integers. If the \"step\" argument is omitted, it defaults to 1."
      ]
    },
    {
      "cell_type": "code",
      "metadata": {
        "colab": {
          "base_uri": "https://localhost:8080/"
        },
        "id": "VVOTELcIO2PQ",
        "outputId": "3e07c412-4f87-4f02-abc4-44a53ee72820"
      },
      "source": [
        "print(range(10))\n",
        "print(range(1,11))\n",
        "print(range(1,11,2))"
      ],
      "execution_count": null,
      "outputs": [
        {
          "output_type": "stream",
          "name": "stdout",
          "text": [
            "range(0, 10)\n",
            "range(1, 11)\n",
            "range(1, 11, 2)\n"
          ]
        }
      ]
    },
    {
      "cell_type": "code",
      "source": [
        "#ejemplo_cfierro\n",
        "print(range(14))        #en esta sentencia lo que se busca es crear un rango de valores, pero al dar un solo argumento este se toma como el argumento final y el inicial se toma como un cero.\n",
        "print(range(3,12))      #en esta sentencia se busca crear un rango de valores comprendido entre los dos argumentos dados.\n",
        "print(range(1,14,3))    #en esta sentencia se busca crear un rango de valores comprendido entre los dos primeros argumentos dados, pero con la condición de que el tercer argumento es la distancia entre valores."
      ],
      "metadata": {
        "colab": {
          "base_uri": "https://localhost:8080/"
        },
        "id": "lSq3iluZLPsY",
        "outputId": "d2edec0d-b17b-4e1b-f9e6-369c33c2f5c2"
      },
      "execution_count": null,
      "outputs": [
        {
          "output_type": "stream",
          "name": "stdout",
          "text": [
            "range(0, 14)\n",
            "range(3, 12)\n",
            "range(1, 14, 3)\n"
          ]
        }
      ]
    },
    {
      "cell_type": "markdown",
      "metadata": {
        "id": "PD0cSgiwcQ4L"
      },
      "source": [
        "**len()** is another function used together with range() to create a for loop. This function returns the length of an object. The argument must be a sequence or a collection."
      ]
    },
    {
      "cell_type": "code",
      "metadata": {
        "colab": {
          "base_uri": "https://localhost:8080/"
        },
        "id": "Hg18c7v-O2PR",
        "outputId": "4344d565-5851-4ca8-8ae6-d8e9555fa5a0"
      },
      "source": [
        "tickers = ['AAPL','GOOG','IBM','FB','F','V', 'G', 'GE']\n",
        "print('The length of tickers is {}'.format(len(tickers)))\n",
        "for i in range(len(tickers)):\n",
        "    print(tickers[i])"
      ],
      "execution_count": null,
      "outputs": [
        {
          "output_type": "stream",
          "name": "stdout",
          "text": [
            "The length of tickers is 8\n",
            "AAPL\n",
            "GOOG\n",
            "IBM\n",
            "FB\n",
            "F\n",
            "V\n",
            "G\n",
            "GE\n"
          ]
        }
      ]
    },
    {
      "cell_type": "code",
      "source": [
        "#ejemplo_cfierro\n",
        "lista_stock=['Python','C','Django','Julia','Java','Python']\n",
        "print('The length of lista_stock is {}'.format(len(lista_stock)))   #en esta sentencia se usa el .format para imprimir una cadena. En este caso, el formato aplica con el valor obtenido del método len() de la lista.\n",
        "for i in range(len(lista_stock)):                                   #se usa un for y el método range() con un solo argumento que corresponde a la longitud de la lista. Esto recorrerá la lista de inicio a fin con \"i\" como el index.\n",
        "    print(lista_stock[i])                                           #como se mencionó anteriormente, \"i\" se usa como el index para imprimir los elementos de la lista uno a uno."
      ],
      "metadata": {
        "colab": {
          "base_uri": "https://localhost:8080/"
        },
        "id": "DMHFzUWkMPHl",
        "outputId": "b777f79b-de96-4507-adff-39565d92e09e"
      },
      "execution_count": null,
      "outputs": [
        {
          "output_type": "stream",
          "name": "stdout",
          "text": [
            "The length of lista_stock is 6\n",
            "Python\n",
            "C\n",
            "Django\n",
            "Julia\n",
            "Java\n",
            "Python\n"
          ]
        }
      ]
    },
    {
      "cell_type": "markdown",
      "metadata": {
        "id": "OIQSuub1cWgi"
      },
      "source": [
        "Note: If you want to print only the tickers without those numbers, then simply write \"for ticker in tickers: print ticker\"\n",
        "\n",
        "**map(**) is a function that applies a specific function to every item of a sequence or collection, and returns a list of the results."
      ]
    },
    {
      "cell_type": "markdown",
      "metadata": {
        "id": "pqPuspeG5HAi"
      },
      "source": [
        "Because list at the moment is [1,2,3,4,5] and overwriting list() from builtins we del list"
      ]
    },
    {
      "cell_type": "code",
      "metadata": {
        "colab": {
          "base_uri": "https://localhost:8080/"
        },
        "id": "caV9c-qk4_eZ",
        "outputId": "bb10a830-9b9a-49d7-fb65-288eb5903654"
      },
      "source": [
        "list=[1,2,3,4,5]\n",
        "print(list)\n",
        "del list\n",
        "list"
      ],
      "execution_count": null,
      "outputs": [
        {
          "output_type": "stream",
          "name": "stdout",
          "text": [
            "[1, 2, 3, 4, 5]\n"
          ]
        },
        {
          "output_type": "execute_result",
          "data": {
            "text/plain": [
              "list"
            ]
          },
          "metadata": {},
          "execution_count": 368
        }
      ]
    },
    {
      "cell_type": "code",
      "source": [
        "#ejemplo_cfierro\n",
        "list=[5,6,7,8,9]\n",
        "print(list)     #se imprime la lista creada \n",
        "del list        #usando el método del borramos esta lista y a continuación se usa el método list, lo que imprime \"list\" pues no tiene información guardada.\n",
        "list"
      ],
      "metadata": {
        "colab": {
          "base_uri": "https://localhost:8080/"
        },
        "id": "n84-peT4S99i",
        "outputId": "dbe65d86-7742-4d70-d6f9-0ce5e6b35d5f"
      },
      "execution_count": null,
      "outputs": [
        {
          "output_type": "stream",
          "name": "stdout",
          "text": [
            "[5, 6, 7, 8, 9]\n"
          ]
        },
        {
          "output_type": "execute_result",
          "data": {
            "text/plain": [
              "list"
            ]
          },
          "metadata": {},
          "execution_count": 369
        }
      ]
    },
    {
      "cell_type": "code",
      "metadata": {
        "colab": {
          "base_uri": "https://localhost:8080/"
        },
        "id": "lJBs5ECT4mSq",
        "outputId": "841971c2-6344-4931-d152-aa6d6b9ac4e1"
      },
      "source": [
        "tickers = ['AAPL','GOOG','IBM','FB','F','V', 'G', 'GE']\n",
        "list(map(len,tickers))"
      ],
      "execution_count": null,
      "outputs": [
        {
          "output_type": "execute_result",
          "data": {
            "text/plain": [
              "[4, 4, 3, 2, 1, 1, 1, 2]"
            ]
          },
          "metadata": {},
          "execution_count": 370
        }
      ]
    },
    {
      "cell_type": "code",
      "source": [
        "#ejemplo_cfierro\n",
        "lista_stock=['Python','C','Django','Julia','Java','Python'] \n",
        "list(map(len,lista_stock))  #en primer lugar, se crea con el método map para crear un mapa con los datos de la longitud de cada elemento de la lista. Luego con el método list se crea una lista con esta información y se imprime."
      ],
      "metadata": {
        "colab": {
          "base_uri": "https://localhost:8080/"
        },
        "id": "F_xWl8qFTmeH",
        "outputId": "c044e360-9bc6-46de-8b4c-5bad03bcee25"
      },
      "execution_count": null,
      "outputs": [
        {
          "output_type": "execute_result",
          "data": {
            "text/plain": [
              "[6, 1, 6, 5, 4, 6]"
            ]
          },
          "metadata": {},
          "execution_count": 371
        }
      ]
    },
    {
      "cell_type": "code",
      "metadata": {
        "colab": {
          "base_uri": "https://localhost:8080/"
        },
        "id": "78DyKVOyO2PR",
        "outputId": "daeb5c97-ab9e-446f-d782-9f0f9851f18b"
      },
      "source": [
        "tickers = ['AAPL','GOOG','IBM','FB','F','V', 'G', 'GE']\n",
        "print(list(map(len,tickers)))"
      ],
      "execution_count": null,
      "outputs": [
        {
          "output_type": "stream",
          "name": "stdout",
          "text": [
            "[4, 4, 3, 2, 1, 1, 1, 2]\n"
          ]
        }
      ]
    },
    {
      "cell_type": "code",
      "source": [
        "#ejemplo_cfierro\n",
        "lista_stock=['Python','C','Django','Julia','Java','Python'] \n",
        "#en primer lugar, se crea con el método map para crear un mapa con los datos de la longitud de cada elemento de la lista. Luego con el método list se crea una lista con esta información y se imprime pero en este caso se hace usando el método print.\n",
        "print(list(map(len,tickers)))"
      ],
      "metadata": {
        "colab": {
          "base_uri": "https://localhost:8080/"
        },
        "id": "eeLUHyFxUPN8",
        "outputId": "aa4a79a3-886d-4416-ad8a-61f2d2c921cd"
      },
      "execution_count": null,
      "outputs": [
        {
          "output_type": "stream",
          "name": "stdout",
          "text": [
            "[4, 4, 3, 2, 1, 1, 1, 2]\n"
          ]
        }
      ]
    },
    {
      "cell_type": "markdown",
      "metadata": {
        "id": "mvr06UM7ca7b"
      },
      "source": [
        "The **lambda operator** is a way to create small anonymous functions. These functions are just needed where they have been created. For example:"
      ]
    },
    {
      "cell_type": "code",
      "metadata": {
        "colab": {
          "base_uri": "https://localhost:8080/"
        },
        "id": "pAEHADYXO2PR",
        "outputId": "57b5ac6a-98dc-48f8-f77e-af62737bfe4e"
      },
      "source": [
        "list(map(lambda x: x**2, range(10)))"
      ],
      "execution_count": null,
      "outputs": [
        {
          "output_type": "execute_result",
          "data": {
            "text/plain": [
              "[0, 1, 4, 9, 16, 25, 36, 49, 64, 81]"
            ]
          },
          "metadata": {},
          "execution_count": 374
        }
      ]
    },
    {
      "cell_type": "code",
      "source": [
        "#ejemplo_cfierro\n",
        "list(map(lambda x: x**3, range(8)))\n",
        "#lambda se usa para crear una función temporal por llamarlo de alguna manera. En este caso se ve como la función se usa para tomar los valores en rango de 0 a 7 (range(8)) y se elevan al cubo para ser ordenados en un mapa y posteriormente en una lista que se imprime.\n",
        "#Debido a que solo se necesita para este momento, se puede usar lambda para crear esta función temporal en vez de hacer una función ordinaria. Es más cómodo."
      ],
      "metadata": {
        "colab": {
          "base_uri": "https://localhost:8080/"
        },
        "id": "uB_6tdf-Uxdn",
        "outputId": "615db0a6-5456-43a0-a6b6-658789f01050"
      },
      "execution_count": null,
      "outputs": [
        {
          "output_type": "execute_result",
          "data": {
            "text/plain": [
              "[0, 1, 8, 27, 64, 125, 216, 343]"
            ]
          },
          "metadata": {},
          "execution_count": 375
        }
      ]
    },
    {
      "cell_type": "markdown",
      "metadata": {
        "id": "Mgixpxomcj3T"
      },
      "source": [
        "map() can be applied to more than one list. The lists have to have the same length."
      ]
    },
    {
      "cell_type": "code",
      "metadata": {
        "colab": {
          "base_uri": "https://localhost:8080/"
        },
        "id": "HtckhAaJO2PS",
        "outputId": "e1a303a2-8e11-42aa-b244-143010c20791"
      },
      "source": [
        "list(map(lambda x, y: x+y, [1,2,3,4,5],[5,4,3,2,1]))"
      ],
      "execution_count": null,
      "outputs": [
        {
          "output_type": "execute_result",
          "data": {
            "text/plain": [
              "[6, 6, 6, 6, 6]"
            ]
          },
          "metadata": {},
          "execution_count": 376
        }
      ]
    },
    {
      "cell_type": "code",
      "source": [
        "#ejemplo_cfierro\n",
        "list(map(lambda x, y: x+y, [10,11,12,13,14,15],[9,8,7,6,5,4]))\n",
        "#En este caso el lambda tiene la función de tomar los argumentos \"x\" y \"y\" para luego sumarlos. Para esto debe usar los datos de las listas dadas como argumentos para \"x\" y \"y\" respectivamente.\n",
        "#Una vez hecho esta, se mapea y con el método list se convierte en una lista que procede a imprimirse en pantalla."
      ],
      "metadata": {
        "colab": {
          "base_uri": "https://localhost:8080/"
        },
        "id": "8CgUByuKWdk8",
        "outputId": "7e91d104-589b-4cc7-9e37-34039dc2a3cf"
      },
      "execution_count": null,
      "outputs": [
        {
          "output_type": "execute_result",
          "data": {
            "text/plain": [
              "[19, 19, 19, 19, 19, 19]"
            ]
          },
          "metadata": {},
          "execution_count": 377
        }
      ]
    },
    {
      "cell_type": "markdown",
      "metadata": {
        "id": "ZDnMTH-KcklT"
      },
      "source": [
        "**sorted()** takes a list or set and returns a new sorted list"
      ]
    },
    {
      "cell_type": "code",
      "metadata": {
        "colab": {
          "base_uri": "https://localhost:8080/"
        },
        "id": "P0sHUMFWO2PS",
        "outputId": "125656eb-e6df-45b1-957f-bd82842d1808"
      },
      "source": [
        "sorted([5,2,3,4,1])"
      ],
      "execution_count": null,
      "outputs": [
        {
          "output_type": "execute_result",
          "data": {
            "text/plain": [
              "[1, 2, 3, 4, 5]"
            ]
          },
          "metadata": {},
          "execution_count": 378
        }
      ]
    },
    {
      "cell_type": "code",
      "source": [
        "#ejemplo_cfierro\n",
        "sorted([15,13,14,11,12,10]) #usando el método sorted() se toma una lista con datos organizados de manera aleatoria y lo ordena en este caso de menor a mayor. Una vez ordenado se imprime la lista resultante."
      ],
      "metadata": {
        "colab": {
          "base_uri": "https://localhost:8080/"
        },
        "id": "GfVGvLBbXLda",
        "outputId": "58fac269-9f55-4357-ce74-4407cf592f5c"
      },
      "execution_count": null,
      "outputs": [
        {
          "output_type": "execute_result",
          "data": {
            "text/plain": [
              "[10, 11, 12, 13, 14, 15]"
            ]
          },
          "metadata": {},
          "execution_count": 379
        }
      ]
    },
    {
      "cell_type": "markdown",
      "metadata": {
        "id": "-N5_EDOFcnsc"
      },
      "source": [
        "We can add a \"key\" parameter to specify a function to be called on each list element prior to making comparisons. For example:"
      ]
    },
    {
      "cell_type": "code",
      "metadata": {
        "colab": {
          "base_uri": "https://localhost:8080/"
        },
        "id": "0i3peZ0bO2PS",
        "outputId": "7715e7ef-4319-49f1-849a-d839e5766d28"
      },
      "source": [
        "price_list = [('AAPL',144.09),('GOOG',911.71),('MSFT',69),('FB',150),('WMT',75.32)]\n",
        "sorted(price_list, key = lambda x: x[1])"
      ],
      "execution_count": null,
      "outputs": [
        {
          "output_type": "execute_result",
          "data": {
            "text/plain": [
              "[('MSFT', 69), ('WMT', 75.32), ('AAPL', 144.09), ('FB', 150), ('GOOG', 911.71)]"
            ]
          },
          "metadata": {},
          "execution_count": 380
        }
      ]
    },
    {
      "cell_type": "code",
      "source": [
        "#ejemplo_cfierro\n",
        "lista_precios = [('Python',105.98),('C',523.51),('Java',69),('Julia',264),('Django',29.25)] #En este caso, la lista creada tiene como elementos unas tuplas con atributos y valores que en este caso se compararán.\n",
        "sorted(lista_precios, key = lambda x: x[1])                                                 \n",
        "#El método sorted() en este caso obtiene dos argumentos. El primero es la lista anteriormente mencionada y el segundo es una función que corresponde a la llave de comparación por llamarlo de algún modo.\n",
        "#Con esto se usa lambda para crear una función que toma cada elemento de la lista y retorna solo el valor que corresponde a números ya sean tipo integer o float, representando el precio. Se ordena de menor a mayor en base a esto y se imprime la lista resultante."
      ],
      "metadata": {
        "colab": {
          "base_uri": "https://localhost:8080/"
        },
        "id": "pjWJo2sZXqHH",
        "outputId": "c01a8bee-175d-4fcc-9f84-f6ea45589c10"
      },
      "execution_count": null,
      "outputs": [
        {
          "output_type": "execute_result",
          "data": {
            "text/plain": [
              "[('Django', 29.25),\n",
              " ('Java', 69),\n",
              " ('Python', 105.98),\n",
              " ('Julia', 264),\n",
              " ('C', 523.51)]"
            ]
          },
          "metadata": {},
          "execution_count": 381
        }
      ]
    },
    {
      "cell_type": "markdown",
      "metadata": {
        "id": "yun2zptKcxe_"
      },
      "source": [
        "By default the values are sorted by ascending order. We can change it to descending by adding an optional parameter \"reverse'."
      ]
    },
    {
      "cell_type": "code",
      "metadata": {
        "colab": {
          "base_uri": "https://localhost:8080/"
        },
        "id": "dEZqdl94O2PT",
        "outputId": "3c957dc1-3f7a-4c5a-c76e-470f04ed4bb0"
      },
      "source": [
        "price_list = [('AAPL',144.09),('GOOG',911.71),('MSFT',69),('FB',150),('WMT',75.32)]\n",
        "sorted(price_list, key = lambda x: x[1],reverse = True)"
      ],
      "execution_count": null,
      "outputs": [
        {
          "output_type": "execute_result",
          "data": {
            "text/plain": [
              "[('GOOG', 911.71), ('FB', 150), ('AAPL', 144.09), ('WMT', 75.32), ('MSFT', 69)]"
            ]
          },
          "metadata": {},
          "execution_count": 382
        }
      ]
    },
    {
      "cell_type": "code",
      "source": [
        "#ejemplo_cfierro\n",
        "lista_precios = [('Python',105.98),('C',523.51),('Java',69),('Julia',264),('Django',29.25)]\n",
        "sorted(lista_precios, key = lambda x: x[1],reverse = True) \n",
        "#Este caso es igual al caso anterior, se recrea de la misma manera pero esta vez la sentencia final \"reverse=True\" indica que la lista estará invertida. Esto supone que la lista se ordena de mayor a menor esta vez."
      ],
      "metadata": {
        "colab": {
          "base_uri": "https://localhost:8080/"
        },
        "id": "CskU53fcZEQS",
        "outputId": "6eabda24-c87e-41dc-c62f-25b06796d2cf"
      },
      "execution_count": null,
      "outputs": [
        {
          "output_type": "execute_result",
          "data": {
            "text/plain": [
              "[('C', 523.51),\n",
              " ('Julia', 264),\n",
              " ('Python', 105.98),\n",
              " ('Java', 69),\n",
              " ('Django', 29.25)]"
            ]
          },
          "metadata": {},
          "execution_count": 383
        }
      ]
    },
    {
      "cell_type": "markdown",
      "metadata": {
        "id": "OA2wYAa0c6Dn"
      },
      "source": [
        "Lists also have a function list.sort(). This function takes the same \"key\" and \"reverse\" arguments as sorted(), but it doesn't return a new list."
      ]
    },
    {
      "cell_type": "code",
      "metadata": {
        "colab": {
          "base_uri": "https://localhost:8080/"
        },
        "id": "pG9VQCLnO2PT",
        "outputId": "3cdd8e98-ef00-418c-cf5e-75c49b944576"
      },
      "source": [
        "price_list = [('AAPL',144.09),('GOOG',911.71),('MSFT',69),('FB',150),('WMT',75.32)]\n",
        "price_list.sort(key = lambda x: x[1])\n",
        "print(price_list)"
      ],
      "execution_count": null,
      "outputs": [
        {
          "output_type": "stream",
          "name": "stdout",
          "text": [
            "[('MSFT', 69), ('WMT', 75.32), ('AAPL', 144.09), ('FB', 150), ('GOOG', 911.71)]\n"
          ]
        }
      ]
    },
    {
      "cell_type": "code",
      "source": [
        "#ejemplo_cfierro\n",
        "lista_precios = [('Python',105.98),('C',523.51),('Java',69),('Julia',264),('Django',29.25)]\n",
        "lista_precios.sort(key = lambda x: x[1])    #En esta sentencia se usa una función de las listas llamada .sort() que funciona ingual que el sorted, pero a diferencia de este, no genera otra lista. Solamente altera la existente.\n",
        "print(lista_precios)                           #Se imprime la lista que se está trabajando y esta resulta como se ven normalmente los print de listas pues es la lista original solo que ordenada. No es una nueva lista."
      ],
      "metadata": {
        "colab": {
          "base_uri": "https://localhost:8080/"
        },
        "id": "1LcaOrN4aRSp",
        "outputId": "4772c5b6-cebd-41b7-bb60-d4621d1d9a7f"
      },
      "execution_count": null,
      "outputs": [
        {
          "output_type": "stream",
          "name": "stdout",
          "text": [
            "[('Django', 29.25), ('Java', 69), ('Python', 105.98), ('Julia', 264), ('C', 523.51)]\n"
          ]
        }
      ]
    },
    {
      "cell_type": "markdown",
      "metadata": {
        "id": "mxljL1W1c_c5"
      },
      "source": [
        "# Object-Oriented Programming\n",
        "Python is an object-oriented programming language. It's important to understand the concept of \"objects\" because almost every kind of data from QuantConnect API is an object.\n",
        "\n",
        "## Class\n",
        "A class is a type of data, just like a string, float, or list. When we create an object of that data type, we call it an instance of a class.\n",
        "\n",
        "In Python, everything is an object - everything is an instance of some class. The data stored inside an object are called attributes, and the functions which are associated with the object are called methods.\n",
        "\n",
        "For example, as mentioned above, a list is an object of the \"list\" class, and it has a method list.sort().\n",
        "\n",
        "We can create our own objects by defining a class. We would do this when it's helpful to group certain functions together. For example, we define a class named \"Stock\" here:"
      ]
    },
    {
      "cell_type": "code",
      "metadata": {
        "id": "zC4Y4PgDO2PT"
      },
      "source": [
        "class stock:\n",
        "    def __init__(self, ticker, open, close, volume):\n",
        "        self.ticker = ticker\n",
        "        self.open = open\n",
        "        self.close = close\n",
        "        self.volume = volume\n",
        "        self.rate_return = float(close)/open - 1\n",
        " \n",
        "    def update(self, open, close):\n",
        "        self.open = open\n",
        "        self.close = close\n",
        "        self.rate_return = float(self.close)/self.open - 1\n",
        " \n",
        "    def print_return(self):\n",
        "        print(self.rate_return)"
      ],
      "execution_count": null,
      "outputs": []
    },
    {
      "cell_type": "code",
      "source": [
        "#ejemplo_cfierro\n",
        "class Bodega:                                                           #Primero que todo se crea una clase que en este caso será la que contenga todos los atributos de si misma.\n",
        "    def __init__(self, Marca, Apertura, Cierre, Volumen):               #En esta sentencia se definen los parámetros del objeto. Con __init__ se indican cuales serán los parámetros de la clase Bodega.\n",
        "        self.Marca = Marca\n",
        "        self.Apertura = Apertura\n",
        "        self.Cierre = Cierre\n",
        "        self.Volumen = Volumen\n",
        "        self.Ratio_de_retorno = float(Cierre)/Apertura - 1\n",
        "    #Aqui se definieron los parámetros usando self. para indicar que pertenecen a la clase y no son solamente variables locales.\n",
        " \n",
        "    def update(self, Apertura, Cierre):                                 #Esta función se encargará de actualizar los datos de apertura y cierre.\n",
        "        self.Apertura = Apertura\n",
        "        self.Cierre = Cierre                                            \n",
        "        self.Ratio_de_retorno = float(self.Cierre)/self.Apertura - 1    \n",
        "        #Con los datos otorgados como argumentos al usar esta función, se actualizan los datos de la clase y el ratio de retorno se actualiza con los nuevos datos pero quedarán como parte de la clase y no de manera local.\n",
        " \n",
        "    def print_retorno(self):\n",
        "        print(self.Ratio_de_retorno)"
      ],
      "metadata": {
        "id": "SgH6Q5HqbSuq"
      },
      "execution_count": null,
      "outputs": []
    },
    {
      "cell_type": "markdown",
      "metadata": {
        "id": "rV06INT5dETi"
      },
      "source": [
        "The \"Stock\" class has attributes \"ticker\", \"open\", \"close\", \"volume\" and \"rate_return\". Inside the class body, the first method is called __init__, which is a special method. When we create a new instance of the class, the __init__ method is immediately executed with all the parameters that we pass to the \"Stock\" object. The purpose of this method is to set up a new \"Stock\" object using data we have provided.\n",
        "\n",
        "Here we create two Stock objects named \"apple\" and \"google\"."
      ]
    },
    {
      "cell_type": "code",
      "metadata": {
        "id": "8tIpNk93O2PU"
      },
      "source": [
        "apple = stock('AAPL', 143.69, 144.09, 20109375)\n",
        "google = stock('GOOG', 898.7, 911.7, 1561616)"
      ],
      "execution_count": null,
      "outputs": []
    },
    {
      "cell_type": "code",
      "source": [
        "#ejemplo_cfierro\n",
        "Acciones_Python= Bodega(\"Python\",150,162.5,456982312)   \n",
        "Acciones_Java= Bodega(\"Java\",100,99.1,5369874)\n",
        "#En estas sentencias lo que se hace es crear instancias de Bodega con información diferente para cada caso. Acciones_Python y Acciones_Java son instancias distintas de la misma clase."
      ],
      "metadata": {
        "id": "XpC5T2TId4lU"
      },
      "execution_count": null,
      "outputs": []
    },
    {
      "cell_type": "markdown",
      "metadata": {
        "id": "VxmELNiHdPKS"
      },
      "source": [
        "Stock objects also have two other methods: update() and print_return(). We can access the attribues of a Stock object and call its methods:"
      ]
    },
    {
      "cell_type": "code",
      "metadata": {
        "colab": {
          "base_uri": "https://localhost:8080/"
        },
        "id": "SsiIkmekO2PU",
        "outputId": "5c42619d-0edd-4c34-b258-b1c0cbec5be4"
      },
      "source": [
        "apple.ticker\n",
        "google.print_return()\n",
        "google.update(912.8,913.4)\n",
        "google.print_return()"
      ],
      "execution_count": null,
      "outputs": [
        {
          "output_type": "stream",
          "name": "stdout",
          "text": [
            "0.014465338822744034\n",
            "0.0006573181419806673\n"
          ]
        }
      ]
    },
    {
      "cell_type": "code",
      "source": [
        "#ejemplo_cfierro\n",
        "Acciones_Python.Marca           #Este llamado debe retornar el valor asignado a \"Marca\" para la instancia \"Acciones_Python\" pero al no usar print o algún metodo con este valor no sucede nada más.\n",
        "Acciones_Java.print_retorno()   \n",
        "#Aqui se ejecuta la función \"print_retorno\" de la clase que en este caso funciona con la información de la instancia \"Acciones_Java\" por lo cual el resultado en pantalla se obtuvo en base a los datos de \"Acciones_Java\" unicamente.\n",
        "Acciones_Java.update(120,140.6)\n",
        "#En este caso se usa la función \"update\" de la instancia para actualizar los datos de la misma. Estos datos ahora pertenecen a la instancia en todo momento y no son solo locales de la función.\n",
        "Acciones_Java.print_retorno()   #Se vuelve a imprimir el retorno obtenido con la apertura y cierre pero esta vez el resultado es diferente porque los datos de estas variables fueron actualizados."
      ],
      "metadata": {
        "colab": {
          "base_uri": "https://localhost:8080/"
        },
        "id": "N8edcf73e1Or",
        "outputId": "bda3557a-77d4-41f7-8745-474282d002a2"
      },
      "execution_count": null,
      "outputs": [
        {
          "output_type": "stream",
          "name": "stdout",
          "text": [
            "-0.009000000000000008\n",
            "0.17166666666666663\n"
          ]
        }
      ]
    },
    {
      "cell_type": "markdown",
      "metadata": {
        "id": "Q8fl7keNdVKF"
      },
      "source": [
        "By calling the update() function, we updated the open and close prices of a stock. Please note that when we use the attributes or call the methods **inside a class**, we need to specify them as self.attribute or self.method(), otherwise Python will deem them as global variables and thus raise an error.\n",
        "\n",
        "We can add an attribute to an object anywhere:"
      ]
    },
    {
      "cell_type": "code",
      "metadata": {
        "colab": {
          "base_uri": "https://localhost:8080/",
          "height": 35
        },
        "id": "rO4OLnqOO2PU",
        "outputId": "4a5c3a16-d295-4bcf-9ac7-44d24536fb35"
      },
      "source": [
        "apple.ceo = 'Tim Cook'\n",
        "apple.ceo"
      ],
      "execution_count": null,
      "outputs": [
        {
          "output_type": "execute_result",
          "data": {
            "text/plain": [
              "'Tim Cook'"
            ],
            "application/vnd.google.colaboratory.intrinsic+json": {
              "type": "string"
            }
          },
          "metadata": {},
          "execution_count": 392
        }
      ]
    },
    {
      "cell_type": "code",
      "source": [
        "#ejemplo_cfierro\n",
        "Acciones_Java.uso = \"True\"  #Para la instancia de \"Acciones_Java\" se está creando un atributo nuevo que no existe en la clase. La clase sería la base de creación pero la instancia se puede cambiar como sea necesario.\n",
        "Acciones_Java.uso           "
      ],
      "metadata": {
        "colab": {
          "base_uri": "https://localhost:8080/",
          "height": 35
        },
        "id": "dtE5F7dFgvrp",
        "outputId": "69cfee73-e375-4236-da68-493c00dc422b"
      },
      "execution_count": null,
      "outputs": [
        {
          "output_type": "execute_result",
          "data": {
            "text/plain": [
              "'True'"
            ],
            "application/vnd.google.colaboratory.intrinsic+json": {
              "type": "string"
            }
          },
          "metadata": {},
          "execution_count": 393
        }
      ]
    },
    {
      "cell_type": "markdown",
      "metadata": {
        "id": "WyfnFgVidh4J"
      },
      "source": [
        "We can check what names (i.e. attributes and methods) are defined on an object using the dir() function:"
      ]
    },
    {
      "cell_type": "code",
      "metadata": {
        "colab": {
          "base_uri": "https://localhost:8080/"
        },
        "id": "pPoz0LA8O2PU",
        "outputId": "bc8fd770-2fee-4a4c-be36-12d0880172f1"
      },
      "source": [
        "dir(apple)"
      ],
      "execution_count": null,
      "outputs": [
        {
          "output_type": "execute_result",
          "data": {
            "text/plain": [
              "['__class__',\n",
              " '__delattr__',\n",
              " '__dict__',\n",
              " '__dir__',\n",
              " '__doc__',\n",
              " '__eq__',\n",
              " '__format__',\n",
              " '__ge__',\n",
              " '__getattribute__',\n",
              " '__gt__',\n",
              " '__hash__',\n",
              " '__init__',\n",
              " '__init_subclass__',\n",
              " '__le__',\n",
              " '__lt__',\n",
              " '__module__',\n",
              " '__ne__',\n",
              " '__new__',\n",
              " '__reduce__',\n",
              " '__reduce_ex__',\n",
              " '__repr__',\n",
              " '__setattr__',\n",
              " '__sizeof__',\n",
              " '__str__',\n",
              " '__subclasshook__',\n",
              " '__weakref__',\n",
              " 'ceo',\n",
              " 'close',\n",
              " 'open',\n",
              " 'print_return',\n",
              " 'rate_return',\n",
              " 'ticker',\n",
              " 'update',\n",
              " 'volume']"
            ]
          },
          "metadata": {},
          "execution_count": 394
        }
      ]
    },
    {
      "cell_type": "code",
      "source": [
        "#ejemplo_cfierro\n",
        "dir(Acciones_Java)  #El método dir() se encargará de presentar en pantalla todos los atributos y métodos que tiene la instancia del objeto."
      ],
      "metadata": {
        "colab": {
          "base_uri": "https://localhost:8080/"
        },
        "id": "_WgR3AIch6Wc",
        "outputId": "3e42f607-f69c-4381-c5c0-41bfb81ee0c7"
      },
      "execution_count": null,
      "outputs": [
        {
          "output_type": "execute_result",
          "data": {
            "text/plain": [
              "['Apertura',\n",
              " 'Cierre',\n",
              " 'Marca',\n",
              " 'Ratio_de_retorno',\n",
              " 'Volumen',\n",
              " '__class__',\n",
              " '__delattr__',\n",
              " '__dict__',\n",
              " '__dir__',\n",
              " '__doc__',\n",
              " '__eq__',\n",
              " '__format__',\n",
              " '__ge__',\n",
              " '__getattribute__',\n",
              " '__gt__',\n",
              " '__hash__',\n",
              " '__init__',\n",
              " '__init_subclass__',\n",
              " '__le__',\n",
              " '__lt__',\n",
              " '__module__',\n",
              " '__ne__',\n",
              " '__new__',\n",
              " '__reduce__',\n",
              " '__reduce_ex__',\n",
              " '__repr__',\n",
              " '__setattr__',\n",
              " '__sizeof__',\n",
              " '__str__',\n",
              " '__subclasshook__',\n",
              " '__weakref__',\n",
              " 'print_retorno',\n",
              " 'update',\n",
              " 'uso']"
            ]
          },
          "metadata": {},
          "execution_count": 395
        }
      ]
    },
    {
      "cell_type": "markdown",
      "metadata": {
        "id": "Qpemj1UZd2aa"
      },
      "source": [
        "## Inheritance\n",
        "Inheritance is a way of arranging classes in a hierarchy from the most general to the most specific. A \"child\" class is a more specific type of a \"parent\" class because a child class will inherit all the attribues and methods of its parent. For example, we define a class named \"Child\" which inherits \"Stock\":"
      ]
    },
    {
      "cell_type": "code",
      "metadata": {
        "id": "UELXnxomO2PV"
      },
      "source": [
        "class child(stock):\n",
        "    def __init__(self,name):\n",
        "        self.name = name"
      ],
      "execution_count": null,
      "outputs": []
    },
    {
      "cell_type": "code",
      "source": [
        "#ejemplo_cfierro\n",
        "class hijo(Bodega):             #Se crea una clase que hereda los atributos de la clase \"Bodega\".\n",
        "    def __init__(self, nombre): #Como se hizo con la anterior clase, se usa init para indicar los atributos de la clase pero estos pertenecen unicamente a la clase \"hijo\".\n",
        "        self.nombre = nombre"
      ],
      "metadata": {
        "id": "15FENFXyiYbT"
      },
      "execution_count": null,
      "outputs": []
    },
    {
      "cell_type": "code",
      "metadata": {
        "colab": {
          "base_uri": "https://localhost:8080/"
        },
        "id": "ffS2THZyO2PV",
        "outputId": "e10150fe-c398-4636-a08e-b29de73757f7"
      },
      "source": [
        "aa = child('aa')\n",
        "print(aa.name)\n",
        "aa.update(100,102)\n",
        "print(aa.open)\n",
        "print(aa.close)\n",
        "print(aa.print_return())"
      ],
      "execution_count": null,
      "outputs": [
        {
          "output_type": "stream",
          "name": "stdout",
          "text": [
            "aa\n",
            "100\n",
            "102\n",
            "0.020000000000000018\n",
            "None\n"
          ]
        }
      ]
    },
    {
      "cell_type": "code",
      "source": [
        "#ejemplo_cfierro\n",
        "bb = hijo('bb')\n",
        "print(bb.nombre)\n",
        "bb.update(150,160.5)  #se asignan atributos que no pertenecen a 'hijo' sino a su antecesor \"Bodega\"\n",
        "print(bb.Apertura)\n",
        "print(bb.Cierre)\n",
        "print(bb.print_retorno())\n",
        "#Como se puede ver, a pesar de no crearse como instancia de \"Bodega\" si puede usar sus atributos y métodos puesto que la clase \"hijo\", de la cual si es instancia, tiene heredados todos los atributos de \"Bodega\"."
      ],
      "metadata": {
        "colab": {
          "base_uri": "https://localhost:8080/"
        },
        "id": "b1obH14iioNh",
        "outputId": "a54ed034-87bc-4e69-e79e-a96dd83676f4"
      },
      "execution_count": null,
      "outputs": [
        {
          "output_type": "stream",
          "name": "stdout",
          "text": [
            "bb\n",
            "150\n",
            "160.5\n",
            "0.07000000000000006\n",
            "None\n"
          ]
        }
      ]
    },
    {
      "cell_type": "markdown",
      "metadata": {
        "id": "pdIEjUv2eJqL"
      },
      "source": [
        "As seen above, the new class Child has inherited the methods from Stock.\n",
        "\n",
        "#Summary\n",
        "\n",
        "In this chapter we have introduced functions and classes. When we write a QuantConnect algorithm, we would define our algorithm as a class (QCAlgorithm). This means our algorithm inherited the QC API methods from QCAlgorithm class.\n",
        "\n",
        "In the next chapter, we will introduce NumPy and Pandas, which enable us to conduct scientific calculations in Python."
      ]
    },
    {
      "cell_type": "markdown",
      "metadata": {
        "id": "dQbENH6mexTd"
      },
      "source": [
        "<div align=\"center\">\n",
        "<img style=\"display: block; margin: auto;\" alt=\"photo\" src=\"https://cdn.quantconnect.com/web/i/icon.png\">\n",
        "\n",
        "Quantconnect\n",
        "\n",
        "Introduction to Financial Python\n",
        "</div>\n",
        "\n",
        "# 04 NumPy and Basic Pandas\n",
        "\n",
        "# Introduction\n",
        "\n",
        "Now that we have introduced the fundamentals of Python, it's time to learn about NumPy and Pandas.\n",
        "\n",
        "# NumPy\n",
        "NumPy is the core library for scientific computing in Python. It provides a high-performance multidimensional array object, and tools for working with these arrays. It also has strong integration with Pandas, which is another powerful tool for manipulating financial data.\n",
        "\n",
        "Python packages like NumPy and Pandas contain classes and methods which we can use by importing the package:"
      ]
    },
    {
      "cell_type": "code",
      "metadata": {
        "id": "aIESp-rdO58h"
      },
      "source": [
        "import numpy as np  #en esta sentencia se está importando la librería de numpy y la está nombrando como np"
      ],
      "execution_count": null,
      "outputs": []
    },
    {
      "cell_type": "markdown",
      "metadata": {
        "id": "GScHHJ5ke7ea"
      },
      "source": [
        "## Basic NumPy Arrays\n",
        "A NumPy array is a grid of values, all of the same type, and is indexed by a tuple of nonnegative integers. Here we make an array by passing a list of Apple stock prices:"
      ]
    },
    {
      "cell_type": "code",
      "metadata": {
        "colab": {
          "base_uri": "https://localhost:8080/"
        },
        "id": "lZI1wkwDO58i",
        "outputId": "918d720d-b054-45cc-b2e8-98507d09ae9c"
      },
      "source": [
        "price_list = [143.73, 145.83, 143.68, 144.02, 143.5, 142.62]\n",
        "price_array = np.array(price_list)      \n",
        "print(price_array, type(price_array))"
      ],
      "execution_count": null,
      "outputs": [
        {
          "output_type": "stream",
          "name": "stdout",
          "text": [
            "[143.73 145.83 143.68 144.02 143.5  142.62] <class 'numpy.ndarray'>\n"
          ]
        }
      ]
    },
    {
      "cell_type": "code",
      "source": [
        "#ejemplo_cfierro\n",
        "lista_precios = [201.69, 56.71, 25.52, 144.02, 263.1, 1.2]\n",
        "array_precios = np.array(lista_precios)     #En este caso se usa una función de numpy (np) llamada \"array\" para convertir la lista en un array que en este caso es como una clase de la librería de numpy.        \n",
        "print(array_precios, type(array_precios))   #Imprime el array creado y su tipo, para demostrar que el tipo corresponde a una clase de numpy y no de python propiamente."
      ],
      "metadata": {
        "colab": {
          "base_uri": "https://localhost:8080/"
        },
        "id": "hCfCiTlQrnBR",
        "outputId": "ab457080-d7de-48d7-87f1-0328d12cb83e"
      },
      "execution_count": null,
      "outputs": [
        {
          "output_type": "stream",
          "name": "stdout",
          "text": [
            "[201.69  56.71  25.52 144.02 263.1    1.2 ] <class 'numpy.ndarray'>\n"
          ]
        }
      ]
    },
    {
      "cell_type": "markdown",
      "metadata": {
        "id": "-5Yj6u9ifB-t"
      },
      "source": [
        "Notice that the type of array is \"ndarray\" which is a multi-dimensional array. If we pass np.array() a list of lists, it will create a 2-dimensional array."
      ]
    },
    {
      "cell_type": "code",
      "metadata": {
        "colab": {
          "base_uri": "https://localhost:8080/"
        },
        "id": "obvIZrK-O58j",
        "outputId": "adbaca83-2575-4f53-dfb1-1c4d7db001c3"
      },
      "source": [
        "Ar = np.array([[1,3],[2,4]])\n",
        "print(Ar, type(Ar))"
      ],
      "execution_count": null,
      "outputs": [
        {
          "output_type": "stream",
          "name": "stdout",
          "text": [
            "[[1 3]\n",
            " [2 4]] <class 'numpy.ndarray'>\n"
          ]
        }
      ]
    },
    {
      "cell_type": "code",
      "source": [
        "#ejemplo_cfierro\n",
        "Ar_2 = np.array([[10,20,30],[40,50,60]])  #En este caso la lista que tiene que convertir a array es una lista con tuplas como elementos. Esto significa una lista de listas, lo que supone un array de 2 o más dimensiones.\n",
        "print(Ar_2, type(Ar_2))             #Imprime el array de dos dimensiones como si fuera una matriz y luego de esto imprime el tipo del array como un ndarray, n-dimensional array."
      ],
      "metadata": {
        "colab": {
          "base_uri": "https://localhost:8080/"
        },
        "id": "uhErxagUur2s",
        "outputId": "108acf8a-3153-4b1f-dc01-dc2910212595"
      },
      "execution_count": null,
      "outputs": [
        {
          "output_type": "stream",
          "name": "stdout",
          "text": [
            "[[10 20 30]\n",
            " [40 50 60]] <class 'numpy.ndarray'>\n"
          ]
        }
      ]
    },
    {
      "cell_type": "markdown",
      "metadata": {
        "id": "uDdfLD9HfHkl"
      },
      "source": [
        "We get the dimensions of an ndarray using the .shape attribute:"
      ]
    },
    {
      "cell_type": "code",
      "metadata": {
        "colab": {
          "base_uri": "https://localhost:8080/"
        },
        "id": "G2txdn73O58j",
        "outputId": "b84b97a1-9bcb-4650-a1b3-2e0c079fd6a7"
      },
      "source": [
        "print(Ar.shape)"
      ],
      "execution_count": null,
      "outputs": [
        {
          "output_type": "stream",
          "name": "stdout",
          "text": [
            "(2, 2)\n"
          ]
        }
      ]
    },
    {
      "cell_type": "code",
      "source": [
        "#ejemplo_cfierro\n",
        "print(Ar_2.shape)   #imprime las dimensiones del array, en este caso filas y columnas respectivamente."
      ],
      "metadata": {
        "colab": {
          "base_uri": "https://localhost:8080/"
        },
        "id": "41vsMk6A5a4H",
        "outputId": "aa2b65b3-b8ca-4c86-df90-cefbdf28dc6c"
      },
      "execution_count": null,
      "outputs": [
        {
          "output_type": "stream",
          "name": "stdout",
          "text": [
            "(2, 3)\n"
          ]
        }
      ]
    },
    {
      "cell_type": "markdown",
      "metadata": {
        "id": "87W5ueORfPEy"
      },
      "source": [
        "If we create an 2-dimensional array (i.e. matrix), each row can be accessed by index:"
      ]
    },
    {
      "cell_type": "code",
      "metadata": {
        "colab": {
          "base_uri": "https://localhost:8080/"
        },
        "id": "x_QV9aPbO58j",
        "outputId": "3dd000f6-153b-4d61-dd2a-dea5a8909e55"
      },
      "source": [
        "print(Ar[0])\n",
        "print(Ar[1])"
      ],
      "execution_count": null,
      "outputs": [
        {
          "output_type": "stream",
          "name": "stdout",
          "text": [
            "[1 3]\n",
            "[2 4]\n"
          ]
        }
      ]
    },
    {
      "cell_type": "code",
      "source": [
        "#ejemplo_cfierro\n",
        "print(Ar_2[0])  #se imprime el primer elemento del array que corresponde a la primera fila\n",
        "print(Ar_2[1])  #se imprime el segundo elemento del array que corresponde a la segunda fila"
      ],
      "metadata": {
        "colab": {
          "base_uri": "https://localhost:8080/"
        },
        "id": "WnvzlV2C6C6i",
        "outputId": "f94f58b9-1b08-4498-9a35-da1db0f23c39"
      },
      "execution_count": null,
      "outputs": [
        {
          "output_type": "stream",
          "name": "stdout",
          "text": [
            "[10 20 30]\n",
            "[40 50 60]\n"
          ]
        }
      ]
    },
    {
      "cell_type": "markdown",
      "metadata": {
        "id": "5Hke7Vt-fSGB"
      },
      "source": [
        "If we want to access the matrix by column instead:"
      ]
    },
    {
      "cell_type": "code",
      "metadata": {
        "colab": {
          "base_uri": "https://localhost:8080/"
        },
        "id": "gHVwbPfOO58j",
        "outputId": "9aec6ee0-a39c-4886-ea71-4710058b5295"
      },
      "source": [
        "print('the first column: ', Ar[:,0])\n",
        "print('the second column: ', Ar[:,1])"
      ],
      "execution_count": null,
      "outputs": [
        {
          "output_type": "stream",
          "name": "stdout",
          "text": [
            "the first column:  [1 2]\n",
            "the second column:  [3 4]\n"
          ]
        }
      ]
    },
    {
      "cell_type": "code",
      "source": [
        "#ejemplo_cfierro\n",
        "print('the first column: ', Ar_2[:,0])  \n",
        "print('the second column: ', Ar_2[:,1])\n",
        "print('the third column: ', Ar_2[:,2])\n",
        "#se imprime una columna al tomar una parte del array en el que el primer argumento es \":\". Esto significa que recorrerá todos los elementos.\n",
        "#Luego de esto el segundo argumento es la posición del elemento dentro del elemento (elemento dentro de la lista) que se imprimirá."
      ],
      "metadata": {
        "colab": {
          "base_uri": "https://localhost:8080/"
        },
        "id": "0l4HJHVW6hrh",
        "outputId": "73525e9c-451c-44a3-cfd2-6ae3d1cda6d0"
      },
      "execution_count": null,
      "outputs": [
        {
          "output_type": "stream",
          "name": "stdout",
          "text": [
            "the first column:  [10 40]\n",
            "the second column:  [20 50]\n",
            "the third column:  [30 60]\n"
          ]
        }
      ]
    },
    {
      "cell_type": "markdown",
      "metadata": {
        "id": "T61cD0HMfStB"
      },
      "source": [
        "## Array Functions\n",
        "Some functions built in NumPy that allow us to perform calculations on arrays. For example, we can apply the natural logarithm to each element of an array:"
      ]
    },
    {
      "cell_type": "code",
      "metadata": {
        "colab": {
          "base_uri": "https://localhost:8080/"
        },
        "id": "PKhwtJ7XO58k",
        "outputId": "aeaad180-de5b-44cf-dd66-9425901be7dc"
      },
      "source": [
        "print(np.log(price_array))"
      ],
      "execution_count": null,
      "outputs": [
        {
          "output_type": "stream",
          "name": "stdout",
          "text": [
            "[4.96793654 4.98244156 4.9675886  4.96995218 4.96633504 4.96018375]\n"
          ]
        }
      ]
    },
    {
      "cell_type": "code",
      "source": [
        "#ejemplo_cfierro\n",
        "print(np.log(array_precios))    #Toma los valores del array y a cada uno le saca logaritmo natural usando la función de numpy llamado \"log\". Luego de esto el resultado se imprime."
      ],
      "metadata": {
        "colab": {
          "base_uri": "https://localhost:8080/"
        },
        "id": "w2HKMo_E8qKW",
        "outputId": "9faaaebc-98f5-40c3-80d8-2975ab56a983"
      },
      "execution_count": null,
      "outputs": [
        {
          "output_type": "stream",
          "name": "stdout",
          "text": [
            "[5.30673187 4.03795056 3.23946246 4.96995218 5.57253419 0.18232156]\n"
          ]
        }
      ]
    },
    {
      "cell_type": "markdown",
      "metadata": {
        "id": "uzjBRFBLfZ-D"
      },
      "source": [
        "Other functions return a single value:"
      ]
    },
    {
      "cell_type": "code",
      "metadata": {
        "colab": {
          "base_uri": "https://localhost:8080/"
        },
        "id": "nQuABZqUO58k",
        "outputId": "e4f647da-5153-4b51-a9f1-336242dfd5d2"
      },
      "source": [
        "print(np.mean(price_array))\n",
        "print(np.std(price_array))\n",
        "print(np.sum(price_array))\n",
        "print(np.max(price_array))"
      ],
      "execution_count": null,
      "outputs": [
        {
          "output_type": "stream",
          "name": "stdout",
          "text": [
            "143.89666666666668\n",
            "0.9673790478515796\n",
            "863.38\n",
            "145.83\n"
          ]
        }
      ]
    },
    {
      "cell_type": "code",
      "source": [
        "#ejemplo_cfierro\n",
        "print(np.mean(array_precios))   #obtiene la media aritmética (los elementos sobre el total de elementos) del array y luego lo imprime.\n",
        "print(np.std(array_precios))    #obtiene la desviación estandar (raíz de la sumatoria de cada valor menos la media, esto al cuadrado y luego dividido en el total de elementos
        "#del array menos uno. Una vez obtenida la imprime.\n",
        "print(np.sum(array_precios))    #obtiene la suma de los elementos del array y luego lo imprime.\n",
        "print(np.max(array_precios))    #En este caso, se busca el elemento con el valor màximo en el array y lo imprime"
      ],
      "metadata": {
        "colab": {
          "base_uri": "https://localhost:8080/"
        },
        "id": "jUt6cHch-RP6",
        "outputId": "bd1c8803-30f7-4a84-9d5c-763e7643866b"
      },
      "execution_count": null,
      "outputs": [
        {
          "output_type": "stream",
          "name": "stdout",
          "text": [
            "115.37333333333333\n",
            "95.43315700298066\n",
            "692.24\n",
            "263.1\n"
          ]
        }
      ]
    },
    {
      "cell_type": "markdown",
      "metadata": {
        "id": "IRW95BsifgDB"
      },
      "source": [
        "The functions above return the mean, standard deviation, total and maximum value of an array.\n",
        "\n",
        "# Pandas\n",
        "Pandas is one of the most powerful tools for dealing with financial data. \n",
        "\n",
        "First we need to import Pandas:"
      ]
    },
    {
      "cell_type": "code",
      "metadata": {
        "id": "xIYH4oUfO58k"
      },
      "source": [
        "import pandas as pd #importa la libreria de pandas nombrandola como pd."
      ],
      "execution_count": null,
      "outputs": []
    },
    {
      "cell_type": "markdown",
      "metadata": {
        "id": "zOig5gORfnJU"
      },
      "source": [
        "## Series\n",
        "Series is a one-dimensional labeled array capable of holding any data type (integers, strings, float, Python object, etc.)\n",
        "\n",
        "We create a Series by calling pd.Series(data), where data can be a dictionary, an array or just a scalar value."
      ]
    },
    {
      "cell_type": "code",
      "metadata": {
        "colab": {
          "base_uri": "https://localhost:8080/"
        },
        "id": "JmzoNzrPO58k",
        "outputId": "3e426d04-2264-4ce6-de8e-f0c012b9a1aa"
      },
      "source": [
        "price = [143.73, 145.83, 143.68, 144.02, 143.5, 142.62]\n",
        "s = pd.Series(price)\n",
        "s"
      ],
      "execution_count": null,
      "outputs": [
        {
          "output_type": "execute_result",
          "data": {
            "text/plain": [
              "0    143.73\n",
              "1    145.83\n",
              "2    143.68\n",
              "3    144.02\n",
              "4    143.50\n",
              "5    142.62\n",
              "dtype: float64"
            ]
          },
          "metadata": {},
          "execution_count": 416
        }
      ]
    },
    {
      "cell_type": "code",
      "source": [
        "#ejemplo_cfierro\n",
        "lista_precios = [201.69, 56.71, 25.52, 144.02, 263.1, 1.2]\n",
        "s_2 = pd.Series(lista_precios)  #se define s_2 usando una función de pandas llamadas \"Series\" con la información de la lista.\n",
        "s_2"
      ],
      "metadata": {
        "colab": {
          "base_uri": "https://localhost:8080/"
        },
        "id": "8zkyuZywkiLb",
        "outputId": "9fcd8e3b-5934-442b-cee5-d15925baff57"
      },
      "execution_count": null,
      "outputs": [
        {
          "output_type": "execute_result",
          "data": {
            "text/plain": [
              "0    201.69\n",
              "1     56.71\n",
              "2     25.52\n",
              "3    144.02\n",
              "4    263.10\n",
              "5      1.20\n",
              "dtype: float64"
            ]
          },
          "metadata": {},
          "execution_count": 417
        }
      ]
    },
    {
      "cell_type": "markdown",
      "metadata": {
        "id": "tP5iDnunfq46"
      },
      "source": [
        "We can customize the indices of a new Series:"
      ]
    },
    {
      "cell_type": "code",
      "metadata": {
        "colab": {
          "base_uri": "https://localhost:8080/"
        },
        "id": "eswQC3ZPO58l",
        "outputId": "8264b386-9791-4881-e257-e30ec9d0eaf7"
      },
      "source": [
        "s = pd.Series(price,index = ['a','b','c','d','e','f'])\n",
        "s"
      ],
      "execution_count": null,
      "outputs": [
        {
          "output_type": "execute_result",
          "data": {
            "text/plain": [
              "a    143.73\n",
              "b    145.83\n",
              "c    143.68\n",
              "d    144.02\n",
              "e    143.50\n",
              "f    142.62\n",
              "dtype: float64"
            ]
          },
          "metadata": {},
          "execution_count": 418
        }
      ]
    },
    {
      "cell_type": "code",
      "source": [
        "#ejemplo_cfierro\n",
        "s_2 = pd.Series(lista_precios,index = ['a','b','c','d','e','f'])\n",
        "#En este caso se crea la serie con los datos de la lista pero el index se indicó en el segundo argumento y se puede ver en la salida a pantalla como se reemplazaron números por los elementos de la lista de index.\n",
        "s_2"
      ],
      "metadata": {
        "colab": {
          "base_uri": "https://localhost:8080/"
        },
        "id": "plljUYM8mP2a",
        "outputId": "b28f3bfc-778d-4582-d4d1-2601871195fe"
      },
      "execution_count": null,
      "outputs": [
        {
          "output_type": "execute_result",
          "data": {
            "text/plain": [
              "a    201.69\n",
              "b     56.71\n",
              "c     25.52\n",
              "d    144.02\n",
              "e    263.10\n",
              "f      1.20\n",
              "dtype: float64"
            ]
          },
          "metadata": {},
          "execution_count": 419
        }
      ]
    },
    {
      "cell_type": "markdown",
      "metadata": {
        "id": "wdZrb8pEfuua"
      },
      "source": [
        "Or we can change the indices of an existing Series:"
      ]
    },
    {
      "cell_type": "code",
      "metadata": {
        "colab": {
          "base_uri": "https://localhost:8080/"
        },
        "id": "MwlRnPF6O58l",
        "outputId": "765efcf8-cb3a-4378-b4e8-bab397849244"
      },
      "source": [
        "s.index = [6,5,4,3,2,1]\n",
        "s"
      ],
      "execution_count": null,
      "outputs": [
        {
          "output_type": "execute_result",
          "data": {
            "text/plain": [
              "6    143.73\n",
              "5    145.83\n",
              "4    143.68\n",
              "3    144.02\n",
              "2    143.50\n",
              "1    142.62\n",
              "dtype: float64"
            ]
          },
          "metadata": {},
          "execution_count": 420
        }
      ]
    },
    {
      "cell_type": "code",
      "source": [
        "#ejemplo_cfierro\n",
        "s_2.index = [6,5,4,3,2,1]   #En esta sentencia se puede ver como usando la función de esta seria usando el .index y una lista se puede cambiar el valor de los indices de la salida en pantalla.\n",
        "s_2"
      ],
      "metadata": {
        "colab": {
          "base_uri": "https://localhost:8080/"
        },
        "id": "4jbFDg2mm_7O",
        "outputId": "62b81063-6368-4416-e4a7-9a6b708dc840"
      },
      "execution_count": null,
      "outputs": [
        {
          "output_type": "execute_result",
          "data": {
            "text/plain": [
              "6    201.69\n",
              "5     56.71\n",
              "4     25.52\n",
              "3    144.02\n",
              "2    263.10\n",
              "1      1.20\n",
              "dtype: float64"
            ]
          },
          "metadata": {},
          "execution_count": 421
        }
      ]
    },
    {
      "cell_type": "markdown",
      "metadata": {
        "id": "6cGNQZwLfxIz"
      },
      "source": [
        "Series is like a list since it can be sliced by index:"
      ]
    },
    {
      "cell_type": "code",
      "metadata": {
        "colab": {
          "base_uri": "https://localhost:8080/"
        },
        "id": "N9bBSg6cO58l",
        "outputId": "90b5b9b2-8ada-43f0-c5dc-2d88d42f4950"
      },
      "source": [
        "print(s[1:])\n",
        "print(s[:-2])"
      ],
      "execution_count": null,
      "outputs": [
        {
          "output_type": "stream",
          "name": "stdout",
          "text": [
            "5    145.83\n",
            "4    143.68\n",
            "3    144.02\n",
            "2    143.50\n",
            "1    142.62\n",
            "dtype: float64\n",
            "6    143.73\n",
            "5    145.83\n",
            "4    143.68\n",
            "3    144.02\n",
            "dtype: float64\n"
          ]
        }
      ]
    },
    {
      "cell_type": "code",
      "source": [
        "#ejemplo_cfierro\n",
        "print(s_2[1:])  #Al igual que sucede con las listas, las series tambien se pueden ser divididas por partes. En este caso se toma del segundo elemento al último.\n",
        "print(s_2[:-2]) #En este caso la serie se divide desde el inicio hasta dos elementos antes del final."
      ],
      "metadata": {
        "colab": {
          "base_uri": "https://localhost:8080/"
        },
        "id": "B4kkOytJn0Wc",
        "outputId": "eae25f04-1a25-48ee-b3a5-a9ba51854a4f"
      },
      "execution_count": null,
      "outputs": [
        {
          "output_type": "stream",
          "name": "stdout",
          "text": [
            "5     56.71\n",
            "4     25.52\n",
            "3    144.02\n",
            "2    263.10\n",
            "1      1.20\n",
            "dtype: float64\n",
            "6    201.69\n",
            "5     56.71\n",
            "4     25.52\n",
            "3    144.02\n",
            "dtype: float64\n"
          ]
        }
      ]
    },
    {
      "cell_type": "markdown",
      "metadata": {
        "id": "5V25nViZfz3Z"
      },
      "source": [
        "Series is also like a dictionary whose values can be set or fetched by index label:"
      ]
    },
    {
      "cell_type": "code",
      "metadata": {
        "colab": {
          "base_uri": "https://localhost:8080/"
        },
        "id": "b3Y0kKGYO58l",
        "outputId": "f343b61c-d92c-41a4-9312-6d356c07d514"
      },
      "source": [
        "print(s[4])\n",
        "s[4] = 0\n",
        "print(s)"
      ],
      "execution_count": null,
      "outputs": [
        {
          "output_type": "stream",
          "name": "stdout",
          "text": [
            "143.68\n",
            "6    143.73\n",
            "5    145.83\n",
            "4      0.00\n",
            "3    144.02\n",
            "2    143.50\n",
            "1    142.62\n",
            "dtype: float64\n"
          ]
        }
      ]
    },
    {
      "cell_type": "code",
      "source": [
        "#ejemplo_cfierro\n",
        "print(s_2[4])\n",
        "s_2[4] = 0      #Aqui se reemplaza el valor del elemento indicado en la serie por un cero.\n",
        "print(s_2)      #Se imprime la serie con el valor alterado y se ve como esta es mutable."
      ],
      "metadata": {
        "colab": {
          "base_uri": "https://localhost:8080/"
        },
        "id": "Mk_uGJw-pPuo",
        "outputId": "21d7d9bf-5d84-467b-ebc0-d6ce0fe5279f"
      },
      "execution_count": null,
      "outputs": [
        {
          "output_type": "stream",
          "name": "stdout",
          "text": [
            "25.52\n",
            "6    201.69\n",
            "5     56.71\n",
            "4      0.00\n",
            "3    144.02\n",
            "2    263.10\n",
            "1      1.20\n",
            "dtype: float64\n"
          ]
        }
      ]
    },
    {
      "cell_type": "markdown",
      "metadata": {
        "id": "RQ1P7Gkyf060"
      },
      "source": [
        "Series can also have a name attribute, which will be used when we make up a Pandas DataFrame using several series."
      ]
    },
    {
      "cell_type": "code",
      "metadata": {
        "colab": {
          "base_uri": "https://localhost:8080/"
        },
        "id": "ZeD4-p7KO58m",
        "outputId": "6116ea37-6218-43b8-f92a-bab38e67575c"
      },
      "source": [
        "s = pd.Series(price, name = 'Apple Price List')\n",
        "print(s)\n",
        "print(s.name)"
      ],
      "execution_count": null,
      "outputs": [
        {
          "output_type": "stream",
          "name": "stdout",
          "text": [
            "0    143.73\n",
            "1    145.83\n",
            "2    143.68\n",
            "3    144.02\n",
            "4    143.50\n",
            "5    142.62\n",
            "Name: Apple Price List, dtype: float64\n",
            "Apple Price List\n"
          ]
        }
      ]
    },
    {
      "cell_type": "code",
      "source": [
        "#ejemplo_cfierro\n",
        "s_2 = pd.Series(price, name = 'Lista de precios aleatorios')    #Aqui se creó la serie con atributos de pandas, en este caso se nombró la serie en el segundo argumento.\n",
        "print(s_2)\n",
        "print(s_2.name)                                                 #Con esta función se retorna el nombre de la serie y luego se procede a imprimir."
      ],
      "metadata": {
        "colab": {
          "base_uri": "https://localhost:8080/"
        },
        "id": "lbxQG7XNp9uZ",
        "outputId": "44c7a317-79f2-4ac5-aead-2fea2e0d508d"
      },
      "execution_count": null,
      "outputs": [
        {
          "output_type": "stream",
          "name": "stdout",
          "text": [
            "0    143.73\n",
            "1    145.83\n",
            "2    143.68\n",
            "3    144.02\n",
            "4    143.50\n",
            "5    142.62\n",
            "Name: Lista de precios aleatorios, dtype: float64\n",
            "Lista de precios aleatorios\n"
          ]
        }
      ]
    },
    {
      "cell_type": "markdown",
      "metadata": {
        "id": "geJb1pGHf5Et"
      },
      "source": [
        "We can get the statistical summaries of a Series:"
      ]
    },
    {
      "cell_type": "code",
      "metadata": {
        "colab": {
          "base_uri": "https://localhost:8080/"
        },
        "id": "mGPtFcjegm4i",
        "outputId": "39d7aa3d-4de6-4145-b0b3-62af2e96cc15"
      },
      "source": [
        "print(s.describe())"
      ],
      "execution_count": null,
      "outputs": [
        {
          "output_type": "stream",
          "name": "stdout",
          "text": [
            "count      6.000000\n",
            "mean     143.896667\n",
            "std        1.059711\n",
            "min      142.620000\n",
            "25%      143.545000\n",
            "50%      143.705000\n",
            "75%      143.947500\n",
            "max      145.830000\n",
            "Name: Apple Price List, dtype: float64\n"
          ]
        }
      ]
    },
    {
      "cell_type": "code",
      "source": [
        "#ejemplo_cfierro\n",
        "print(s_2.describe())   \n",
        "#Esta función \"describe\", tal como dice su nombre, tiene la finalidad de describir la serie. \n",
        "#Da los datos de la serie. Tales como cantidad de datos, media, desviación, mínimo, cuartiles y máximo."
      ],
      "metadata": {
        "colab": {
          "base_uri": "https://localhost:8080/"
        },
        "id": "rfZH-Ic-tY7S",
        "outputId": "a9fec7e0-47fc-4205-defc-d79de3fbdaff"
      },
      "execution_count": null,
      "outputs": [
        {
          "output_type": "stream",
          "name": "stdout",
          "text": [
            "count      6.000000\n",
            "mean     143.896667\n",
            "std        1.059711\n",
            "min      142.620000\n",
            "25%      143.545000\n",
            "50%      143.705000\n",
            "75%      143.947500\n",
            "max      145.830000\n",
            "Name: Lista de precios aleatorios, dtype: float64\n"
          ]
        }
      ]
    },
    {
      "cell_type": "markdown",
      "metadata": {
        "id": "LkdZu-CDgvlR"
      },
      "source": [
        "## Time Index\n",
        "Pandas has a built-in function specifically for creating date indices: pd.date_range(). We use it to create a new index for our Series:"
      ]
    },
    {
      "cell_type": "code",
      "metadata": {
        "colab": {
          "base_uri": "https://localhost:8080/"
        },
        "id": "HJe5hU4zO58m",
        "outputId": "405cba80-c391-47ce-cb36-0147a3de1366"
      },
      "source": [
        "time_index = pd.date_range('2017-01-01',periods = len(s),freq = 'D')\n",
        "print(time_index)\n",
        "s.index = time_index\n",
        "print(s)"
      ],
      "execution_count": null,
      "outputs": [
        {
          "output_type": "stream",
          "name": "stdout",
          "text": [
            "DatetimeIndex(['2017-01-01', '2017-01-02', '2017-01-03', '2017-01-04',\n",
            "               '2017-01-05', '2017-01-06'],\n",
            "              dtype='datetime64[ns]', freq='D')\n",
            "2017-01-01    143.73\n",
            "2017-01-02    145.83\n",
            "2017-01-03    143.68\n",
            "2017-01-04    144.02\n",
            "2017-01-05    143.50\n",
            "2017-01-06    142.62\n",
            "Freq: D, Name: Apple Price List, dtype: float64\n"
          ]
        }
      ]
    },
    {
      "cell_type": "code",
      "source": [
        "#ejemplo_cfierro\n",
        "indice_de_tiempo = pd.date_range('2002-06-29',periods = len(s),freq = 'D')  \n",
        "#La función date_range() se encarga de hacer un rango de fechas, con el argumento de la fecha, el segundo es el periodo que representa la cantidad de veces y por último la frecuencia que representa si son días o meses,etc.\n",
        "print(indice_de_tiempo)\n",
        "s_2.index = indice_de_tiempo   \n",
        "#En este caso se usa \"index\" para poner como indices los valores de fechas obtenidos en las sentencias anteriores.\n",
        "print(s_2)"
      ],
      "metadata": {
        "colab": {
          "base_uri": "https://localhost:8080/"
        },
        "id": "oCdvhwrEu1K8",
        "outputId": "b7a9cc8f-0287-4f9c-9188-c3494dfdd95c"
      },
      "execution_count": null,
      "outputs": [
        {
          "output_type": "stream",
          "name": "stdout",
          "text": [
            "DatetimeIndex(['2002-06-29', '2002-06-30', '2002-07-01', '2002-07-02',\n",
            "               '2002-07-03', '2002-07-04'],\n",
            "              dtype='datetime64[ns]', freq='D')\n",
            "2002-06-29    143.73\n",
            "2002-06-30    145.83\n",
            "2002-07-01    143.68\n",
            "2002-07-02    144.02\n",
            "2002-07-03    143.50\n",
            "2002-07-04    142.62\n",
            "Freq: D, Name: Lista de precios aleatorios, dtype: float64\n"
          ]
        }
      ]
    },
    {
      "cell_type": "markdown",
      "metadata": {
        "id": "7WedejFZg19J"
      },
      "source": [
        "Series are usually accessed using the iloc[] and loc[] methods. iloc[] is used to access elements by integer index, and loc[] is used to access the index of the series.\n",
        "\n",
        "iloc[] is necessary when the index of a series are integers, take our previous defined series as example:"
      ]
    },
    {
      "cell_type": "code",
      "metadata": {
        "colab": {
          "base_uri": "https://localhost:8080/"
        },
        "id": "KrVSOyMvO58m",
        "outputId": "fe02bda3-0be3-400e-f10f-5c89facb3373"
      },
      "source": [
        "s.index = [6,5,4,3,2,1]\n",
        "print(s)\n",
        "print(s[1])"
      ],
      "execution_count": null,
      "outputs": [
        {
          "output_type": "stream",
          "name": "stdout",
          "text": [
            "6    143.73\n",
            "5    145.83\n",
            "4    143.68\n",
            "3    144.02\n",
            "2    143.50\n",
            "1    142.62\n",
            "Name: Apple Price List, dtype: float64\n",
            "142.62\n"
          ]
        }
      ]
    },
    {
      "cell_type": "code",
      "source": [
        "#ejemplo_cfierro\n",
        "s_2.index = [1,5,7,9,2,8]\n",
        "print(s_2)\n",
        "print(s_2[7])   #En este caso se imprime el valor del index indicado pero que corresponde con el asignado con la función \"index\". Por eso retorna del indice 7 a pesar de que solo existan 6 elementos en la serie."
      ],
      "metadata": {
        "colab": {
          "base_uri": "https://localhost:8080/"
        },
        "id": "sWNEZWKVw3cC",
        "outputId": "95a2b6f5-9223-470e-f46e-9fd54c02ce14"
      },
      "execution_count": null,
      "outputs": [
        {
          "output_type": "stream",
          "name": "stdout",
          "text": [
            "1    143.73\n",
            "5    145.83\n",
            "7    143.68\n",
            "9    144.02\n",
            "2    143.50\n",
            "8    142.62\n",
            "Name: Lista de precios aleatorios, dtype: float64\n",
            "143.68\n"
          ]
        }
      ]
    },
    {
      "cell_type": "markdown",
      "metadata": {
        "id": "r30VKPtpg61p"
      },
      "source": [
        "If we intended to take the second element of the series, we would make a mistake here, because the index are integers. In order to access to the element we want, we use iloc[] here:"
      ]
    },
    {
      "cell_type": "code",
      "metadata": {
        "colab": {
          "base_uri": "https://localhost:8080/"
        },
        "id": "bHukfaAmO58m",
        "outputId": "f6572c33-d66c-4e6b-d51b-3fd6eac868f1"
      },
      "source": [
        "print(s.iloc[1])"
      ],
      "execution_count": null,
      "outputs": [
        {
          "output_type": "stream",
          "name": "stdout",
          "text": [
            "145.83\n"
          ]
        }
      ]
    },
    {
      "cell_type": "code",
      "source": [
        "#ejemplo_cfierro\n",
        "print(s_2.iloc[1])  #En este caso es como usar la función de las listas al usar \"[]\" ya que si ubica la posición del elemento y no el índice que se le ha asignado."
      ],
      "metadata": {
        "colab": {
          "base_uri": "https://localhost:8080/"
        },
        "id": "j44V4_PtxsOk",
        "outputId": "bde4af66-9f0c-4b26-cd8f-47fe03d8b184"
      },
      "execution_count": null,
      "outputs": [
        {
          "output_type": "stream",
          "name": "stdout",
          "text": [
            "145.83\n"
          ]
        }
      ]
    },
    {
      "cell_type": "markdown",
      "metadata": {
        "id": "kHVBRL_Rg84j"
      },
      "source": [
        "While working with time series data, we often use time as the index. Pandas provides us with various methods to access the data by time index"
      ]
    },
    {
      "cell_type": "code",
      "metadata": {
        "colab": {
          "base_uri": "https://localhost:8080/"
        },
        "id": "FCf8Hg7jO58n",
        "outputId": "c9f5fa8d-7df7-485e-c3ac-775c6ac1ee93"
      },
      "source": [
        "s.index = time_index\n",
        "print(s['2017-01-03'])"
      ],
      "execution_count": null,
      "outputs": [
        {
          "output_type": "stream",
          "name": "stdout",
          "text": [
            "143.68\n"
          ]
        }
      ]
    },
    {
      "cell_type": "code",
      "source": [
        "#ejemplo_cfierro\n",
        "s_2.index = indice_de_tiempo\n",
        "print(s_2['2002-06-30'])    #Aqui se ve como se usa el index para indicar los indices como las fechas, por eso al buscar en la serie se encuentra el dato asociado."
      ],
      "metadata": {
        "colab": {
          "base_uri": "https://localhost:8080/"
        },
        "id": "4S2YGxWsyPa7",
        "outputId": "82856bac-6d01-43a7-b70b-9acc1dd1b997"
      },
      "execution_count": null,
      "outputs": [
        {
          "output_type": "stream",
          "name": "stdout",
          "text": [
            "145.83\n"
          ]
        }
      ]
    },
    {
      "cell_type": "markdown",
      "metadata": {
        "id": "XJXcrSFpg-To"
      },
      "source": [
        "We can even access to a range of dates:"
      ]
    },
    {
      "cell_type": "code",
      "metadata": {
        "colab": {
          "base_uri": "https://localhost:8080/"
        },
        "id": "NsE-Lr_9O58n",
        "outputId": "4b5cf758-5825-4282-ea1f-45eb5ed2cd87"
      },
      "source": [
        "print(s['2017-01-02':'2017-01-05'])"
      ],
      "execution_count": null,
      "outputs": [
        {
          "output_type": "stream",
          "name": "stdout",
          "text": [
            "2017-01-02    145.83\n",
            "2017-01-03    143.68\n",
            "2017-01-04    144.02\n",
            "2017-01-05    143.50\n",
            "Freq: D, Name: Apple Price List, dtype: float64\n"
          ]
        }
      ]
    },
    {
      "cell_type": "code",
      "source": [
        "#ejemplo_cfierro\n",
        "print(s_2['2002-06-29':'2002-07-02']) #Al igual que las listas, se puede usar \"[]\" para dividir desde dos puntos de la serie y retornar los elementos."
      ],
      "metadata": {
        "colab": {
          "base_uri": "https://localhost:8080/"
        },
        "id": "-gghS67ay_J-",
        "outputId": "c3f54995-0da6-44a7-814e-efcee75ae0ac"
      },
      "execution_count": null,
      "outputs": [
        {
          "output_type": "stream",
          "name": "stdout",
          "text": [
            "2002-06-29    143.73\n",
            "2002-06-30    145.83\n",
            "2002-07-01    143.68\n",
            "2002-07-02    144.02\n",
            "Freq: D, Name: Lista de precios aleatorios, dtype: float64\n"
          ]
        }
      ]
    },
    {
      "cell_type": "markdown",
      "metadata": {
        "id": "cWA3NCXEhCLB"
      },
      "source": [
        "Series[] provides us a very flexible way to index data. We can add any condition in the square brackets:"
      ]
    },
    {
      "cell_type": "code",
      "metadata": {
        "colab": {
          "base_uri": "https://localhost:8080/"
        },
        "id": "aawbrg2EO58n",
        "outputId": "5042856e-811c-4275-f83d-35cfb9a53cf5"
      },
      "source": [
        "print(s[s < np.mean(s)] )\n",
        "print([(s > np.mean(s)) & (s < np.mean(s) + 1.64*np.std(s))])"
      ],
      "execution_count": null,
      "outputs": [
        {
          "output_type": "stream",
          "name": "stdout",
          "text": [
            "2017-01-01    143.73\n",
            "2017-01-03    143.68\n",
            "2017-01-05    143.50\n",
            "2017-01-06    142.62\n",
            "Name: Apple Price List, dtype: float64\n",
            "[2017-01-01    False\n",
            "2017-01-02    False\n",
            "2017-01-03    False\n",
            "2017-01-04     True\n",
            "2017-01-05    False\n",
            "2017-01-06    False\n",
            "Freq: D, Name: Apple Price List, dtype: bool]\n"
          ]
        }
      ]
    },
    {
      "cell_type": "code",
      "source": [
        "#ejemplo_cfierro\n",
        "print(s_2[s_2 < np.mean(s_2)] )                                         #En este caso se indican los indices con un rango, en el cual se muestran todos los elementos cuyo valor es menor a la media aritmética de la serie.\n",
        "print([(s_2 > np.mean(s_2)) & (s_2 < np.mean(s_2) + 1.64*np.std(s_2))]) \n",
        "#Aqui se cambia la desigualdad pues son aquellos valores mayores a la media. Se añade que tambien debe ser menor a la media mas la desviación por 1.64 y los resultados resultan en valores booleanos."
      ],
      "metadata": {
        "colab": {
          "base_uri": "https://localhost:8080/"
        },
        "id": "usLGtai_zkZ-",
        "outputId": "722e62d2-c6a5-4e16-ec0a-099e998071dc"
      },
      "execution_count": null,
      "outputs": [
        {
          "output_type": "stream",
          "name": "stdout",
          "text": [
            "2002-06-29    143.73\n",
            "2002-07-01    143.68\n",
            "2002-07-03    143.50\n",
            "2002-07-04    142.62\n",
            "Name: Lista de precios aleatorios, dtype: float64\n",
            "[2002-06-29    False\n",
            "2002-06-30    False\n",
            "2002-07-01    False\n",
            "2002-07-02     True\n",
            "2002-07-03    False\n",
            "2002-07-04    False\n",
            "Freq: D, Name: Lista de precios aleatorios, dtype: bool]\n"
          ]
        }
      ]
    },
    {
      "cell_type": "markdown",
      "metadata": {
        "id": "jAByChIwhEuI"
      },
      "source": [
        "As demonstrated, we can use logical operators like & (and), | (or) and ~ (not) to group multiple conditions.\n",
        "\n",
        "# Summary\n",
        "Here we have introduced NumPy and Pandas for scientific computing in Python. In the next chapter, we will dive into Pandas to learn resampling and manipulating Pandas DataFrame, which are commonly used in financial data analysis."
      ]
    },
    {
      "cell_type": "markdown",
      "metadata": {
        "id": "OtjOpw6oJp6z"
      },
      "source": [
        "<div align=\"center\">\n",
        "<img style=\"display: block; margin: auto;\" alt=\"photo\" src=\"https://cdn.quantconnect.com/web/i/icon.png\"> <img style=\"display: block; margin: auto;\" alt=\"photo\" src=\"https://www.marketing-branding.com/wp-content/uploads/2020/07/google-colaboratory-colab-guia-completa.jpg \" width=\"50\" height=\"50\">\n",
        "<img style=\"display: block; margin: auto;\" alt=\"photo\" src=\"https://upload.wikimedia.org/wikipedia/commons/d/da/Yahoo_Finance_Logo_2019.svg\" width=\"50\" height=\"50\">  \n",
        "\n",
        "Quantconnect -> Google Colab with Yahoo Finance data\n",
        "\n",
        "Introduction to Financial Python\n",
        "</div>\n",
        "\n",
        "# 05 Pandas-Resampling and DataFrame\n",
        "\n",
        "# Introduction\n",
        "In the last chapter we had a glimpse of Pandas. In this chapter we will learn about resampling methods and the DataFrame object, which is a powerful tool for financial data analysis.\n",
        "\n",
        "# Fetching Data\n",
        "Here we use the Yahoo Finance to retrieve data.\n"
      ]
    },
    {
      "cell_type": "code",
      "metadata": {
        "colab": {
          "base_uri": "https://localhost:8080/"
        },
        "id": "luU8mZTsHW9x",
        "outputId": "9ca7b588-d5a5-4d24-ac93-bf2e556cae91"
      },
      "source": [
        "!pip install yfinance   #En esta sentencia se esta instalando la libreria yfinance"
      ],
      "execution_count": null,
      "outputs": [
        {
          "output_type": "stream",
          "name": "stdout",
          "text": [
            "Requirement already satisfied: yfinance in /usr/local/lib/python3.7/dist-packages (0.1.70)\n",
            "Requirement already satisfied: pandas>=0.24.0 in /usr/local/lib/python3.7/dist-packages (from yfinance) (1.3.5)\n",
            "Requirement already satisfied: requests>=2.26 in /usr/local/lib/python3.7/dist-packages (from yfinance) (2.27.1)\n",
            "Requirement already satisfied: numpy>=1.15 in /usr/local/lib/python3.7/dist-packages (from yfinance) (1.21.5)\n",
            "Requirement already satisfied: multitasking>=0.0.7 in /usr/local/lib/python3.7/dist-packages (from yfinance) (0.0.10)\n",
            "Requirement already satisfied: lxml>=4.5.1 in /usr/local/lib/python3.7/dist-packages (from yfinance) (4.8.0)\n",
            "Requirement already satisfied: python-dateutil>=2.7.3 in /usr/local/lib/python3.7/dist-packages (from pandas>=0.24.0->yfinance) (2.8.2)\n",
            "Requirement already satisfied: pytz>=2017.3 in /usr/local/lib/python3.7/dist-packages (from pandas>=0.24.0->yfinance) (2018.9)\n",
            "Requirement already satisfied: six>=1.5 in /usr/local/lib/python3.7/dist-packages (from python-dateutil>=2.7.3->pandas>=0.24.0->yfinance) (1.15.0)\n",
            "Requirement already satisfied: idna<4,>=2.5 in /usr/local/lib/python3.7/dist-packages (from requests>=2.26->yfinance) (2.10)\n",
            "Requirement already satisfied: charset-normalizer~=2.0.0 in /usr/local/lib/python3.7/dist-packages (from requests>=2.26->yfinance) (2.0.12)\n",
            "Requirement already satisfied: urllib3<1.27,>=1.21.1 in /usr/local/lib/python3.7/dist-packages (from requests>=2.26->yfinance) (1.24.3)\n",
            "Requirement already satisfied: certifi>=2017.4.17 in /usr/local/lib/python3.7/dist-packages (from requests>=2.26->yfinance) (2021.10.8)\n"
          ]
        }
      ]
    },
    {
      "cell_type": "code",
      "metadata": {
        "colab": {
          "base_uri": "https://localhost:8080/",
          "height": 487
        },
        "id": "mWZ-nirTZHrE",
        "outputId": "190a8394-745e-4747-bc51-11e84c6ffb72"
      },
      "source": [
        "import yfinance as yf\n",
        "\n",
        "aapl = yf.Ticker(\"AAPL\")\n",
        "\n",
        "# get stock info\n",
        "print(aapl.info)\n",
        "\n",
        "# get historical market data\n",
        "aapl_table = aapl.history(start=\"2016-01-01\",  end=\"2017-12-31\")\n",
        "aapl_table"
      ],
      "execution_count": null,
      "outputs": [
        {
          "output_type": "stream",
          "name": "stdout",
          "text": [
            "{'zip': '95014', 'sector': 'Technology', 'fullTimeEmployees': 100000, 'longBusinessSummary': 'Apple Inc. designs, manufactures, and markets smartphones, personal computers, tablets, wearables, and accessories worldwide. It also sells various related services. In addition, the company offers iPhone, a line of smartphones; Mac, a line of personal computers; iPad, a line of multi-purpose tablets; AirPods Max, an over-ear wireless headphone; and wearables, home, and accessories comprising AirPods, Apple TV, Apple Watch, Beats products, HomePod, and iPod touch. Further, it provides AppleCare support services; cloud services store services; and operates various platforms, including the App Store that allow customers to discover and download applications and digital content, such as books, music, video, games, and podcasts. Additionally, the company offers various services, such as Apple Arcade, a game subscription service; Apple Music, which offers users a curated listening experience with on-demand radio stations; Apple News+, a subscription news and magazine service; Apple TV+, which offers exclusive original content; Apple Card, a co-branded credit card; and Apple Pay, a cashless payment service, as well as licenses its intellectual property. The company serves consumers, and small and mid-sized businesses; and the education, enterprise, and government markets. It distributes third-party applications for its products through the App Store. The company also sells its products through its retail and online stores, and direct sales force; and third-party cellular network carriers, wholesalers, retailers, and resellers. Apple Inc. was incorporated in 1977 and is headquartered in Cupertino, California.', 'city': 'Cupertino', 'phone': '408 996 1010', 'state': 'CA', 'country': 'United States', 'companyOfficers': [], 'website': 'https://www.apple.com', 'maxAge': 1, 'address1': 'One Apple Park Way', 'industry': 'Consumer Electronics', 'ebitdaMargins': 0.33890998, 'profitMargins': 0.26579002, 'grossMargins': 0.43019, 'operatingCashflow': 112241000448, 'revenueGrowth': 0.112, 'operatingMargins': 0.309, 'ebitda': 128217997312, 'targetLowPrice': 160, 'recommendationKey': 'buy', 'grossProfits': 152836000000, 'freeCashflow': 80153247744, 'targetMedianPrice': 199.5, 'currentPrice': 155.09, 'earningsGrowth': 0.25, 'currentRatio': 1.038, 'returnOnAssets': 0.19875, 'numberOfAnalystOpinions': 44, 'targetMeanPrice': 193.53, 'debtToEquity': 170.714, 'returnOnEquity': 1.45567, 'targetHighPrice': 215, 'totalCash': 63913000960, 'totalDebt': 122797998080, 'totalRevenue': 378323009536, 'totalCashPerShare': 3.916, 'financialCurrency': 'USD', 'revenuePerShare': 22.838, 'quickRatio': 0.875, 'recommendationMean': 1.8, 'exchange': 'NMS', 'shortName': 'Apple Inc.', 'longName': 'Apple Inc.', 'exchangeTimezoneName': 'America/New_York', 'exchangeTimezoneShortName': 'EDT', 'isEsgPopulated': False, 'gmtOffSetMilliseconds': '-14400000', 'quoteType': 'EQUITY', 'symbol': 'AAPL', 'messageBoardId': 'finmb_24937', 'market': 'us_market', 'annualHoldingsTurnover': None, 'enterpriseToRevenue': 6.653, 'beta3Year': None, 'enterpriseToEbitda': 19.63, '52WeekChange': 0.19949031, 'morningStarRiskRating': None, 'forwardEps': 6.56, 'revenueQuarterlyGrowth': None, 'sharesOutstanding': 16319399936, 'fundInceptionDate': None, 'annualReportExpenseRatio': None, 'totalAssets': None, 'bookValue': 4.402, 'sharesShort': 110322490, 'sharesPercentSharesOut': 0.0068, 'fundFamily': None, 'lastFiscalYearEnd': 1632528000, 'heldPercentInstitutions': 0.59426, 'netIncomeToCommon': 100554997760, 'trailingEps': 6.015, 'lastDividendValue': 0.22, 'SandP52WeekChange': 0.053094983, 'priceToBook': 35.231712, 'heldPercentInsiders': 0.0007, 'nextFiscalYearEnd': 1695600000, 'yield': None, 'mostRecentQuarter': 1640390400, 'shortRatio': 1.2, 'sharesShortPreviousMonthDate': 1643587200, 'floatShares': 16302795170, 'beta': 1.185531, 'enterpriseValue': 2516919255040, 'priceHint': 2, 'threeYearAverageReturn': None, 'lastSplitDate': 1598832000, 'lastSplitFactor': '4:1', 'legalType': None, 'lastDividendDate': 1643932800, 'morningStarOverallRating': None, 'earningsQuarterlyGrowth': 0.204, 'priceToSalesTrailing12Months': 6.689986, 'dateShortInterest': 1646006400, 'pegRatio': 1.69, 'ytdReturn': None, 'forwardPE': 23.641768, 'lastCapGain': None, 'shortPercentOfFloat': 0.0068, 'sharesShortPriorMonth': 91388112, 'impliedSharesOutstanding': 0, 'category': None, 'fiveYearAverageReturn': None, 'previousClose': 150.62, 'regularMarketOpen': 150.9, 'twoHundredDayAverage': 153.7353, 'trailingAnnualDividendYield': 0.0057429294, 'payoutRatio': 0.1434, 'volume24Hr': None, 'regularMarketDayHigh': 155.57, 'navPrice': None, 'averageDailyVolume10Day': 95333020, 'regularMarketPreviousClose': 150.62, 'fiftyDayAverage': 168.0858, 'trailingAnnualDividendRate': 0.865, 'open': 150.9, 'toCurrency': None, 'averageVolume10days': 95333020, 'expireDate': None, 'algorithm': None, 'dividendRate': 0.88, 'exDividendDate': 1643932800, 'circulatingSupply': None, 'startDate': None, 'regularMarketDayLow': 150.385, 'currency': 'USD', 'trailingPE': 25.783875, 'regularMarketVolume': 89231766, 'lastMarket': None, 'maxSupply': None, 'openInterest': None, 'marketCap': 2530975678464, 'volumeAllCurrencies': None, 'strikePrice': None, 'averageVolume': 95562583, 'dayLow': 150.385, 'ask': 155, 'askSize': 1300, 'volume': 89231766, 'fiftyTwoWeekHigh': 182.94, 'fromCurrency': None, 'fiveYearAvgDividendYield': 1.13, 'fiftyTwoWeekLow': 118.86, 'bid': 155, 'tradeable': False, 'dividendYield': 0.0057, 'bidSize': 1200, 'dayHigh': 155.57, 'regularMarketPrice': 155.09, 'preMarketPrice': 150.9, 'logo_url': 'https://logo.clearbit.com/apple.com', 'trailingPegRatio': 3.2017}\n"
          ]
        },
        {
          "output_type": "execute_result",
          "data": {
            "text/plain": [
              "                 Open       High        Low      Close     Volume  Dividends  \\\n",
              "Date                                                                           \n",
              "2016-01-04  23.590636  24.225176  23.450393  24.220577  270597600        0.0   \n",
              "2016-01-05  24.312538  24.335529  23.544654  23.613625  223164000        0.0   \n",
              "2016-01-06  23.119329  23.535460  22.960695  23.151516  273829600        0.0   \n",
              "2016-01-07  22.687104  23.020467  22.169816  22.174414  324377600        0.0   \n",
              "2016-01-08  22.657219  22.785966  22.245687  22.291668  283192000        0.0   \n",
              "...               ...        ...        ...        ...        ...        ...   \n",
              "2017-12-22  41.713653  41.890367  41.670671  41.792458   65397600        0.0   \n",
              "2017-12-26  40.787105  40.947100  40.519646  40.732182  132742000        0.0   \n",
              "2017-12-27  40.619942  40.782324  40.526810  40.739342   85992800        0.0   \n",
              "2017-12-28  40.834869  41.037851  40.710692  40.853973   65920800        0.0   \n",
              "2017-12-29  40.720244  40.736958  40.409803  40.412189  103999600        0.0   \n",
              "\n",
              "            Stock Splits  \n",
              "Date                      \n",
              "2016-01-04             0  \n",
              "2016-01-05             0  \n",
              "2016-01-06             0  \n",
              "2016-01-07             0  \n",
              "2016-01-08             0  \n",
              "...                  ...  \n",
              "2017-12-22             0  \n",
              "2017-12-26             0  \n",
              "2017-12-27             0  \n",
              "2017-12-28             0  \n",
              "2017-12-29             0  \n",
              "\n",
              "[503 rows x 7 columns]"
            ],
            "text/html": [
              "\n",
              "  <div id=\"df-98cb5791-9bdb-4459-9c1b-9c3eef61de62\">\n",
              "    <div class=\"colab-df-container\">\n",
              "      <div>\n",
              "<style scoped>\n",
              "    .dataframe tbody tr th:only-of-type {\n",
              "        vertical-align: middle;\n",
              "    }\n",
              "\n",
              "    .dataframe tbody tr th {\n",
              "        vertical-align: top;\n",
              "    }\n",
              "\n",
              "    .dataframe thead th {\n",
              "        text-align: right;\n",
              "    }\n",
              "</style>\n",
              "<table border=\"1\" class=\"dataframe\">\n",
              "  <thead>\n",
              "    <tr style=\"text-align: right;\">\n",
              "      <th></th>\n",
              "      <th>Open</th>\n",
              "      <th>High</th>\n",
              "      <th>Low</th>\n",
              "      <th>Close</th>\n",
              "      <th>Volume</th>\n",
              "      <th>Dividends</th>\n",
              "      <th>Stock Splits</th>\n",
              "    </tr>\n",
              "    <tr>\n",
              "      <th>Date</th>\n",
              "      <th></th>\n",
              "      <th></th>\n",
              "      <th></th>\n",
              "      <th></th>\n",
              "      <th></th>\n",
              "      <th></th>\n",
              "      <th></th>\n",
              "    </tr>\n",
              "  </thead>\n",
              "  <tbody>\n",
              "    <tr>\n",
              "      <th>2016-01-04</th>\n",
              "      <td>23.590636</td>\n",
              "      <td>24.225176</td>\n",
              "      <td>23.450393</td>\n",
              "      <td>24.220577</td>\n",
              "      <td>270597600</td>\n",
              "      <td>0.0</td>\n",
              "      <td>0</td>\n",
              "    </tr>\n",
              "    <tr>\n",
              "      <th>2016-01-05</th>\n",
              "      <td>24.312538</td>\n",
              "      <td>24.335529</td>\n",
              "      <td>23.544654</td>\n",
              "      <td>23.613625</td>\n",
              "      <td>223164000</td>\n",
              "      <td>0.0</td>\n",
              "      <td>0</td>\n",
              "    </tr>\n",
              "    <tr>\n",
              "      <th>2016-01-06</th>\n",
              "      <td>23.119329</td>\n",
              "      <td>23.535460</td>\n",
              "      <td>22.960695</td>\n",
              "      <td>23.151516</td>\n",
              "      <td>273829600</td>\n",
              "      <td>0.0</td>\n",
              "      <td>0</td>\n",
              "    </tr>\n",
              "    <tr>\n",
              "      <th>2016-01-07</th>\n",
              "      <td>22.687104</td>\n",
              "      <td>23.020467</td>\n",
              "      <td>22.169816</td>\n",
              "      <td>22.174414</td>\n",
              "      <td>324377600</td>\n",
              "      <td>0.0</td>\n",
              "      <td>0</td>\n",
              "    </tr>\n",
              "    <tr>\n",
              "      <th>2016-01-08</th>\n",
              "      <td>22.657219</td>\n",
              "      <td>22.785966</td>\n",
              "      <td>22.245687</td>\n",
              "      <td>22.291668</td>\n",
              "      <td>283192000</td>\n",
              "      <td>0.0</td>\n",
              "      <td>0</td>\n",
              "    </tr>\n",
              "    <tr>\n",
              "      <th>...</th>\n",
              "      <td>...</td>\n",
              "      <td>...</td>\n",
              "      <td>...</td>\n",
              "      <td>...</td>\n",
              "      <td>...</td>\n",
              "      <td>...</td>\n",
              "      <td>...</td>\n",
              "    </tr>\n",
              "    <tr>\n",
              "      <th>2017-12-22</th>\n",
              "      <td>41.713653</td>\n",
              "      <td>41.890367</td>\n",
              "      <td>41.670671</td>\n",
              "      <td>41.792458</td>\n",
              "      <td>65397600</td>\n",
              "      <td>0.0</td>\n",
              "      <td>0</td>\n",
              "    </tr>\n",
              "    <tr>\n",
              "      <th>2017-12-26</th>\n",
              "      <td>40.787105</td>\n",
              "      <td>40.947100</td>\n",
              "      <td>40.519646</td>\n",
              "      <td>40.732182</td>\n",
              "      <td>132742000</td>\n",
              "      <td>0.0</td>\n",
              "      <td>0</td>\n",
              "    </tr>\n",
              "    <tr>\n",
              "      <th>2017-12-27</th>\n",
              "      <td>40.619942</td>\n",
              "      <td>40.782324</td>\n",
              "      <td>40.526810</td>\n",
              "      <td>40.739342</td>\n",
              "      <td>85992800</td>\n",
              "      <td>0.0</td>\n",
              "      <td>0</td>\n",
              "    </tr>\n",
              "    <tr>\n",
              "      <th>2017-12-28</th>\n",
              "      <td>40.834869</td>\n",
              "      <td>41.037851</td>\n",
              "      <td>40.710692</td>\n",
              "      <td>40.853973</td>\n",
              "      <td>65920800</td>\n",
              "      <td>0.0</td>\n",
              "      <td>0</td>\n",
              "    </tr>\n",
              "    <tr>\n",
              "      <th>2017-12-29</th>\n",
              "      <td>40.720244</td>\n",
              "      <td>40.736958</td>\n",
              "      <td>40.409803</td>\n",
              "      <td>40.412189</td>\n",
              "      <td>103999600</td>\n",
              "      <td>0.0</td>\n",
              "      <td>0</td>\n",
              "    </tr>\n",
              "  </tbody>\n",
              "</table>\n",
              "<p>503 rows × 7 columns</p>\n",
              "</div>\n",
              "      <button class=\"colab-df-convert\" onclick=\"convertToInteractive('df-98cb5791-9bdb-4459-9c1b-9c3eef61de62')\"\n",
              "              title=\"Convert this dataframe to an interactive table.\"\n",
              "              style=\"display:none;\">\n",
              "        \n",
              "  <svg xmlns=\"http://www.w3.org/2000/svg\" height=\"24px\"viewBox=\"0 0 24 24\"\n",
              "       width=\"24px\">\n",
              "    <path d=\"M0 0h24v24H0V0z\" fill=\"none\"/>\n",
              "    <path d=\"M18.56 5.44l.94 2.06.94-2.06 2.06-.94-2.06-.94-.94-2.06-.94 2.06-2.06.94zm-11 1L8.5 8.5l.94-2.06 2.06-.94-2.06-.94L8.5 2.5l-.94 2.06-2.06.94zm10 10l.94 2.06.94-2.06 2.06-.94-2.06-.94-.94-2.06-.94 2.06-2.06.94z\"/><path d=\"M17.41 7.96l-1.37-1.37c-.4-.4-.92-.59-1.43-.59-.52 0-1.04.2-1.43.59L10.3 9.45l-7.72 7.72c-.78.78-.78 2.05 0 2.83L4 21.41c.39.39.9.59 1.41.59.51 0 1.02-.2 1.41-.59l7.78-7.78 2.81-2.81c.8-.78.8-2.07 0-2.86zM5.41 20L4 18.59l7.72-7.72 1.47 1.35L5.41 20z\"/>\n",
              "  </svg>\n",
              "      </button>\n",
              "      \n",
              "  <style>\n",
              "    .colab-df-container {\n",
              "      display:flex;\n",
              "      flex-wrap:wrap;\n",
              "      gap: 12px;\n",
              "    }\n",
              "\n",
              "    .colab-df-convert {\n",
              "      background-color: #E8F0FE;\n",
              "      border: none;\n",
              "      border-radius: 50%;\n",
              "      cursor: pointer;\n",
              "      display: none;\n",
              "      fill: #1967D2;\n",
              "      height: 32px;\n",
              "      padding: 0 0 0 0;\n",
              "      width: 32px;\n",
              "    }\n",
              "\n",
              "    .colab-df-convert:hover {\n",
              "      background-color: #E2EBFA;\n",
              "      box-shadow: 0px 1px 2px rgba(60, 64, 67, 0.3), 0px 1px 3px 1px rgba(60, 64, 67, 0.15);\n",
              "      fill: #174EA6;\n",
              "    }\n",
              "\n",
              "    [theme=dark] .colab-df-convert {\n",
              "      background-color: #3B4455;\n",
              "      fill: #D2E3FC;\n",
              "    }\n",
              "\n",
              "    [theme=dark] .colab-df-convert:hover {\n",
              "      background-color: #434B5C;\n",
              "      box-shadow: 0px 1px 3px 1px rgba(0, 0, 0, 0.15);\n",
              "      filter: drop-shadow(0px 1px 2px rgba(0, 0, 0, 0.3));\n",
              "      fill: #FFFFFF;\n",
              "    }\n",
              "  </style>\n",
              "\n",
              "      <script>\n",
              "        const buttonEl =\n",
              "          document.querySelector('#df-98cb5791-9bdb-4459-9c1b-9c3eef61de62 button.colab-df-convert');\n",
              "        buttonEl.style.display =\n",
              "          google.colab.kernel.accessAllowed ? 'block' : 'none';\n",
              "\n",
              "        async function convertToInteractive(key) {\n",
              "          const element = document.querySelector('#df-98cb5791-9bdb-4459-9c1b-9c3eef61de62');\n",
              "          const dataTable =\n",
              "            await google.colab.kernel.invokeFunction('convertToInteractive',\n",
              "                                                     [key], {});\n",
              "          if (!dataTable) return;\n",
              "\n",
              "          const docLinkHtml = 'Like what you see? Visit the ' +\n",
              "            '<a target=\"_blank\" href=https://colab.research.google.com/notebooks/data_table.ipynb>data table notebook</a>'\n",
              "            + ' to learn more about interactive tables.';\n",
              "          element.innerHTML = '';\n",
              "          dataTable['output_type'] = 'display_data';\n",
              "          await google.colab.output.renderOutput(dataTable, element);\n",
              "          const docLink = document.createElement('div');\n",
              "          docLink.innerHTML = docLinkHtml;\n",
              "          element.appendChild(docLink);\n",
              "        }\n",
              "      </script>\n",
              "    </div>\n",
              "  </div>\n",
              "  "
            ]
          },
          "metadata": {},
          "execution_count": 443
        }
      ]
    },
    {
      "cell_type": "code",
      "source": [
        "#Ejemplo_cfierro\n",
        "import yfinance as yf\n",
        "\n",
        "IBM1= yf.Ticker(\"IBM\")  #En este caso se busca una empresa que maneje acciones ya que de estas tomaremos la información con ayuda de la librería.\n",
        "# get stock info\n",
        "print(IBM1.info)        #Esta sentencia imprime la información de la variable \"IBM1\" que corresponde a una variable de yfinance y actua como un diccionario.\n",
        "\n",
        "# get historical market data\n",
        "Tabla_IBM =IBM1.history(start=\"2020-01-01\",  end=\"2022-12-31\")  #Con la función \"history\" de yfinance obtenemos los datos de las acciones de esta empresa en un rango de tiempo que determinemos.\n",
        "Tabla_IBM   #El llamado de esta variable imprime una tabla con los datos de apertura,cierre,baja,alza,volumen y otros datos de las acciones de la empresa elegida."
      ],
      "metadata": {
        "colab": {
          "base_uri": "https://localhost:8080/",
          "height": 487
        },
        "id": "p489_TokreEQ",
        "outputId": "d32e17d8-d54f-4e03-aa06-0f4dbd5f68e1"
      },
      "execution_count": null,
      "outputs": [
        {
          "output_type": "stream",
          "name": "stdout",
          "text": [
            "{'zip': '10504', 'sector': 'Technology', 'fullTimeEmployees': 282100, 'longBusinessSummary': \"International Business Machines Corporation provides integrated solutions and services worldwide. The company operates through four business segments: Software, Consulting, Infrastructure, and Financing. The Software segment offers hybrid cloud platform and software solutions, such as Red Hat, an enterprise open-source solutions; software for business automation, AIOps and management, integration, and application servers; data and artificial intelligence solutions; and security software and services for threat, data, and identity. This segment also provides transaction processing software that supports clients' mission-critical and on-premise workloads in banking, airlines, and retail industries. The Consulting segment offers business transformation services, including strategy, business process design and operations, data and analytics, and system integration services; technology consulting services; and application and cloud platform services. The Infrastructure segment provides on-premises and cloud-based server and storage solutions for its clients' mission-critical and regulated workloads; and support services and solutions for hybrid cloud infrastructure, as well as remanufacturing and remarketing services for used equipment. The Financing segment offers lease, installment payment, loan financing, and short-term working capital financing services. The company was formerly known as Computing-Tabulating-Recording Co. International Business Machines Corporation was incorporated in 1911 and is headquartered in Armonk, New York.\", 'city': 'Armonk', 'phone': '914 499 1900', 'state': 'NY', 'country': 'United States', 'companyOfficers': [], 'website': 'https://www.ibm.com', 'maxAge': 1, 'address1': 'One New Orchard Road', 'industry': 'Information Technology Services', 'ebitdaMargins': 0.21253, 'profitMargins': 0.10014, 'grossMargins': 0.54901004, 'operatingCashflow': 12796000256, 'revenueGrowth': 0.692, 'operatingMargins': 0.10064, 'ebitda': 12188999680, 'targetLowPrice': 115, 'recommendationKey': 'hold', 'grossProfits': 31486000000, 'freeCashflow': 4744625152, 'targetMedianPrice': 144, 'currentPrice': 125.64, 'earningsGrowth': 0.696, 'currentRatio': 0.879, 'returnOnAssets': 0.025050001, 'numberOfAnalystOpinions': 19, 'targetMeanPrice': 143.47, 'debtToEquity': 290.272, 'returnOnEquity': 0.2373, 'targetHighPrice': 165, 'totalCash': 7249999872, 'totalDebt': 55139999744, 'totalRevenue': 57351000064, 'totalCashPerShare': 8.062, 'financialCurrency': 'USD', 'revenuePerShare': 64.008, 'quickRatio': 0.675, 'recommendationMean': 2.7, 'exchange': 'NYQ', 'shortName': 'International Business Machines', 'longName': 'International Business Machines Corporation', 'exchangeTimezoneName': 'America/New_York', 'exchangeTimezoneShortName': 'EDT', 'isEsgPopulated': False, 'gmtOffSetMilliseconds': '-14400000', 'quoteType': 'EQUITY', 'symbol': 'IBM', 'messageBoardId': 'finmb_112350', 'market': 'us_market', 'annualHoldingsTurnover': None, 'enterpriseToRevenue': 2.78, 'beta3Year': None, 'enterpriseToEbitda': 13.081, '52WeekChange': 0.0109267235, 'morningStarRiskRating': None, 'forwardEps': 10.54, 'revenueQuarterlyGrowth': None, 'sharesOutstanding': 896320000, 'fundInceptionDate': None, 'annualReportExpenseRatio': None, 'totalAssets': None, 'bookValue': 21.046, 'sharesShort': 25605702, 'sharesPercentSharesOut': 0.028499998, 'fundFamily': None, 'lastFiscalYearEnd': 1640908800, 'heldPercentInstitutions': 0.57122004, 'netIncomeToCommon': 4712999936, 'trailingEps': 6.349, 'lastDividendValue': 1.64, 'SandP52WeekChange': 0.053094983, 'priceToBook': 5.9697804, 'heldPercentInsiders': 0.00095, 'nextFiscalYearEnd': 1703980800, 'yield': None, 'mostRecentQuarter': 1640908800, 'shortRatio': 4.89, 'sharesShortPreviousMonthDate': 1643587200, 'floatShares': 897763173, 'beta': 1.098917, 'enterpriseValue': 159445483520, 'priceHint': 2, 'threeYearAverageReturn': None, 'lastSplitDate': 1635984000, 'lastSplitFactor': '1046:1000', 'legalType': None, 'lastDividendDate': 1644451200, 'morningStarOverallRating': None, 'earningsQuarterlyGrowth': 0.721, 'priceToSalesTrailing12Months': 1.9635864, 'dateShortInterest': 1646006400, 'pegRatio': 0.76, 'ytdReturn': None, 'forwardPE': 11.920303, 'lastCapGain': None, 'shortPercentOfFloat': 0.028499998, 'sharesShortPriorMonth': 25652892, 'impliedSharesOutstanding': None, 'category': None, 'fiveYearAverageReturn': None, 'previousClose': 123.94, 'regularMarketOpen': 124, 'twoHundredDayAverage': 131.08914, 'trailingAnnualDividendYield': 0.052928835, 'payoutRatio': 1.2572, 'volume24Hr': None, 'regularMarketDayHigh': 125.9398, 'navPrice': None, 'averageDailyVolume10Day': 4644580, 'regularMarketPreviousClose': 123.94, 'fiftyDayAverage': 130.7644, 'trailingAnnualDividendRate': 6.56, 'open': 124, 'toCurrency': None, 'averageVolume10days': 4644580, 'expireDate': None, 'algorithm': None, 'dividendRate': 6.56, 'exDividendDate': 1644451200, 'circulatingSupply': None, 'startDate': None, 'regularMarketDayLow': 123.26, 'currency': 'USD', 'trailingPE': 19.788942, 'regularMarketVolume': 4015984, 'lastMarket': None, 'maxSupply': None, 'openInterest': None, 'marketCap': 112613646336, 'volumeAllCurrencies': None, 'strikePrice': None, 'averageVolume': 5757953, 'dayLow': 123.26, 'ask': 125.64, 'askSize': 800, 'volume': 4015984, 'fiftyTwoWeekHigh': 146.11855, 'fromCurrency': None, 'fiveYearAvgDividendYield': 4.63, 'fiftyTwoWeekLow': 114.56, 'bid': 125.76, 'tradeable': False, 'dividendYield': 0.0529, 'bidSize': 900, 'dayHigh': 125.9398, 'regularMarketPrice': 125.64, 'preMarketPrice': 124.05, 'logo_url': 'https://logo.clearbit.com/ibm.com', 'trailingPegRatio': 1.1843}\n"
          ]
        },
        {
          "output_type": "execute_result",
          "data": {
            "text/plain": [
              "                  Open        High         Low       Close   Volume  \\\n",
              "Date                                                                  \n",
              "2020-01-02  114.904173  115.687229  114.708416  115.261658  3293436   \n",
              "2020-01-03  113.687044  114.785023  113.678533  114.342430  2482890   \n",
              "2020-01-06  113.559364  114.257298  113.372111  114.138145  2537073   \n",
              "2020-01-07  113.789172  114.870123  113.542343  114.214737  3232977   \n",
              "2020-01-08  114.487118  115.636163  113.984942  115.168030  4545916   \n",
              "...                ...         ...         ...         ...      ...   \n",
              "2022-03-09  127.410004  128.100006  125.910004  126.220001  4403500   \n",
              "2022-03-10  125.750000  126.029999  123.129997  124.349998  5326800   \n",
              "2022-03-11  125.000000  126.769997  123.910004  123.959999  4117600   \n",
              "2022-03-14  124.449997  125.160004  122.690002  123.940002  3289200   \n",
              "2022-03-15  124.000000  125.939796  123.260002  125.639999  4015984   \n",
              "\n",
              "            Dividends  Stock Splits  \n",
              "Date                                 \n",
              "2020-01-02        0.0           0.0  \n",
              "2020-01-03        0.0           0.0  \n",
              "2020-01-06        0.0           0.0  \n",
              "2020-01-07        0.0           0.0  \n",
              "2020-01-08        0.0           0.0  \n",
              "...               ...           ...  \n",
              "2022-03-09        0.0           0.0  \n",
              "2022-03-10        0.0           0.0  \n",
              "2022-03-11        0.0           0.0  \n",
              "2022-03-14        0.0           0.0  \n",
              "2022-03-15        0.0           0.0  \n",
              "\n",
              "[555 rows x 7 columns]"
            ],
            "text/html": [
              "\n",
              "  <div id=\"df-4ab15019-c464-41b1-ab4d-2e7537a0b4a9\">\n",
              "    <div class=\"colab-df-container\">\n",
              "      <div>\n",
              "<style scoped>\n",
              "    .dataframe tbody tr th:only-of-type {\n",
              "        vertical-align: middle;\n",
              "    }\n",
              "\n",
              "    .dataframe tbody tr th {\n",
              "        vertical-align: top;\n",
              "    }\n",
              "\n",
              "    .dataframe thead th {\n",
              "        text-align: right;\n",
              "    }\n",
              "</style>\n",
              "<table border=\"1\" class=\"dataframe\">\n",
              "  <thead>\n",
              "    <tr style=\"text-align: right;\">\n",
              "      <th></th>\n",
              "      <th>Open</th>\n",
              "      <th>High</th>\n",
              "      <th>Low</th>\n",
              "      <th>Close</th>\n",
              "      <th>Volume</th>\n",
              "      <th>Dividends</th>\n",
              "      <th>Stock Splits</th>\n",
              "    </tr>\n",
              "    <tr>\n",
              "      <th>Date</th>\n",
              "      <th></th>\n",
              "      <th></th>\n",
              "      <th></th>\n",
              "      <th></th>\n",
              "      <th></th>\n",
              "      <th></th>\n",
              "      <th></th>\n",
              "    </tr>\n",
              "  </thead>\n",
              "  <tbody>\n",
              "    <tr>\n",
              "      <th>2020-01-02</th>\n",
              "      <td>114.904173</td>\n",
              "      <td>115.687229</td>\n",
              "      <td>114.708416</td>\n",
              "      <td>115.261658</td>\n",
              "      <td>3293436</td>\n",
              "      <td>0.0</td>\n",
              "      <td>0.0</td>\n",
              "    </tr>\n",
              "    <tr>\n",
              "      <th>2020-01-03</th>\n",
              "      <td>113.687044</td>\n",
              "      <td>114.785023</td>\n",
              "      <td>113.678533</td>\n",
              "      <td>114.342430</td>\n",
              "      <td>2482890</td>\n",
              "      <td>0.0</td>\n",
              "      <td>0.0</td>\n",
              "    </tr>\n",
              "    <tr>\n",
              "      <th>2020-01-06</th>\n",
              "      <td>113.559364</td>\n",
              "      <td>114.257298</td>\n",
              "      <td>113.372111</td>\n",
              "      <td>114.138145</td>\n",
              "      <td>2537073</td>\n",
              "      <td>0.0</td>\n",
              "      <td>0.0</td>\n",
              "    </tr>\n",
              "    <tr>\n",
              "      <th>2020-01-07</th>\n",
              "      <td>113.789172</td>\n",
              "      <td>114.870123</td>\n",
              "      <td>113.542343</td>\n",
              "      <td>114.214737</td>\n",
              "      <td>3232977</td>\n",
              "      <td>0.0</td>\n",
              "      <td>0.0</td>\n",
              "    </tr>\n",
              "    <tr>\n",
              "      <th>2020-01-08</th>\n",
              "      <td>114.487118</td>\n",
              "      <td>115.636163</td>\n",
              "      <td>113.984942</td>\n",
              "      <td>115.168030</td>\n",
              "      <td>4545916</td>\n",
              "      <td>0.0</td>\n",
              "      <td>0.0</td>\n",
              "    </tr>\n",
              "    <tr>\n",
              "      <th>...</th>\n",
              "      <td>...</td>\n",
              "      <td>...</td>\n",
              "      <td>...</td>\n",
              "      <td>...</td>\n",
              "      <td>...</td>\n",
              "      <td>...</td>\n",
              "      <td>...</td>\n",
              "    </tr>\n",
              "    <tr>\n",
              "      <th>2022-03-09</th>\n",
              "      <td>127.410004</td>\n",
              "      <td>128.100006</td>\n",
              "      <td>125.910004</td>\n",
              "      <td>126.220001</td>\n",
              "      <td>4403500</td>\n",
              "      <td>0.0</td>\n",
              "      <td>0.0</td>\n",
              "    </tr>\n",
              "    <tr>\n",
              "      <th>2022-03-10</th>\n",
              "      <td>125.750000</td>\n",
              "      <td>126.029999</td>\n",
              "      <td>123.129997</td>\n",
              "      <td>124.349998</td>\n",
              "      <td>5326800</td>\n",
              "      <td>0.0</td>\n",
              "      <td>0.0</td>\n",
              "    </tr>\n",
              "    <tr>\n",
              "      <th>2022-03-11</th>\n",
              "      <td>125.000000</td>\n",
              "      <td>126.769997</td>\n",
              "      <td>123.910004</td>\n",
              "      <td>123.959999</td>\n",
              "      <td>4117600</td>\n",
              "      <td>0.0</td>\n",
              "      <td>0.0</td>\n",
              "    </tr>\n",
              "    <tr>\n",
              "      <th>2022-03-14</th>\n",
              "      <td>124.449997</td>\n",
              "      <td>125.160004</td>\n",
              "      <td>122.690002</td>\n",
              "      <td>123.940002</td>\n",
              "      <td>3289200</td>\n",
              "      <td>0.0</td>\n",
              "      <td>0.0</td>\n",
              "    </tr>\n",
              "    <tr>\n",
              "      <th>2022-03-15</th>\n",
              "      <td>124.000000</td>\n",
              "      <td>125.939796</td>\n",
              "      <td>123.260002</td>\n",
              "      <td>125.639999</td>\n",
              "      <td>4015984</td>\n",
              "      <td>0.0</td>\n",
              "      <td>0.0</td>\n",
              "    </tr>\n",
              "  </tbody>\n",
              "</table>\n",
              "<p>555 rows × 7 columns</p>\n",
              "</div>\n",
              "      <button class=\"colab-df-convert\" onclick=\"convertToInteractive('df-4ab15019-c464-41b1-ab4d-2e7537a0b4a9')\"\n",
              "              title=\"Convert this dataframe to an interactive table.\"\n",
              "              style=\"display:none;\">\n",
              "        \n",
              "  <svg xmlns=\"http://www.w3.org/2000/svg\" height=\"24px\"viewBox=\"0 0 24 24\"\n",
              "       width=\"24px\">\n",
              "    <path d=\"M0 0h24v24H0V0z\" fill=\"none\"/>\n",
              "    <path d=\"M18.56 5.44l.94 2.06.94-2.06 2.06-.94-2.06-.94-.94-2.06-.94 2.06-2.06.94zm-11 1L8.5 8.5l.94-2.06 2.06-.94-2.06-.94L8.5 2.5l-.94 2.06-2.06.94zm10 10l.94 2.06.94-2.06 2.06-.94-2.06-.94-.94-2.06-.94 2.06-2.06.94z\"/><path d=\"M17.41 7.96l-1.37-1.37c-.4-.4-.92-.59-1.43-.59-.52 0-1.04.2-1.43.59L10.3 9.45l-7.72 7.72c-.78.78-.78 2.05 0 2.83L4 21.41c.39.39.9.59 1.41.59.51 0 1.02-.2 1.41-.59l7.78-7.78 2.81-2.81c.8-.78.8-2.07 0-2.86zM5.41 20L4 18.59l7.72-7.72 1.47 1.35L5.41 20z\"/>\n",
              "  </svg>\n",
              "      </button>\n",
              "      \n",
              "  <style>\n",
              "    .colab-df-container {\n",
              "      display:flex;\n",
              "      flex-wrap:wrap;\n",
              "      gap: 12px;\n",
              "    }\n",
              "\n",
              "    .colab-df-convert {\n",
              "      background-color: #E8F0FE;\n",
              "      border: none;\n",
              "      border-radius: 50%;\n",
              "      cursor: pointer;\n",
              "      display: none;\n",
              "      fill: #1967D2;\n",
              "      height: 32px;\n",
              "      padding: 0 0 0 0;\n",
              "      width: 32px;\n",
              "    }\n",
              "\n",
              "    .colab-df-convert:hover {\n",
              "      background-color: #E2EBFA;\n",
              "      box-shadow: 0px 1px 2px rgba(60, 64, 67, 0.3), 0px 1px 3px 1px rgba(60, 64, 67, 0.15);\n",
              "      fill: #174EA6;\n",
              "    }\n",
              "\n",
              "    [theme=dark] .colab-df-convert {\n",
              "      background-color: #3B4455;\n",
              "      fill: #D2E3FC;\n",
              "    }\n",
              "\n",
              "    [theme=dark] .colab-df-convert:hover {\n",
              "      background-color: #434B5C;\n",
              "      box-shadow: 0px 1px 3px 1px rgba(0, 0, 0, 0.15);\n",
              "      filter: drop-shadow(0px 1px 2px rgba(0, 0, 0, 0.3));\n",
              "      fill: #FFFFFF;\n",
              "    }\n",
              "  </style>\n",
              "\n",
              "      <script>\n",
              "        const buttonEl =\n",
              "          document.querySelector('#df-4ab15019-c464-41b1-ab4d-2e7537a0b4a9 button.colab-df-convert');\n",
              "        buttonEl.style.display =\n",
              "          google.colab.kernel.accessAllowed ? 'block' : 'none';\n",
              "\n",
              "        async function convertToInteractive(key) {\n",
              "          const element = document.querySelector('#df-4ab15019-c464-41b1-ab4d-2e7537a0b4a9');\n",
              "          const dataTable =\n",
              "            await google.colab.kernel.invokeFunction('convertToInteractive',\n",
              "                                                     [key], {});\n",
              "          if (!dataTable) return;\n",
              "\n",
              "          const docLinkHtml = 'Like what you see? Visit the ' +\n",
              "            '<a target=\"_blank\" href=https://colab.research.google.com/notebooks/data_table.ipynb>data table notebook</a>'\n",
              "            + ' to learn more about interactive tables.';\n",
              "          element.innerHTML = '';\n",
              "          dataTable['output_type'] = 'display_data';\n",
              "          await google.colab.output.renderOutput(dataTable, element);\n",
              "          const docLink = document.createElement('div');\n",
              "          docLink.innerHTML = docLinkHtml;\n",
              "          element.appendChild(docLink);\n",
              "        }\n",
              "      </script>\n",
              "    </div>\n",
              "  </div>\n",
              "  "
            ]
          },
          "metadata": {},
          "execution_count": 444
        }
      ]
    },
    {
      "cell_type": "markdown",
      "metadata": {
        "id": "NkFztSYhJyVA"
      },
      "source": [
        "We will create a Series named \"aapl\" whose values are Apple's daily closing prices, which are of course indexed by dates:"
      ]
    },
    {
      "cell_type": "code",
      "metadata": {
        "id": "QDJbOpCeHW91"
      },
      "source": [
        "aapl = aapl_table['Close']['2017']"
      ],
      "execution_count": null,
      "outputs": []
    },
    {
      "cell_type": "code",
      "source": [
        "#ejemplo_cfierro\n",
        "IBM1 = Tabla_IBM['Close']['2020']   \n",
        "#En esta sentencia se está creando una serie que actua en base a la información de las acciones y al ser diccionarios funcionan con llaves y valores. Por eso llamamos primero a \"close\" y luego se indexa mediante las fechas."
      ],
      "metadata": {
        "id": "N-WVQ9EztlgH"
      },
      "execution_count": null,
      "outputs": []
    },
    {
      "cell_type": "code",
      "metadata": {
        "colab": {
          "base_uri": "https://localhost:8080/"
        },
        "id": "SXfgCQJOHW91",
        "outputId": "02307de5-1330-402e-b286-eae61ebabe48"
      },
      "source": [
        "print(aapl)"
      ],
      "execution_count": null,
      "outputs": [
        {
          "output_type": "stream",
          "name": "stdout",
          "text": [
            "Date\n",
            "2017-01-03    27.297693\n",
            "2017-01-04    27.267136\n",
            "2017-01-05    27.405796\n",
            "2017-01-06    27.711327\n",
            "2017-01-09    27.965155\n",
            "                ...    \n",
            "2017-12-22    41.792458\n",
            "2017-12-26    40.732182\n",
            "2017-12-27    40.739342\n",
            "2017-12-28    40.853973\n",
            "2017-12-29    40.412189\n",
            "Name: Close, Length: 251, dtype: float64\n"
          ]
        }
      ]
    },
    {
      "cell_type": "code",
      "source": [
        "#ejemplo_cfierro\n",
        "print(IBM1) \n",
        "#al imprimir \"IBM1\" se requiere la información que, como se vió anteriormente, tiene como indices fechas que en este caso tienen frecuencia diaria desde el inicio del año hasta su final.\n",
        "#Esto para indicar a que dia corresponde el valor que se muestra en pantalla y corresponde al cierre de la acción ese día."
      ],
      "metadata": {
        "colab": {
          "base_uri": "https://localhost:8080/"
        },
        "id": "YSd8MOoJtg2J",
        "outputId": "2fc5b390-9687-4806-9cfe-4db79fa7cb06"
      },
      "execution_count": null,
      "outputs": [
        {
          "output_type": "stream",
          "name": "stdout",
          "text": [
            "Date\n",
            "2020-01-02    115.261658\n",
            "2020-01-03    114.342430\n",
            "2020-01-06    114.138145\n",
            "2020-01-07    114.214737\n",
            "2020-01-08    115.168030\n",
            "                 ...    \n",
            "2020-12-24    111.959419\n",
            "2020-12-28    112.076157\n",
            "2020-12-29    111.160301\n",
            "2020-12-30    111.645164\n",
            "2020-12-31    113.027931\n",
            "Name: Close, Length: 253, dtype: float64\n"
          ]
        }
      ]
    },
    {
      "cell_type": "markdown",
      "metadata": {
        "id": "waUEgBhzKEcA"
      },
      "source": [
        "Recall that we can fetch a specific data point using series['yyyy-mm-dd']. We can also fetch the data in a specific month using series['yyyy-mm']."
      ]
    },
    {
      "cell_type": "code",
      "metadata": {
        "colab": {
          "base_uri": "https://localhost:8080/"
        },
        "id": "2gS50G0zHW92",
        "outputId": "0bc4fb30-37e7-494e-f3a5-4b2e3adc05a8"
      },
      "source": [
        "print(aapl['2017-3'])"
      ],
      "execution_count": null,
      "outputs": [
        {
          "output_type": "stream",
          "name": "stdout",
          "text": [
            "Date\n",
            "2017-03-01    32.996029\n",
            "2017-03-02    32.800117\n",
            "2017-03-03    32.993671\n",
            "2017-03-06    32.889809\n",
            "2017-03-07    32.932301\n",
            "2017-03-08    32.809551\n",
            "2017-03-09    32.734024\n",
            "2017-03-10    32.842598\n",
            "2017-03-13    32.856770\n",
            "2017-03-14    32.807205\n",
            "2017-03-15    33.154171\n",
            "2017-03-16    33.208466\n",
            "2017-03-17    33.043232\n",
            "2017-03-20    33.390213\n",
            "2017-03-21    33.007828\n",
            "2017-03-22    33.380775\n",
            "2017-03-23    33.262756\n",
            "2017-03-24    33.196667\n",
            "2017-03-27    33.253315\n",
            "2017-03-28    33.942558\n",
            "2017-03-29    34.018082\n",
            "2017-03-30    33.973232\n",
            "2017-03-31    33.909512\n",
            "Name: Close, dtype: float64\n"
          ]
        }
      ]
    },
    {
      "cell_type": "code",
      "source": [
        "#Ejemplo_cfierro \n",
        "print(IBM1['2020-2'])   \n",
        "#usando las facilidades de las series podemos obtener la información de la acción a lo largo de un mes. Esto indicando el año y un guion que seguido indica el mes."
      ],
      "metadata": {
        "colab": {
          "base_uri": "https://localhost:8080/"
        },
        "id": "pEFJIL_suW8P",
        "outputId": "0a9b9e1b-cb79-4870-eb4d-6c0b7c57d949"
      },
      "execution_count": null,
      "outputs": [
        {
          "output_type": "stream",
          "name": "stdout",
          "text": [
            "Date\n",
            "2020-02-03    124.496536\n",
            "2020-02-04    126.913788\n",
            "2020-02-05    133.059021\n",
            "2020-02-06    133.425003\n",
            "2020-02-07    132.000595\n",
            "2020-02-10    132.878235\n",
            "2020-02-11    132.060806\n",
            "2020-02-12    133.635406\n",
            "2020-02-13    132.774979\n",
            "2020-02-14    129.668777\n",
            "2020-02-18    130.012939\n",
            "2020-02-19    129.806442\n",
            "2020-02-20    130.116211\n",
            "2020-02-21    128.928802\n",
            "2020-02-24    125.994698\n",
            "2020-02-25    121.933388\n",
            "2020-02-26    120.246910\n",
            "2020-02-27    114.533569\n",
            "2020-02-28    111.986671\n",
            "Name: Close, dtype: float64\n"
          ]
        }
      ]
    },
    {
      "cell_type": "code",
      "metadata": {
        "colab": {
          "base_uri": "https://localhost:8080/"
        },
        "id": "vpvxGwXtHW92",
        "outputId": "0c1ed193-afc9-4cfa-b4be-4d5025c0b994"
      },
      "source": [
        "aapl['2017-2':'2017-4']"
      ],
      "execution_count": null,
      "outputs": [
        {
          "output_type": "execute_result",
          "data": {
            "text/plain": [
              "Date\n",
              "2017-02-01    30.258955\n",
              "2017-02-02    30.207256\n",
              "2017-02-03    30.336514\n",
              "2017-02-06    30.620888\n",
              "2017-02-07    30.912317\n",
              "                ...    \n",
              "2017-04-24    33.904781\n",
              "2017-04-25    34.114853\n",
              "2017-04-26    33.914215\n",
              "2017-04-27    33.940186\n",
              "2017-04-28    33.907135\n",
              "Name: Close, Length: 61, dtype: float64"
            ]
          },
          "metadata": {},
          "execution_count": 451
        }
      ]
    },
    {
      "cell_type": "code",
      "source": [
        "#Ejemplo_cfierro\n",
        "IBM1['2020-2':'2020-6']\n",
        "#Al poder se indexada esta serie, esto indica que las propiedades vistas a lo largo del documento se cumplen. Por lo tanto se puede ver que también es funcional la indexación por trozos.\n",
        "#En este caso estamos indicando el mes y año que queremos ver, tanto para el inicio como para el final. Esto nos da la información del cierre de la acción en este rango de tiempo."
      ],
      "metadata": {
        "colab": {
          "base_uri": "https://localhost:8080/"
        },
        "id": "dTNdH8_uu8c6",
        "outputId": "dab63c18-6fd7-4441-eb72-36fe8083cdd2"
      },
      "execution_count": null,
      "outputs": [
        {
          "output_type": "execute_result",
          "data": {
            "text/plain": [
              "Date\n",
              "2020-02-03    124.496536\n",
              "2020-02-04    126.913788\n",
              "2020-02-05    133.059021\n",
              "2020-02-06    133.425003\n",
              "2020-02-07    132.000595\n",
              "                 ...    \n",
              "2020-06-24    101.578888\n",
              "2020-06-25    103.856171\n",
              "2020-06-26    102.250732\n",
              "2020-06-29    104.484383\n",
              "2020-06-30    105.374359\n",
              "Name: Close, Length: 104, dtype: float64"
            ]
          },
          "metadata": {},
          "execution_count": 452
        }
      ]
    },
    {
      "cell_type": "markdown",
      "metadata": {
        "id": "lWwoD39pKNKb"
      },
      "source": [
        ".head(N) and .tail(N) are methods for quickly accessing the first or last N elements."
      ]
    },
    {
      "cell_type": "code",
      "metadata": {
        "colab": {
          "base_uri": "https://localhost:8080/"
        },
        "id": "1eU218ALHW93",
        "outputId": "b6822338-11ed-457b-bff7-cba501823ea5"
      },
      "source": [
        "print(aapl.head(5))\n",
        "print(aapl.tail(10))"
      ],
      "execution_count": null,
      "outputs": [
        {
          "output_type": "stream",
          "name": "stdout",
          "text": [
            "Date\n",
            "2017-01-03    27.297693\n",
            "2017-01-04    27.267136\n",
            "2017-01-05    27.405796\n",
            "2017-01-06    27.711327\n",
            "2017-01-09    27.965155\n",
            "Name: Close, dtype: float64\n",
            "Date\n",
            "2017-12-15    41.544106\n",
            "2017-12-18    42.129158\n",
            "2017-12-19    41.680218\n",
            "2017-12-20    41.634846\n",
            "2017-12-21    41.792458\n",
            "2017-12-22    41.792458\n",
            "2017-12-26    40.732182\n",
            "2017-12-27    40.739342\n",
            "2017-12-28    40.853973\n",
            "2017-12-29    40.412189\n",
            "Name: Close, dtype: float64\n"
          ]
        }
      ]
    },
    {
      "cell_type": "code",
      "source": [
        "#Ejemplo_cfierro\n",
        "print(IBM1.head(3)) #con el método \"head\" podemos acceder a los primeros datos de \"IBM1\", solamente se debe especificar en su argumento el número de datos iniciales a ver.\n",
        "print(IBM1.tail(7)) #El método \"tail\" funciona de manera similar al \"head\", solo que ahora el argumento nos dará el número de datos finales que queremos ver.\n",
        "#Esto aplica para la información que tiene actualmente la variable y que fue especificada en un rango de fechas anteriormente."
      ],
      "metadata": {
        "colab": {
          "base_uri": "https://localhost:8080/"
        },
        "id": "820PtOsnvXdz",
        "outputId": "cc0c8ad3-98ec-4e4f-b943-081b7c4292b6"
      },
      "execution_count": null,
      "outputs": [
        {
          "output_type": "stream",
          "name": "stdout",
          "text": [
            "Date\n",
            "2020-01-02    115.261658\n",
            "2020-01-03    114.342430\n",
            "2020-01-06    114.138145\n",
            "Name: Close, dtype: float64\n",
            "Date\n",
            "2020-12-22    110.989685\n",
            "2020-12-23    111.250069\n",
            "2020-12-24    111.959419\n",
            "2020-12-28    112.076157\n",
            "2020-12-29    111.160301\n",
            "2020-12-30    111.645164\n",
            "2020-12-31    113.027931\n",
            "Name: Close, dtype: float64\n"
          ]
        }
      ]
    },
    {
      "cell_type": "markdown",
      "metadata": {
        "id": "IxhKxtj-KQ66"
      },
      "source": [
        "# Resampling\n",
        "**_series.resample(freq)_** is a class called \"DatetimeIndexResampler\" which groups data in a Series object into regular time intervals. The argument \"freq\" determines the length of each interval.\n",
        "\n",
        "**_series.resample.mean()_** is a complete statement that groups data into intervals, and then compute the mean of each interval. For example, if we want to aggregate the daily data into monthly data by mean:"
      ]
    },
    {
      "cell_type": "code",
      "metadata": {
        "colab": {
          "base_uri": "https://localhost:8080/"
        },
        "id": "rAV8NkHkHW93",
        "outputId": "3df62b03-1937-457e-d742-6b5b8e7efb07"
      },
      "source": [
        "by_month = aapl.resample('M').mean()\n",
        "print(by_month)"
      ],
      "execution_count": null,
      "outputs": [
        {
          "output_type": "stream",
          "name": "stdout",
          "text": [
            "Date\n",
            "2017-01-31    28.101464\n",
            "2017-02-28    31.520055\n",
            "2017-03-31    33.191430\n",
            "2017-04-30    33.727007\n",
            "2017-05-31    36.027137\n",
            "2017-06-30    35.038140\n",
            "2017-07-31    35.149095\n",
            "2017-08-31    37.793848\n",
            "2017-09-30    37.502154\n",
            "2017-10-31    37.551833\n",
            "2017-11-30    41.121434\n",
            "2017-12-31    41.047755\n",
            "Freq: M, Name: Close, dtype: float64\n"
          ]
        }
      ]
    },
    {
      "cell_type": "code",
      "source": [
        "#ejemplo_cfierro\n",
        "Mensual = IBM1.resample('M').mean() #En este caso estamos usando las facilidades de yfinance para convertir la información que tenemos diaria a una información mensual.\n",
        "#El método resample es el encargado de suministrar la información de que ahora queremos agrupar la información por mes y el método mean agrupa la información de estos intervalos y saca la media aritmética para asignarla a cada intervalo mensual.\n",
        "print(Mensual)"
      ],
      "metadata": {
        "colab": {
          "base_uri": "https://localhost:8080/"
        },
        "id": "Df5o97dL6UeE",
        "outputId": "47e1b845-4903-41c4-8bae-3dd348480a80"
      },
      "execution_count": null,
      "outputs": [
        {
          "output_type": "stream",
          "name": "stdout",
          "text": [
            "Date\n",
            "2020-01-31    117.334786\n",
            "2020-02-29    127.603830\n",
            "2020-03-31     97.069713\n",
            "2020-04-30    102.459107\n",
            "2020-05-31    105.432241\n",
            "2020-06-30    108.252881\n",
            "2020-07-31    106.913954\n",
            "2020-08-31    110.255961\n",
            "2020-09-30    107.873454\n",
            "2020-10-31    106.047697\n",
            "2020-11-30    105.270561\n",
            "2020-12-31    112.068804\n",
            "Freq: M, Name: Close, dtype: float64\n"
          ]
        }
      ]
    },
    {
      "cell_type": "markdown",
      "metadata": {
        "id": "QDPfVzBEKV6Q"
      },
      "source": [
        "We can also aggregate the data by week:"
      ]
    },
    {
      "cell_type": "code",
      "metadata": {
        "colab": {
          "base_uri": "https://localhost:8080/"
        },
        "id": "aAP3tKkBHW94",
        "outputId": "157452f7-899f-472e-9e73-99ece977a1c4"
      },
      "source": [
        "by_week = aapl.resample('W').mean()\n",
        "print(by_week.head())"
      ],
      "execution_count": null,
      "outputs": [
        {
          "output_type": "stream",
          "name": "stdout",
          "text": [
            "Date\n",
            "2017-01-08    27.420488\n",
            "2017-01-15    28.021089\n",
            "2017-01-22    28.189010\n",
            "2017-01-29    28.476088\n",
            "2017-02-05    29.581626\n",
            "Freq: W-SUN, Name: Close, dtype: float64\n"
          ]
        }
      ]
    },
    {
      "cell_type": "code",
      "source": [
        "#ejemplo_cfierro\n",
        "Semanal = IBM1.resample('W').mean() \n",
        "#Esta sentencia está agrupando los datos de \"IBM1\" pero en este caso lo hace de manera semanal. Igualmente toma la data y saca su media aritmética para cada intervalo.\n",
        "print(Semanal.head())   #En esta sentencia estamos imprimiendo la información semanal obtenida y con eso se usa el método \"head\" para obtener los datos iniciales recolectados.\n",
        "#Al no aclarar en el argumento de \"head\" cuantos datos requerimos, se muestran los primeros 5."
      ],
      "metadata": {
        "colab": {
          "base_uri": "https://localhost:8080/"
        },
        "id": "Kw-WHp7T7Hgg",
        "outputId": "023d39e4-d944-4318-df98-f11838237615"
      },
      "execution_count": null,
      "outputs": [
        {
          "output_type": "stream",
          "name": "stdout",
          "text": [
            "Date\n",
            "2020-01-05    114.802044\n",
            "2020-01-12    115.249731\n",
            "2020-01-19    116.662630\n",
            "2020-01-26    120.540850\n",
            "2020-02-02    118.540244\n",
            "Freq: W-SUN, Name: Close, dtype: float64\n"
          ]
        }
      ]
    },
    {
      "cell_type": "markdown",
      "metadata": {
        "id": "o_MXSVsILoBS"
      },
      "source": [
        "We can also aggregate the data by month with max:"
      ]
    },
    {
      "cell_type": "code",
      "metadata": {
        "id": "gn0wqXBTHW95",
        "colab": {
          "base_uri": "https://localhost:8080/"
        },
        "outputId": "14074aed-4b97-4dbe-cc97-2f21a4eb4a46"
      },
      "source": [
        "aapl.resample('M').max()"
      ],
      "execution_count": null,
      "outputs": [
        {
          "output_type": "execute_result",
          "data": {
            "text/plain": [
              "Date\n",
              "2017-01-31    28.660814\n",
              "2017-02-28    32.363441\n",
              "2017-03-31    34.018082\n",
              "2017-04-30    34.171505\n",
              "2017-05-31    36.997929\n",
              "2017-06-30    36.843861\n",
              "2017-07-31    36.372204\n",
              "2017-08-31    39.022984\n",
              "2017-09-30    39.034878\n",
              "2017-10-31    40.222225\n",
              "2017-11-30    41.935432\n",
              "2017-12-31    42.129158\n",
              "Freq: M, Name: Close, dtype: float64"
            ]
          },
          "metadata": {},
          "execution_count": 459
        }
      ]
    },
    {
      "cell_type": "code",
      "source": [
        "#ejemplo_cfierro\n",
        "IBM1.resample('M').max()    \n",
        "#Esta sentencia muestra el uso del método \"max\" que usando resample como anteriormente se hizo, separa los datos por meses y \"max\" que se encarga de tomar el mayor valor de cada intervalo."
      ],
      "metadata": {
        "colab": {
          "base_uri": "https://localhost:8080/"
        },
        "id": "roWpOS3T8S2p",
        "outputId": "0c500c5a-47ef-4698-ca8c-595216abb53a"
      },
      "execution_count": null,
      "outputs": [
        {
          "output_type": "execute_result",
          "data": {
            "text/plain": [
              "Date\n",
              "2020-01-31    122.470802\n",
              "2020-02-29    133.635406\n",
              "2020-03-31    115.557495\n",
              "2020-04-30    110.730431\n",
              "2020-05-31    109.536278\n",
              "2020-06-30    118.444733\n",
              "2020-07-31    112.267265\n",
              "2020-08-31    112.425980\n",
              "2020-09-30    113.372383\n",
              "2020-10-31    116.299995\n",
              "2020-11-30    111.716988\n",
              "2020-12-31    114.213158\n",
              "Freq: M, Name: Close, dtype: float64"
            ]
          },
          "metadata": {},
          "execution_count": 460
        }
      ]
    },
    {
      "cell_type": "markdown",
      "metadata": {
        "id": "Z8r46UFlLdAh"
      },
      "source": [
        "We can choose almost any frequency by using the format 'nf', where 'n' is an integer and 'f' is M for month, W for week and D for day."
      ]
    },
    {
      "cell_type": "code",
      "metadata": {
        "id": "kdVB_-JFHW96",
        "colab": {
          "base_uri": "https://localhost:8080/"
        },
        "outputId": "a483da86-a4ed-4c46-bd61-a5105ea54e2f"
      },
      "source": [
        "three_day = aapl.resample('3D').mean()\n",
        "two_week = aapl.resample('2W').mean()\n",
        "two_month = aapl.resample('2M').mean()\n",
        "\n",
        "\n",
        "print(three_day)\n",
        "print(two_week)\n",
        "print(two_month )"
      ],
      "execution_count": null,
      "outputs": [
        {
          "output_type": "stream",
          "name": "stdout",
          "text": [
            "Date\n",
            "2017-01-03    27.323542\n",
            "2017-01-06    27.711327\n",
            "2017-01-09    28.034093\n",
            "2017-01-12    28.001582\n",
            "2017-01-15    28.202524\n",
            "                ...    \n",
            "2017-12-17    41.904688\n",
            "2017-12-20    41.739920\n",
            "2017-12-23          NaN\n",
            "2017-12-26    40.775166\n",
            "2017-12-29    40.412189\n",
            "Freq: 3D, Name: Close, Length: 121, dtype: float64\n",
            "Date\n",
            "2017-01-08    27.420488\n",
            "2017-01-22    28.095721\n",
            "2017-02-05    29.028857\n",
            "2017-02-19    31.430840\n",
            "2017-03-05    32.506638\n",
            "2017-03-19    32.927813\n",
            "2017-04-02    33.533494\n",
            "2017-04-16    33.757391\n",
            "2017-04-30    33.699661\n",
            "2017-05-14    35.600253\n",
            "2017-05-28    36.396619\n",
            "2017-06-11    36.415396\n",
            "2017-06-25    34.434853\n",
            "2017-07-09    34.171661\n",
            "2017-07-23    35.182631\n",
            "2017-08-06    36.173829\n",
            "2017-08-20    37.800719\n",
            "2017-09-03    38.353880\n",
            "2017-09-17    38.178275\n",
            "2017-10-01    36.740374\n",
            "2017-10-15    36.970470\n",
            "2017-10-29    37.654322\n",
            "2017-11-12    40.920306\n",
            "2017-11-26    41.091975\n",
            "2017-12-10    40.755584\n",
            "2017-12-24    41.507326\n",
            "2018-01-07    40.684422\n",
            "Freq: 2W-SUN, Name: Close, dtype: float64\n",
            "Date\n",
            "2017-01-31    28.101464\n",
            "2017-03-31    32.435332\n",
            "2017-05-31    34.961223\n",
            "2017-07-31    35.090975\n",
            "2017-09-30    37.658176\n",
            "2017-11-30    39.295126\n",
            "2018-01-31    41.047755\n",
            "Freq: 2M, Name: Close, dtype: float64\n"
          ]
        }
      ]
    },
    {
      "cell_type": "code",
      "source": [
        "#ejemplo_cfierro\n",
        "Tres_dias = IBM1.resample('3D').mean()      \n",
        "Dos_semanas = IBM1.resample('2W').mean()\n",
        "Dos_meses = IBM1.resample('2M').mean()\n",
        "#En las sentencias superiores lo que se hizo fue usar \"resample\" para separar la información en lapsos de tiempo. No solo a nivel mensual o anual, sino que este método permite seleccionar\n",
        "#la cantidad de unidades que tendrán los intervalos. En el primer caso se estan creando intervalos cada 3 días. El segundo caso crea los intervalos cada 2 semanas. El tercer caso crea\n",
        "#los intervalos cada 2 meses. Al usar mean todos estos intervalos son tomados y de estos se obtiene su media aritmética, la cual es el valor que acompaña los indices.\n",
        "print(Tres_dias)\n",
        "print(Dos_semanas)\n",
        "print(Dos_meses )"
      ],
      "metadata": {
        "id": "BKigir0r8xy2",
        "colab": {
          "base_uri": "https://localhost:8080/"
        },
        "outputId": "3ad7cdea-387d-4a8b-d1d8-116e33b744de"
      },
      "execution_count": null,
      "outputs": [
        {
          "output_type": "stream",
          "name": "stdout",
          "text": [
            "Date\n",
            "2020-01-02    114.802044\n",
            "2020-01-05    114.176441\n",
            "2020-01-08    115.965258\n",
            "2020-01-11    116.265991\n",
            "2020-01-14    116.441900\n",
            "                 ...    \n",
            "2020-12-18    113.000999\n",
            "2020-12-21    111.010635\n",
            "2020-12-24    111.959419\n",
            "2020-12-27    111.618229\n",
            "2020-12-30    112.336548\n",
            "Freq: 3D, Name: Close, Length: 122, dtype: float64\n",
            "Date\n",
            "2020-01-05    114.802044\n",
            "2020-01-19    115.956181\n",
            "2020-02-02    119.429402\n",
            "2020-02-16    131.091315\n",
            "2020-03-01    123.728848\n",
            "2020-03-15    105.491183\n",
            "2020-03-29     88.800308\n",
            "2020-04-12     97.123950\n",
            "2020-04-26    103.438168\n",
            "2020-05-10    106.986469\n",
            "2020-05-24    104.113561\n",
            "2020-06-07    110.288584\n",
            "2020-06-21    109.500509\n",
            "2020-07-05    103.915306\n",
            "2020-07-19    104.829898\n",
            "2020-08-02    109.593862\n",
            "2020-08-16    110.626730\n",
            "2020-08-30    110.004290\n",
            "2020-09-13    108.803559\n",
            "2020-09-27    107.292480\n",
            "2020-10-11    109.085314\n",
            "2020-10-25    107.798400\n",
            "2020-11-08     98.865174\n",
            "2020-11-22    104.959380\n",
            "2020-12-06    111.257065\n",
            "2020-12-20    112.492776\n",
            "2021-01-03    111.612610\n",
            "Freq: 2W-SUN, Name: Close, dtype: float64\n",
            "Date\n",
            "2020-01-31    117.334786\n",
            "2020-03-31    111.219670\n",
            "2020-05-31    103.909416\n",
            "2020-07-31    107.583418\n",
            "2020-09-30    109.064708\n",
            "2020-11-30    105.677632\n",
            "2021-01-31    112.068804\n",
            "Freq: 2M, Name: Close, dtype: float64\n"
          ]
        }
      ]
    },
    {
      "cell_type": "markdown",
      "metadata": {
        "id": "iy4RqsnwL-Bw"
      },
      "source": [
        "Besides the mean() method, other methods can also be used with the resampler:\n",
        "\n"
      ]
    },
    {
      "cell_type": "code",
      "metadata": {
        "id": "DNT8Fx9dHW96",
        "colab": {
          "base_uri": "https://localhost:8080/"
        },
        "outputId": "04e8302d-3d11-418a-ab41-c131931fa5e3"
      },
      "source": [
        "std = aapl.resample('W').std()\n",
        "max = aapl.resample('W').max()\n",
        "min = aapl.resample('W').min()\n",
        "\n",
        "\n",
        "print(std)\n",
        "print(max)\n",
        "print(min)"
      ],
      "execution_count": null,
      "outputs": [
        {
          "output_type": "stream",
          "name": "stdout",
          "text": [
            "Date\n",
            "2017-01-08    0.202812\n",
            "2017-01-15    0.072329\n",
            "2017-01-22    0.025486\n",
            "2017-01-29    0.244616\n",
            "2017-02-05    0.940688\n",
            "2017-02-12    0.251313\n",
            "2017-02-19    0.230760\n",
            "2017-02-26    0.059183\n",
            "2017-03-05    0.339167\n",
            "2017-03-12    0.076078\n",
            "2017-03-19    0.177345\n",
            "2017-03-26    0.156835\n",
            "2017-04-02    0.318935\n",
            "2017-04-09    0.128336\n",
            "2017-04-16    0.211893\n",
            "2017-04-23    0.174199\n",
            "2017-04-30    0.089779\n",
            "2017-05-07    0.235001\n",
            "2017-05-14    0.352018\n",
            "2017-05-21    0.534633\n",
            "2017-05-28    0.060229\n",
            "2017-06-04    0.280453\n",
            "2017-06-11    0.618343\n",
            "2017-06-18    0.381523\n",
            "2017-06-25    0.128544\n",
            "2017-07-02    0.263385\n",
            "2017-07-09    0.158456\n",
            "2017-07-16    0.403180\n",
            "2017-07-23    0.124649\n",
            "2017-07-30    0.383394\n",
            "2017-08-06    0.921869\n",
            "2017-08-13    0.466190\n",
            "2017-08-20    0.434061\n",
            "2017-08-27    0.275011\n",
            "2017-09-03    0.251036\n",
            "2017-09-10    0.380597\n",
            "2017-09-17    0.293339\n",
            "2017-09-24    0.733186\n",
            "2017-10-01    0.353876\n",
            "2017-10-08    0.204298\n",
            "2017-10-15    0.118409\n",
            "2017-10-22    0.515591\n",
            "2017-10-29    0.678601\n",
            "2017-11-05    0.559153\n",
            "2017-11-12    0.190451\n",
            "2017-11-19    0.435010\n",
            "2017-11-26    0.561505\n",
            "2017-12-03    0.426282\n",
            "2017-12-10    0.072929\n",
            "2017-12-17    0.204708\n",
            "2017-12-24    0.193593\n",
            "2017-12-31    0.189873\n",
            "Freq: W-SUN, Name: Close, dtype: float64\n",
            "Date\n",
            "2017-01-08    27.711327\n",
            "2017-01-15    28.143766\n",
            "2017-01-22    28.202524\n",
            "2017-01-29    28.660814\n",
            "2017-02-05    30.336514\n",
            "2017-02-12    31.256414\n",
            "2017-02-19    32.035343\n",
            "2017-02-26    32.363441\n",
            "2017-03-05    32.996029\n",
            "2017-03-12    32.932301\n",
            "2017-03-19    33.208466\n",
            "2017-03-26    33.390213\n",
            "2017-04-02    34.018082\n",
            "2017-04-09    34.171505\n",
            "2017-04-16    33.793842\n",
            "2017-04-23    33.621536\n",
            "2017-04-30    34.114853\n",
            "2017-05-07    35.160526\n",
            "2017-05-14    36.997929\n",
            "2017-05-21    36.903122\n",
            "2017-05-28    36.497826\n",
            "2017-06-04    36.843861\n",
            "2017-06-11    36.824902\n",
            "2017-06-18    34.743919\n",
            "2017-06-25    34.684666\n",
            "2017-07-02    34.563782\n",
            "2017-07-09    34.172718\n",
            "2017-07-16    35.324600\n",
            "2017-07-23    35.793892\n",
            "2017-07-30    36.372204\n",
            "2017-08-06    37.244423\n",
            "2017-08-13    38.173508\n",
            "2017-08-20    38.451908\n",
            "2017-08-27    38.066433\n",
            "2017-09-03    39.034878\n",
            "2017-09-10    38.566124\n",
            "2017-09-17    38.428120\n",
            "2017-09-24    37.769001\n",
            "2017-10-01    36.698261\n",
            "2017-10-08    36.974277\n",
            "2017-10-15    37.354996\n",
            "2017-10-22    38.183041\n",
            "2017-10-29    38.796940\n",
            "2017-11-05    41.045513\n",
            "2017-11-12    41.935432\n",
            "2017-11-19    41.544106\n",
            "2017-11-26    41.782902\n",
            "2017-12-03    41.572765\n",
            "2017-12-10    40.548298\n",
            "2017-12-17    41.544106\n",
            "2017-12-24    42.129158\n",
            "2017-12-31    40.853973\n",
            "Freq: W-SUN, Name: Close, dtype: float64\n",
            "Date\n",
            "2017-01-08    27.267136\n",
            "2017-01-15    27.965155\n",
            "2017-01-22    28.150818\n",
            "2017-01-29    28.195477\n",
            "2017-02-05    28.519800\n",
            "2017-02-12    30.620888\n",
            "2017-02-19    31.461769\n",
            "2017-02-26    32.226536\n",
            "2017-03-05    32.320953\n",
            "2017-03-12    32.734024\n",
            "2017-03-19    32.807205\n",
            "2017-03-26    33.007828\n",
            "2017-04-02    33.253315\n",
            "2017-04-09    33.833969\n",
            "2017-04-16    33.293446\n",
            "2017-04-23    33.206097\n",
            "2017-04-30    33.904781\n",
            "2017-05-07    34.586941\n",
            "2017-05-14    36.116474\n",
            "2017-05-21    35.611385\n",
            "2017-05-28    36.343761\n",
            "2017-06-04    36.206299\n",
            "2017-06-11    35.310383\n",
            "2017-06-18    33.720016\n",
            "2017-06-25    34.369431\n",
            "2017-07-02    34.054207\n",
            "2017-07-09    33.829048\n",
            "2017-07-16    34.381283\n",
            "2017-07-23    35.447845\n",
            "2017-07-30    35.433624\n",
            "2017-08-06    35.251137\n",
            "2017-08-13    36.957623\n",
            "2017-08-20    37.476345\n",
            "2017-08-27    37.407337\n",
            "2017-09-03    38.420986\n",
            "2017-09-10    37.745216\n",
            "2017-09-17    37.661926\n",
            "2017-09-24    36.141472\n",
            "2017-10-01    35.822624\n",
            "2017-10-08    36.519798\n",
            "2017-10-15    37.081356\n",
            "2017-10-22    37.114655\n",
            "2017-10-29    37.159874\n",
            "2017-11-05    39.670189\n",
            "2017-11-12    41.461914\n",
            "2017-11-19    40.376369\n",
            "2017-11-26    40.591293\n",
            "2017-12-03    40.471886\n",
            "2017-12-10    40.359646\n",
            "2017-12-17    41.002018\n",
            "2017-12-24    41.634846\n",
            "2017-12-31    40.412189\n",
            "Freq: W-SUN, Name: Close, dtype: float64\n"
          ]
        }
      ]
    },
    {
      "cell_type": "code",
      "source": [
        "#ejemplo_cfierro\n",
        "Desviacion = IBM1.resample('W').std()\n",
        "maximo = IBM1.resample('W').max()\n",
        "minimo = IBM1.resample('W').min()\n",
        "#En este caso tambien se agrupan los comentarios pues el caso para las 3 sentencias de arriba es similar. En los 3 casos se esta usando \"resample\" para agrupar los datos de manera semanal.\n",
        "#La diferencia está en los métodos que se usan después. El primero esta usando \"std\" para obtener la desviación estandar de cada intervalo para asignarlo como su valor.\n",
        "#El segundo y tercer caso estan tomando los intervalos y obteniendo el máximo y mínimo valor, respectivamente, de cada intervalo para asignarlo a sus respectivo indice.\n",
        "print(Desviacion)\n",
        "print(maximo)\n",
        "print(minimo)\n",
        "#En estas sentencias se están imprimiendo los resultados anteriormente mencionados."
      ],
      "metadata": {
        "id": "9vDW5Ipq94xa",
        "colab": {
          "base_uri": "https://localhost:8080/"
        },
        "outputId": "4f2eff58-438f-4330-9f9d-37d011637ce5"
      },
      "execution_count": null,
      "outputs": [
        {
          "output_type": "stream",
          "name": "stdout",
          "text": [
            "Date\n",
            "2020-01-05    0.649992\n",
            "2020-01-12    1.095107\n",
            "2020-01-19    0.887759\n",
            "2020-01-26    1.828234\n",
            "2020-02-02    2.297253\n",
            "2020-02-09    4.028066\n",
            "2020-02-16    1.522940\n",
            "2020-02-23    0.540432\n",
            "2020-03-01    5.661328\n",
            "2020-03-08    2.667567\n",
            "2020-03-15    7.547235\n",
            "2020-03-22    3.701385\n",
            "2020-03-29    5.711145\n",
            "2020-04-05    2.792195\n",
            "2020-04-12    2.847907\n",
            "2020-04-19    2.600683\n",
            "2020-04-26    2.506469\n",
            "2020-05-03    2.107416\n",
            "2020-05-10    0.952061\n",
            "2020-05-17    2.475999\n",
            "2020-05-24    1.208930\n",
            "2020-05-31    1.455386\n",
            "2020-06-07    2.463692\n",
            "2020-06-14    6.383180\n",
            "2020-06-21    1.238753\n",
            "2020-06-28    1.613542\n",
            "2020-07-05    0.795320\n",
            "2020-07-12    1.405607\n",
            "2020-07-19    2.127187\n",
            "2020-07-26    1.025045\n",
            "2020-08-02    1.272200\n",
            "2020-08-09    0.772315\n",
            "2020-08-16    0.840306\n",
            "2020-08-23    0.691605\n",
            "2020-08-30    0.501011\n",
            "2020-09-06    2.019979\n",
            "2020-09-13    0.621629\n",
            "2020-09-20    1.080106\n",
            "2020-09-27    0.903162\n",
            "2020-10-04    0.437436\n",
            "2020-10-11    3.641544\n",
            "2020-10-18    0.808424\n",
            "2020-10-25    3.819469\n",
            "2020-11-01    1.997833\n",
            "2020-11-08    1.011609\n",
            "2020-11-15    1.228637\n",
            "2020-11-22    0.579822\n",
            "2020-11-29    1.902353\n",
            "2020-12-06    1.476911\n",
            "2020-12-13    0.889300\n",
            "2020-12-20    0.892914\n",
            "2020-12-27    0.510113\n",
            "2021-01-03    0.794019\n",
            "Freq: W-SUN, Name: Close, dtype: float64\n",
            "Date\n",
            "2020-01-05    115.261658\n",
            "2020-01-12    116.385162\n",
            "2020-01-19    117.721458\n",
            "2020-01-26    122.470802\n",
            "2020-02-02    122.334641\n",
            "2020-02-09    133.425003\n",
            "2020-02-16    133.635406\n",
            "2020-02-23    130.116211\n",
            "2020-03-01    125.994698\n",
            "2020-03-08    115.557495\n",
            "2020-03-15    107.357475\n",
            "2020-03-22     91.766258\n",
            "2020-03-29     97.135422\n",
            "2020-04-05     97.169830\n",
            "2020-04-12    104.543846\n",
            "2020-04-19    106.617493\n",
            "2020-04-26    107.314468\n",
            "2020-05-03    110.730431\n",
            "2020-05-10    107.311363\n",
            "2020-05-17    106.962341\n",
            "2020-05-24    106.063637\n",
            "2020-05-31    109.536278\n",
            "2020-06-07    115.225113\n",
            "2020-06-14    118.444733\n",
            "2020-06-21    109.195992\n",
            "2020-06-28    105.636101\n",
            "2020-07-05    105.374359\n",
            "2020-07-12    104.868294\n",
            "2020-07-19    109.161095\n",
            "2020-07-26    112.267265\n",
            "2020-08-02    110.120872\n",
            "2020-08-09    110.524361\n",
            "2020-08-16    112.425980\n",
            "2020-08-23    110.488983\n",
            "2020-08-30    111.161179\n",
            "2020-09-06    113.372383\n",
            "2020-09-13    108.136269\n",
            "2020-09-20    110.488983\n",
            "2020-09-27    106.588440\n",
            "2020-10-04    107.667496\n",
            "2020-10-11    116.299995\n",
            "2020-10-18    112.514427\n",
            "2020-10-25    111.019684\n",
            "2020-11-01     99.256111\n",
            "2020-11-08    101.511528\n",
            "2020-11-15    105.871643\n",
            "2020-11-22    106.275703\n",
            "2020-11-29    111.716988\n",
            "2020-12-06    114.213158\n",
            "2020-12-13    113.845016\n",
            "2020-12-20    113.072815\n",
            "2020-12-27    111.959419\n",
            "2021-01-03    113.027931\n",
            "Freq: W-SUN, Name: Close, dtype: float64\n",
            "Date\n",
            "2020-01-05    114.342430\n",
            "2020-01-12    114.138145\n",
            "2020-01-19    115.602097\n",
            "2020-01-26    118.453430\n",
            "2020-02-02    116.410690\n",
            "2020-02-09    124.496536\n",
            "2020-02-16    129.668777\n",
            "2020-02-23    128.928802\n",
            "2020-03-01    111.986671\n",
            "2020-03-08    109.904411\n",
            "2020-03-15     88.462143\n",
            "2020-03-22     82.077660\n",
            "2020-03-29     81.544189\n",
            "2020-04-05     90.466980\n",
            "2020-04-12     98.796074\n",
            "2020-04-19     99.579086\n",
            "2020-04-26    100.465340\n",
            "2020-05-03    104.862198\n",
            "2020-05-10    104.698715\n",
            "2020-05-17    100.976852\n",
            "2020-05-24    103.297745\n",
            "2020-05-31    106.238144\n",
            "2020-06-07    108.969124\n",
            "2020-06-14    102.966202\n",
            "2020-06-21    106.142181\n",
            "2020-06-28    101.578888\n",
            "2020-07-05    103.428635\n",
            "2020-07-12    100.959389\n",
            "2020-07-19    104.004494\n",
            "2020-07-26    109.754410\n",
            "2020-08-02    107.232819\n",
            "2020-08-09    108.463066\n",
            "2020-08-16    110.586281\n",
            "2020-08-23    108.923447\n",
            "2020-08-30    109.825630\n",
            "2020-09-06    108.171638\n",
            "2020-09-13    106.632660\n",
            "2020-09-20    107.985916\n",
            "2020-09-27    104.447990\n",
            "2020-10-04    106.641502\n",
            "2020-10-11    107.879768\n",
            "2020-10-18    110.462456\n",
            "2020-10-25    101.768028\n",
            "2020-11-01     94.329567\n",
            "2020-11-08     98.973076\n",
            "2020-11-15    102.809807\n",
            "2020-11-22    104.848045\n",
            "2020-11-29    107.829063\n",
            "2020-12-06    110.585632\n",
            "2020-12-13    111.582298\n",
            "2020-12-20    110.917854\n",
            "2020-12-27    110.792152\n",
            "2021-01-03    111.160301\n",
            "Freq: W-SUN, Name: Close, dtype: float64\n"
          ]
        }
      ]
    },
    {
      "cell_type": "markdown",
      "metadata": {
        "id": "uqln0s5DMI3I"
      },
      "source": [
        "Often we want to calculate monthly returns of a stock, based on prices on the last day of each month. To fetch those prices, we use the series.resample.agg() method:"
      ]
    },
    {
      "cell_type": "code",
      "metadata": {
        "colab": {
          "base_uri": "https://localhost:8080/"
        },
        "id": "A6FSYvqbHW97",
        "outputId": "2f30a7f0-ba85-45c5-dd01-92cbde4697fa"
      },
      "source": [
        "last_day = aapl.resample('M').agg(lambda x: x[-1])\n",
        "print(last_day)"
      ],
      "execution_count": null,
      "outputs": [
        {
          "output_type": "stream",
          "name": "stdout",
          "text": [
            "Date\n",
            "2017-01-31    28.519800\n",
            "2017-02-28    32.335106\n",
            "2017-03-31    33.909512\n",
            "2017-04-30    33.907135\n",
            "2017-05-31    36.206299\n",
            "2017-06-30    34.134796\n",
            "2017-07-31    35.251137\n",
            "2017-08-31    39.022984\n",
            "2017-09-30    36.672081\n",
            "2017-10-31    40.222225\n",
            "2017-11-30    41.037846\n",
            "2017-12-31    40.412189\n",
            "Freq: M, Name: Close, dtype: float64\n"
          ]
        }
      ]
    },
    {
      "cell_type": "code",
      "source": [
        "#ejemplo_cfierro\n",
        "ultimo_dia = IBM1.resample('M').agg(lambda x: x[-1])    \n",
        "#en este caso se está usando \"resample\" como se vió anteriormente pero se agrega el método \"agg\" que lo que nos permite es agregar funciones como es en este caso la función lambda, que\n",
        "#como vimos en otra sección, sirve para hacer funciones temporales. La función que estamos ejecutando en este caso es la de tomar cada elemento y obtener el último valor \"[-1]\" que\n",
        "#corresponde al último dia de cada mes. Estos valores se asignan a cada intervalo y son los que se imprimen en pantalla.\n",
        "print(ultimo_dia)"
      ],
      "metadata": {
        "colab": {
          "base_uri": "https://localhost:8080/"
        },
        "id": "Blkbt9u6_q0G",
        "outputId": "7cef362e-78d0-44d9-fd02-7d52e3cfc52a"
      },
      "execution_count": null,
      "outputs": [
        {
          "output_type": "stream",
          "name": "stdout",
          "text": [
            "Date\n",
            "2020-01-31    122.334641\n",
            "2020-02-29    111.986671\n",
            "2020-03-31     95.448952\n",
            "2020-04-30    108.037239\n",
            "2020-05-31    108.977867\n",
            "2020-06-30    105.374359\n",
            "2020-07-31    107.267723\n",
            "2020-08-31    109.064987\n",
            "2020-09-30    107.614426\n",
            "2020-10-31     98.760796\n",
            "2020-11-30    110.908882\n",
            "2020-12-31    113.027931\n",
            "Freq: M, Name: Close, dtype: float64\n"
          ]
        }
      ]
    },
    {
      "cell_type": "markdown",
      "metadata": {
        "id": "uwomY3aXMR46"
      },
      "source": [
        "Or directly calculate the monthly rates of return using the data for the first day and the last day:"
      ]
    },
    {
      "cell_type": "code",
      "metadata": {
        "colab": {
          "base_uri": "https://localhost:8080/"
        },
        "id": "qK2NMJrNHW96",
        "outputId": "33588bc5-028f-4edd-ab39-3947677580ca"
      },
      "source": [
        "monthly_return = aapl.resample('M').agg(lambda x: x[-1]/x[0] - 1)\n",
        "print(monthly_return)"
      ],
      "execution_count": null,
      "outputs": [
        {
          "output_type": "stream",
          "name": "stdout",
          "text": [
            "Date\n",
            "2017-01-31    0.044770\n",
            "2017-02-28    0.068613\n",
            "2017-03-31    0.027685\n",
            "2017-04-30   -0.000348\n",
            "2017-05-31    0.046463\n",
            "2017-06-30   -0.059799\n",
            "2017-07-31    0.036446\n",
            "2017-08-31    0.097261\n",
            "2017-09-30   -0.060530\n",
            "2017-10-31    0.099018\n",
            "2017-11-30    0.033422\n",
            "2017-12-31   -0.010640\n",
            "Freq: M, Name: Close, dtype: float64\n"
          ]
        }
      ]
    },
    {
      "cell_type": "code",
      "source": [
        "#ejemplo_cfierro\n",
        "retorno_mensual = IBM1.resample('M').agg(lambda x: x[-1]/x[0] - 1)\n",
        "#Como se hizo en el anterior ejemplo, usamos \"agg\" para agregar una función que en este caso toma el primer y último valor de cada intervalo, que corresponden justamente con los valores\n",
        "#de cierre de la acción en el primer y último día de cada mes. Se toma el último dia sobre el primer día y al resultado se le resta 1. Este valor corresponde al ratio de retorno mensual\n",
        "#de la acción y es este valor el que se asigna a cada intervalo.\n",
        "print(retorno_mensual)"
      ],
      "metadata": {
        "colab": {
          "base_uri": "https://localhost:8080/"
        },
        "id": "YUNUDH2kBfrR",
        "outputId": "f4b695e1-9b80-425a-f0c2-12488310b118"
      },
      "execution_count": null,
      "outputs": [
        {
          "output_type": "stream",
          "name": "stdout",
          "text": [
            "Date\n",
            "2020-01-31    0.061365\n",
            "2020-02-29   -0.100484\n",
            "2020-03-31   -0.174013\n",
            "2020-04-30    0.194217\n",
            "2020-05-31    0.039248\n",
            "2020-06-30   -0.032989\n",
            "2020-07-31    0.037118\n",
            "2020-08-31    0.005550\n",
            "2020-09-30   -0.014019\n",
            "2020-10-31   -0.077876\n",
            "2020-11-30    0.110572\n",
            "2020-12-31    0.022085\n",
            "Freq: M, Name: Close, dtype: float64\n"
          ]
        }
      ]
    },
    {
      "cell_type": "markdown",
      "metadata": {
        "id": "_DYbMTFWMj8J"
      },
      "source": [
        "Series object also provides us some convenient methods to do some quick calculation."
      ]
    },
    {
      "cell_type": "code",
      "metadata": {
        "colab": {
          "base_uri": "https://localhost:8080/"
        },
        "id": "1Mxc0HwvHW98",
        "outputId": "7041a6c7-6159-4d88-c8b5-19686297a728"
      },
      "source": [
        "print(monthly_return.mean())\n",
        "print(monthly_return.std())\n",
        "print(monthly_return.max())\n"
      ],
      "execution_count": null,
      "outputs": [
        {
          "output_type": "stream",
          "name": "stdout",
          "text": [
            "0.026863317174689715\n",
            "0.05225850692143492\n",
            "0.09901811876383149\n"
          ]
        }
      ]
    },
    {
      "cell_type": "code",
      "source": [
        "#ejemplo_cfierro\n",
        "print(retorno_mensual.mean())\n",
        "print(retorno_mensual.std())\n",
        "print(retorno_mensual.max())\n",
        "#Como se hizo anteriormente, de este objeto también se pueden sacar la media aritmética, desviación estándar y máximo. Ya que nuestro objeto es una serie que definimos en el anterior\n",
        "#ejemplo, podemos usar los métodos directamente sobre el mismo sin tener que hacer otra vez el \"resample\" y la función que se creó para \"retorno_mensual\"."
      ],
      "metadata": {
        "colab": {
          "base_uri": "https://localhost:8080/"
        },
        "id": "7UWDFwcRCy8O",
        "outputId": "7cd912ec-c720-4ce5-d0ba-fdbb8bf5ec1e"
      },
      "execution_count": null,
      "outputs": [
        {
          "output_type": "stream",
          "name": "stdout",
          "text": [
            "0.005897872120306208\n",
            "0.09744866599957008\n",
            "0.19421737188564925\n"
          ]
        }
      ]
    },
    {
      "cell_type": "markdown",
      "metadata": {
        "id": "mn59J5dqMpqX"
      },
      "source": [
        "Another two methods frequently used on Series are .diff() and .pct_change(). The former calculates the difference between consecutive elements, and the latter calculates the percentage change."
      ]
    },
    {
      "cell_type": "code",
      "metadata": {
        "colab": {
          "base_uri": "https://localhost:8080/"
        },
        "id": "DupZTSqqHW99",
        "outputId": "d0a35191-a2b0-47e7-f0c4-fb312d8f2407"
      },
      "source": [
        "print(last_day.diff())\n",
        "print(last_day.pct_change())"
      ],
      "execution_count": null,
      "outputs": [
        {
          "output_type": "stream",
          "name": "stdout",
          "text": [
            "Date\n",
            "2017-01-31         NaN\n",
            "2017-02-28    3.815306\n",
            "2017-03-31    1.574406\n",
            "2017-04-30   -0.002377\n",
            "2017-05-31    2.299164\n",
            "2017-06-30   -2.071503\n",
            "2017-07-31    1.116341\n",
            "2017-08-31    3.771847\n",
            "2017-09-30   -2.350903\n",
            "2017-10-31    3.550144\n",
            "2017-11-30    0.815620\n",
            "2017-12-31   -0.625656\n",
            "Freq: M, Name: Close, dtype: float64\n",
            "Date\n",
            "2017-01-31         NaN\n",
            "2017-02-28    0.133777\n",
            "2017-03-31    0.048690\n",
            "2017-04-30   -0.000070\n",
            "2017-05-31    0.067808\n",
            "2017-06-30   -0.057214\n",
            "2017-07-31    0.032704\n",
            "2017-08-31    0.106999\n",
            "2017-09-30   -0.060244\n",
            "2017-10-31    0.096808\n",
            "2017-11-30    0.020278\n",
            "2017-12-31   -0.015246\n",
            "Freq: M, Name: Close, dtype: float64\n"
          ]
        }
      ]
    },
    {
      "cell_type": "code",
      "source": [
        "#ejemplo_cfierro\n",
        "print(ultimo_dia.diff())        \n",
        "#Esta sentencia muestra el método \"diff\" que se ocupa de tomar dos datos consecutivos y en base a estos extrae la diferencia de sus valores. \n",
        "#En este caso se ve la diferencia del valor entre el día anterior y el actual en cada intervalo diario. Es por esto que el primer día no obtiene un valor.\n",
        "print(ultimo_dia.pct_change())\n",
        "#Al igual que diff, este método \"pct_change\" toma los valores de dos datos consecutivos y en base a estos nos muestra un porcentaje de cambio. La razón de cambio puede ser negativa o\n",
        "#positiva según haya sido la diferencia y de la misma forma que en el anterior caso, toma el valor del dia anterior y el actual, razón por la cual el primer día no tiene valor asignado."
      ],
      "metadata": {
        "colab": {
          "base_uri": "https://localhost:8080/"
        },
        "id": "jeVN3U7UDzwi",
        "outputId": "479e9a64-ed91-43bd-94d3-fe3c2e6a0b29"
      },
      "execution_count": null,
      "outputs": [
        {
          "output_type": "stream",
          "name": "stdout",
          "text": [
            "Date\n",
            "2020-01-31          NaN\n",
            "2020-02-29   -10.347969\n",
            "2020-03-31   -16.537720\n",
            "2020-04-30    12.588287\n",
            "2020-05-31     0.940628\n",
            "2020-06-30    -3.603508\n",
            "2020-07-31     1.893364\n",
            "2020-08-31     1.797264\n",
            "2020-09-30    -1.450562\n",
            "2020-10-31    -8.853630\n",
            "2020-11-30    12.148087\n",
            "2020-12-31     2.119049\n",
            "Freq: M, Name: Close, dtype: float64\n",
            "Date\n",
            "2020-01-31         NaN\n",
            "2020-02-29   -0.084587\n",
            "2020-03-31   -0.147676\n",
            "2020-04-30    0.131885\n",
            "2020-05-31    0.008707\n",
            "2020-06-30   -0.033066\n",
            "2020-07-31    0.017968\n",
            "2020-08-31    0.016755\n",
            "2020-09-30   -0.013300\n",
            "2020-10-31   -0.082272\n",
            "2020-11-30    0.123005\n",
            "2020-12-31    0.019106\n",
            "Freq: M, Name: Close, dtype: float64\n"
          ]
        }
      ]
    },
    {
      "cell_type": "markdown",
      "metadata": {
        "id": "RaMAOFepM6Io"
      },
      "source": [
        "Notice that we induced a NaN value while calculating percentage changes i.e. returns.\n",
        "\n",
        "When dealing with NaN values, we usually either removing the data point or fill it with a specific value. Here we fill it with 0:"
      ]
    },
    {
      "cell_type": "code",
      "metadata": {
        "colab": {
          "base_uri": "https://localhost:8080/"
        },
        "id": "-xyLb3A3HW99",
        "outputId": "8e86e850-18b0-4223-efc6-d9b1071d56cc"
      },
      "source": [
        "daily_return = last_day.pct_change()\n",
        "print(daily_return.fillna(0))"
      ],
      "execution_count": null,
      "outputs": [
        {
          "output_type": "stream",
          "name": "stdout",
          "text": [
            "Date\n",
            "2017-01-31    0.000000\n",
            "2017-02-28    0.133777\n",
            "2017-03-31    0.048690\n",
            "2017-04-30   -0.000070\n",
            "2017-05-31    0.067808\n",
            "2017-06-30   -0.057214\n",
            "2017-07-31    0.032704\n",
            "2017-08-31    0.106999\n",
            "2017-09-30   -0.060244\n",
            "2017-10-31    0.096808\n",
            "2017-11-30    0.020278\n",
            "2017-12-31   -0.015246\n",
            "Freq: M, Name: Close, dtype: float64\n"
          ]
        }
      ]
    },
    {
      "cell_type": "code",
      "source": [
        "#ejemplo_cfierro\n",
        "retorno_diario = ultimo_dia.pct_change()    \n",
        "#Ya que tenemos el porcentaje de cambio entre valores dia a dia, lo que se busca ahora es reemplazar los valores de \"NaN\" que se encontraron al no tener datos para comparar. Este caso\n",
        "#sucede el primer día.\n",
        "print(retorno_diario.fillna(0)) #usando el método \"fillna()\" podemos cambiar los valores \"NaN\" por el valor que le demos como argumento y ahora los valores \"NaN\" resultan ser cero."
      ],
      "metadata": {
        "colab": {
          "base_uri": "https://localhost:8080/"
        },
        "id": "vHURrQowFLH3",
        "outputId": "0dd24e73-f58a-43b6-f388-66358ba2249a"
      },
      "execution_count": null,
      "outputs": [
        {
          "output_type": "stream",
          "name": "stdout",
          "text": [
            "Date\n",
            "2020-01-31    0.000000\n",
            "2020-02-29   -0.084587\n",
            "2020-03-31   -0.147676\n",
            "2020-04-30    0.131885\n",
            "2020-05-31    0.008707\n",
            "2020-06-30   -0.033066\n",
            "2020-07-31    0.017968\n",
            "2020-08-31    0.016755\n",
            "2020-09-30   -0.013300\n",
            "2020-10-31   -0.082272\n",
            "2020-11-30    0.123005\n",
            "2020-12-31    0.019106\n",
            "Freq: M, Name: Close, dtype: float64\n"
          ]
        }
      ]
    },
    {
      "cell_type": "markdown",
      "metadata": {
        "id": "BYS10Om1NQVC"
      },
      "source": [
        "Alternatively, we can fill a NaN with the next fitted value. This is called 'backward fill', or 'bfill' in short:"
      ]
    },
    {
      "cell_type": "code",
      "metadata": {
        "colab": {
          "base_uri": "https://localhost:8080/"
        },
        "id": "J513kHeKHW9-",
        "outputId": "ed87526a-dc18-4dd6-e835-3bc32dec5682"
      },
      "source": [
        "daily_return = last_day.pct_change()\n",
        "print(daily_return.fillna(method = 'bfill'))"
      ],
      "execution_count": null,
      "outputs": [
        {
          "output_type": "stream",
          "name": "stdout",
          "text": [
            "Date\n",
            "2017-01-31    0.133777\n",
            "2017-02-28    0.133777\n",
            "2017-03-31    0.048690\n",
            "2017-04-30   -0.000070\n",
            "2017-05-31    0.067808\n",
            "2017-06-30   -0.057214\n",
            "2017-07-31    0.032704\n",
            "2017-08-31    0.106999\n",
            "2017-09-30   -0.060244\n",
            "2017-10-31    0.096808\n",
            "2017-11-30    0.020278\n",
            "2017-12-31   -0.015246\n",
            "Freq: M, Name: Close, dtype: float64\n"
          ]
        }
      ]
    },
    {
      "cell_type": "code",
      "source": [
        "#ejemplo_cfierro\n",
        "retorno_diario = ultimo_dia.pct_change()\n",
        "print(retorno_diario.fillna(method = 'bfill'))\n",
        "#Se repite el proceso anterior, solo que en este caso se usa un método para \"fillna\" llamado \"bfill\" que lo que hace es reemplazar este valor \"NaN\" por el valor del siguiente intervalo."
      ],
      "metadata": {
        "colab": {
          "base_uri": "https://localhost:8080/"
        },
        "id": "Uwg9CiMzGGCc",
        "outputId": "ea3733f7-4510-4df8-d3cd-55f594a30862"
      },
      "execution_count": null,
      "outputs": [
        {
          "output_type": "stream",
          "name": "stdout",
          "text": [
            "Date\n",
            "2020-01-31   -0.084587\n",
            "2020-02-29   -0.084587\n",
            "2020-03-31   -0.147676\n",
            "2020-04-30    0.131885\n",
            "2020-05-31    0.008707\n",
            "2020-06-30   -0.033066\n",
            "2020-07-31    0.017968\n",
            "2020-08-31    0.016755\n",
            "2020-09-30   -0.013300\n",
            "2020-10-31   -0.082272\n",
            "2020-11-30    0.123005\n",
            "2020-12-31    0.019106\n",
            "Freq: M, Name: Close, dtype: float64\n"
          ]
        }
      ]
    },
    {
      "cell_type": "markdown",
      "metadata": {
        "id": "bj8QUSgdNepf"
      },
      "source": [
        "As expected, since there is a 'backward fill' method, there must be a 'forward fill' method, or 'ffill' in short. However we can't use it here because the NaN is the first value.\n",
        "\n",
        "We can also simply remove NaN values by **_.dropna()_**"
      ]
    },
    {
      "cell_type": "code",
      "metadata": {
        "colab": {
          "base_uri": "https://localhost:8080/"
        },
        "id": "WG5ux1lqHW9-",
        "outputId": "fa37c73c-37aa-4806-8b71-e948825bf45e"
      },
      "source": [
        "daily_return = last_day.pct_change()\n",
        "daily_return.dropna()"
      ],
      "execution_count": null,
      "outputs": [
        {
          "output_type": "execute_result",
          "data": {
            "text/plain": [
              "Date\n",
              "2017-02-28    0.133777\n",
              "2017-03-31    0.048690\n",
              "2017-04-30   -0.000070\n",
              "2017-05-31    0.067808\n",
              "2017-06-30   -0.057214\n",
              "2017-07-31    0.032704\n",
              "2017-08-31    0.106999\n",
              "2017-09-30   -0.060244\n",
              "2017-10-31    0.096808\n",
              "2017-11-30    0.020278\n",
              "2017-12-31   -0.015246\n",
              "Freq: M, Name: Close, dtype: float64"
            ]
          },
          "metadata": {},
          "execution_count": 477
        }
      ]
    },
    {
      "cell_type": "code",
      "source": [
        "#ejemplo_cfierro\n",
        "retorno_diario = ultimo_dia.pct_change()\n",
        "retorno_diario.dropna() #Repetimos el proceso de creación de la serie \"retorno_diario\". Esta vez nos ocupamos de los valores \"NaN\" usando el método \"dropna()\" que directamente los elimina."
      ],
      "metadata": {
        "colab": {
          "base_uri": "https://localhost:8080/"
        },
        "id": "JuOuEYsLGfZx",
        "outputId": "a868df0f-db9b-4931-8131-30bc9e863f80"
      },
      "execution_count": null,
      "outputs": [
        {
          "output_type": "execute_result",
          "data": {
            "text/plain": [
              "Date\n",
              "2020-02-29   -0.084587\n",
              "2020-03-31   -0.147676\n",
              "2020-04-30    0.131885\n",
              "2020-05-31    0.008707\n",
              "2020-06-30   -0.033066\n",
              "2020-07-31    0.017968\n",
              "2020-08-31    0.016755\n",
              "2020-09-30   -0.013300\n",
              "2020-10-31   -0.082272\n",
              "2020-11-30    0.123005\n",
              "2020-12-31    0.019106\n",
              "Freq: M, Name: Close, dtype: float64"
            ]
          },
          "metadata": {},
          "execution_count": 478
        }
      ]
    },
    {
      "cell_type": "markdown",
      "metadata": {
        "id": "nQH2eBWkNjdC"
      },
      "source": [
        "# DataFrame\n",
        "The **DataFrame** is the most commonly used data structure in Pandas. It is essentially a table, just like an Excel spreadsheet.\n",
        "\n",
        "More precisely, a DataFrame is a collection of Series objects, each of which may contain different data types. A DataFrame can be created from various data types: dictionary, 2-D numpy.ndarray, a Series or another DataFrame.\n",
        "\n",
        "## Create DataFrames\n",
        "The most common method of creating a DataFrame is passing a dictionary:"
      ]
    },
    {
      "cell_type": "code",
      "metadata": {
        "colab": {
          "base_uri": "https://localhost:8080/"
        },
        "id": "vd5Wf1ohHW9-",
        "outputId": "373c06cc-d560-4ec5-9330-a413ab2d806b"
      },
      "source": [
        "import pandas as pd\n",
        "\n",
        "dict = {'AAPL': [143.5, 144.09, 142.73, 144.18, 143.77],'GOOG':[898.7, 911.71, 906.69, 918.59, 926.99],\n",
        "        'IBM':[155.58, 153.67, 152.36, 152.94, 153.49]}\n",
        "data_index = pd.date_range('2017-07-03',periods = 5, freq = 'D')\n",
        "df = pd.DataFrame(dict, index = data_index)\n",
        "print(df)"
      ],
      "execution_count": null,
      "outputs": [
        {
          "output_type": "stream",
          "name": "stdout",
          "text": [
            "              AAPL    GOOG     IBM\n",
            "2017-07-03  143.50  898.70  155.58\n",
            "2017-07-04  144.09  911.71  153.67\n",
            "2017-07-05  142.73  906.69  152.36\n",
            "2017-07-06  144.18  918.59  152.94\n",
            "2017-07-07  143.77  926.99  153.49\n"
          ]
        }
      ]
    },
    {
      "cell_type": "code",
      "source": [
        "#ejemplo_cfierro\n",
        "import pandas as pd #importamos la librería de pandas y la nombramos como pd.\n",
        "\n",
        "dict = {'Python': [198.6, 200.1, 195.6, 197.9, 198.2],'Java':[550.5,570.9, 600.3, 602.9, 610.1],\n",
        "        'C':[320.2, 318.1, 319.6, 317.4,319.4]}\n",
        "#Creamos un diccionario que contiene los datos de tres \"acciones\" diferentes con sus respectivos valores que corresponden a una lista con los 5 valores que seran tomados como valores diarios.\n",
        "indices_de_datos = pd.date_range('2020-01-01',periods = 5, freq = 'D')  #En esta sentencia creamos un rango de fechas de 5 periodos que funcionarán como indices para nuestro DataFrame.\n",
        "df = pd.DataFrame(dict, index = indices_de_datos)   \n",
        "#Asignamos los datos de nuestro diccionario junto con los datos de indices creados en las sentencias superiores. Usando el método \"DataFrame\" para crear, aunque suene redundante, un DataFrame\n",
        "#con la información de nuestro diccionario. Luego de eso lo imprimimos en pantalla.\n",
        "print(df)"
      ],
      "metadata": {
        "colab": {
          "base_uri": "https://localhost:8080/"
        },
        "id": "l5BB0iTxG4Dv",
        "outputId": "c8379d74-b061-40a8-9cc8-da9dae1a7fdd"
      },
      "execution_count": null,
      "outputs": [
        {
          "output_type": "stream",
          "name": "stdout",
          "text": [
            "            Python   Java      C\n",
            "2020-01-01   198.6  550.5  320.2\n",
            "2020-01-02   200.1  570.9  318.1\n",
            "2020-01-03   195.6  600.3  319.6\n",
            "2020-01-04   197.9  602.9  317.4\n",
            "2020-01-05   198.2  610.1  319.4\n"
          ]
        }
      ]
    },
    {
      "cell_type": "markdown",
      "metadata": {
        "id": "0uYmLQTgOPnX"
      },
      "source": [
        "## Manipulating DataFrames\n",
        "We can fetch values in a DataFrame by columns and index. Each column in a DataFrame is essentially a Pandas Series. We can fetch a column by square brackets: **df['column_name']**\n",
        "\n",
        "If a column name contains no spaces, then we can also use df.column_name to fetch a column:"
      ]
    },
    {
      "cell_type": "code",
      "metadata": {
        "colab": {
          "base_uri": "https://localhost:8080/"
        },
        "id": "2pB2f7lBHW9_",
        "outputId": "d80dafff-9775-4d7b-faeb-d4551823960f"
      },
      "source": [
        "df = aapl_table\n",
        "print(df.Close.tail(5))\n",
        "print(df['Volume'].tail(5))"
      ],
      "execution_count": null,
      "outputs": [
        {
          "output_type": "stream",
          "name": "stdout",
          "text": [
            "Date\n",
            "2017-12-22    41.792458\n",
            "2017-12-26    40.732182\n",
            "2017-12-27    40.739342\n",
            "2017-12-28    40.853973\n",
            "2017-12-29    40.412189\n",
            "Name: Close, dtype: float64\n",
            "Date\n",
            "2017-12-22     65397600\n",
            "2017-12-26    132742000\n",
            "2017-12-27     85992800\n",
            "2017-12-28     65920800\n",
            "2017-12-29    103999600\n",
            "Name: Volume, dtype: int64\n"
          ]
        }
      ]
    },
    {
      "cell_type": "code",
      "source": [
        "#ejemplo_cfierro\n",
        "df = Tabla_IBM          \n",
        "#usando la tabla que creamos en la sección anterior, imprimimos los datos de cierre de los últimos 4 valores y también los valores de la columna \"Volume\" de los mismos. Esto muestra también\n",
        "#el uso de esta funcionalidad, pues se muestra que usando el nombre funciona al igual que lo haría cuando se especifíca dentro de los \"[]\". Solo que estos últimos deben ser usados si el\n",
        "#nombre de la columna tiene espacios.\n",
        "print(df.Close.tail(4))\n",
        "print(df['Volume'].tail(4))"
      ],
      "metadata": {
        "colab": {
          "base_uri": "https://localhost:8080/"
        },
        "id": "fTg71SPUInWM",
        "outputId": "7b3fe153-28a2-470d-be11-83fdd6dfb066"
      },
      "execution_count": null,
      "outputs": [
        {
          "output_type": "stream",
          "name": "stdout",
          "text": [
            "Date\n",
            "2022-03-10    124.349998\n",
            "2022-03-11    123.959999\n",
            "2022-03-14    123.940002\n",
            "2022-03-15    125.639999\n",
            "Name: Close, dtype: float64\n",
            "Date\n",
            "2022-03-10    5326800\n",
            "2022-03-11    4117600\n",
            "2022-03-14    3289200\n",
            "2022-03-15    4015984\n",
            "Name: Volume, dtype: int64\n"
          ]
        }
      ]
    },
    {
      "cell_type": "markdown",
      "metadata": {
        "id": "z0ugOel9O4-P"
      },
      "source": [
        "All the methods we applied to a Series index such as iloc[], loc[] and resampling methods, can also be applied to a DataFrame:"
      ]
    },
    {
      "cell_type": "code",
      "metadata": {
        "colab": {
          "base_uri": "https://localhost:8080/"
        },
        "id": "_8dfjkedHW9_",
        "outputId": "995503cb-eb9a-44ed-dca2-b1381a2c0398"
      },
      "source": [
        "aapl_2016 = df['2016']\n",
        "aapl_month = aapl_2016.resample('M').agg(lambda x: x[-1])\n",
        "print(aapl_month)"
      ],
      "execution_count": null,
      "outputs": [
        {
          "output_type": "stream",
          "name": "stdout",
          "text": [
            "                 Open       High        Low      Close     Volume  Dividends  \\\n",
            "Date                                                                           \n",
            "2016-01-31  21.792773  22.379032  21.691614  22.379032  257666000        0.0   \n",
            "2016-02-29  22.389517  22.706198  22.340975  22.350222  140865200        0.0   \n",
            "2016-03-31  25.362142  25.403750  25.167972  25.193399  103553600        0.0   \n",
            "2016-04-30  21.726098  21.894841  21.383993  21.668310  274126000        0.0   \n",
            "2016-05-31  23.163043  23.349092  22.981646  23.223509  169228800        0.0   \n",
            "2016-06-30  21.963034  22.272338  21.930475  22.232803  143345600        0.0   \n",
            "2016-07-31  24.230503  24.314225  24.111896  24.235153  110934800        0.0   \n",
            "2016-08-31  24.705481  24.918257  24.700804  24.808361  118649600        0.0   \n",
            "2016-09-30  26.295459  26.508237  26.141139  26.433414  145516400        0.0   \n",
            "2016-10-31  26.573705  26.709322  26.468485  26.547985  105677600        0.0   \n",
            "2016-11-30  26.228351  26.369363  25.915772  25.974527  144649200        0.0   \n",
            "2016-12-31  27.415203  27.544463  27.128477  27.220135  122345200        0.0   \n",
            "\n",
            "            Stock Splits  \n",
            "Date                      \n",
            "2016-01-31             0  \n",
            "2016-02-29             0  \n",
            "2016-03-31             0  \n",
            "2016-04-30             0  \n",
            "2016-05-31             0  \n",
            "2016-06-30             0  \n",
            "2016-07-31             0  \n",
            "2016-08-31             0  \n",
            "2016-09-30             0  \n",
            "2016-10-31             0  \n",
            "2016-11-30             0  \n",
            "2016-12-31             0  \n"
          ]
        },
        {
          "output_type": "stream",
          "name": "stderr",
          "text": [
            "/usr/local/lib/python3.7/dist-packages/ipykernel_launcher.py:1: FutureWarning: Indexing a DataFrame with a datetimelike index using a single string to slice the rows, like `frame[string]`, is deprecated and will be removed in a future version. Use `frame.loc[string]` instead.\n",
            "  \"\"\"Entry point for launching an IPython kernel.\n"
          ]
        }
      ]
    },
    {
      "cell_type": "code",
      "source": [
        "#ejemplo_cfierro\n",
        "IBM_2020 = df['2020']\n",
        "mes_IBM = IBM_2020.resample('M').agg(lambda x: x[-1])   \n",
        "#En esta sentencia estamos usando la información de la \"Tabla_IBM\" pero seleccionando solo la información de 2020. Una vez separada, se usa \"resample\" para agrupar la información de forma\n",
        "#mensual y con \"agg\" se agrega una función que tomará el último valor que corresponde a la información del último diá de cada mes.\n",
        "print(mes_IBM)"
      ],
      "metadata": {
        "id": "ztW_EZzYJzLK"
      },
      "execution_count": null,
      "outputs": []
    },
    {
      "cell_type": "markdown",
      "metadata": {
        "id": "CqrbrbFZPTJe"
      },
      "source": [
        "We may select certain columns of a DataFrame using their names:"
      ]
    },
    {
      "cell_type": "code",
      "metadata": {
        "id": "7bQGeyCAHW9_"
      },
      "source": [
        "aapl_bar = aapl_month[['Open', 'High', 'Low', 'Close']]\n",
        "print(aapl_bar)"
      ],
      "execution_count": null,
      "outputs": []
    },
    {
      "cell_type": "code",
      "source": [
        "#ejemplo_cfierro\n",
        "columnas_IBM = mes_IBM[['Open', 'High', 'Low', 'Close']]   \n",
        "#En esta sentencia estamos seleccionando las columnas que queremos ver, por lo tanto al imprimir únicamente tenemos la información de las columnas que especificamos.\n",
        "print(columnas_IBM)"
      ],
      "metadata": {
        "id": "uWi_rd3iLD42"
      },
      "execution_count": null,
      "outputs": []
    },
    {
      "cell_type": "markdown",
      "metadata": {
        "id": "8CQaZCAQP68O"
      },
      "source": [
        "We can even specify both rows and columns using loc[]. The row indices and column names are separated by a comma:"
      ]
    },
    {
      "cell_type": "code",
      "metadata": {
        "id": "YjWWiHVpHW-A"
      },
      "source": [
        "print(aapl_month.loc['2016-03':'2016-06',['Open', 'High', 'Low', 'Close']])"
      ],
      "execution_count": null,
      "outputs": []
    },
    {
      "cell_type": "code",
      "source": [
        "#ejemplo_cfierro\n",
        "print(mes_IBM.loc['2020-03':'2020-07',['Open', 'High', 'Low', 'Close']])\n",
        "#En esta sentencia estamos usando el método \"loc\" para seleccionar no solo las columnas que queremos ver, sino también las filas que en nuestro caso corresponden con el intervalo de\n",
        "#fechas que se pone como primer argumento. "
      ],
      "metadata": {
        "id": "UFJ03crcLdSt"
      },
      "execution_count": null,
      "outputs": []
    },
    {
      "cell_type": "markdown",
      "metadata": {
        "id": "Xcn_pHNLQBEH"
      },
      "source": [
        "The subset methods in DataFrame is quite useful. By writing logical statements in square brackets, we can make customized subsets:"
      ]
    },
    {
      "cell_type": "code",
      "metadata": {
        "id": "RxKg4dObHW-A"
      },
      "source": [
        "import numpy as np\n",
        "\n",
        "above = aapl_bar[aapl_bar.Close > np.mean(aapl_bar.Close)]\n",
        "print(above)"
      ],
      "execution_count": null,
      "outputs": []
    },
    {
      "cell_type": "code",
      "source": [
        "#ejemplo_cfierro\n",
        "import numpy as np  #importamos la librería numpy y la nombramos como np.\n",
        "\n",
        "Mayores = columnas_IBM[columnas_IBM.Close > np.mean(columnas_IBM.Close)]\n",
        "#En esta sentencia estamos tomando las columnas que seleccionamos anteriormente y estamos usando una funcionalidad en la que los \"[]\" (brackets) reconocen sentencias logicas (==,!=,>,<,etc)\n",
        "#y en base a los resultados muestran los valores de los datos comparados que cumplen con las condiciones. En este caso se compara el cierre de cada mes con la media aritmética de cierres.\n",
        "#Aquellos cierres por encima de la media son los que se toman en cuenta.\n",
        "print(Mayores)"
      ],
      "metadata": {
        "id": "x_ODdhZLMEva"
      },
      "execution_count": null,
      "outputs": []
    },
    {
      "cell_type": "markdown",
      "metadata": {
        "id": "wcm_UadkQLL5"
      },
      "source": [
        "## Data Validation\n",
        "As mentioned, all methods that apply to a Series can also be applied to a DataFrame. Here we add a new column to an existing DataFrame:"
      ]
    },
    {
      "cell_type": "code",
      "metadata": {
        "id": "jZXFdOVFHW-A"
      },
      "source": [
        "aapl_bar['rate_return'] = aapl_bar.Close.pct_change()\n",
        "print(aapl_bar)"
      ],
      "execution_count": null,
      "outputs": []
    },
    {
      "cell_type": "code",
      "source": [
        "#ejemplo_cfierro\n",
        "columnas_IBM['Ratio_de_retorno'] = columnas_IBM.Close.pct_change()\n",
        "#En este caso se está creando una nueva columna llamada \"Ratio de retorno\". Esta columna tiene como valores el porcentaje de cambio entre los valores de cierre de cada mes.\n",
        "#Una vez hecho esto, se imprime la serie con las columnas actualizadas.\n",
        "print(columnas_IBM)"
      ],
      "metadata": {
        "colab": {
          "base_uri": "https://localhost:8080/"
        },
        "id": "TEo7mURUN4An",
        "outputId": "74d2ba30-0759-4797-dd70-a86d7318c2ca"
      },
      "execution_count": null,
      "outputs": [
        {
          "output_type": "stream",
          "name": "stdout",
          "text": [
            "                  Open        High         Low       Close  Ratio de retorno  \\\n",
            "Date                                                                           \n",
            "2020-01-31  121.628189  122.607002  119.832277  122.334641               NaN   \n",
            "2020-02-29  111.840398  112.795492  108.725597  111.986671         -0.084587   \n",
            "2020-03-31   96.369615   97.927016   94.795007   95.448944         -0.147676   \n",
            "2020-04-30  108.863260  109.508593  107.744685  108.037231          0.131885   \n",
            "2020-05-31  107.904671  109.178548  106.656960  108.977867          0.008707   \n",
            "2020-06-30  103.995772  105.749541  103.829996  105.374359         -0.033066   \n",
            "2020-07-31  107.067042  107.311346  105.653556  107.267723          0.017968   \n",
            "2020-08-31  110.780865  110.780865  108.817320  109.064980          0.016755   \n",
            "2020-09-30  107.357929  108.711180  106.844929  107.614426         -0.013300   \n",
            "2020-10-31   95.435170   98.884629   95.302499   98.760803         -0.082272   \n",
            "2020-11-30  111.429669  112.237780  110.522787  110.908882          0.123005   \n",
            "2020-12-31  111.537414  113.162615  111.330895  113.027931          0.019106   \n",
            "\n",
            "            Ratio_de_retorno  \n",
            "Date                          \n",
            "2020-01-31               NaN  \n",
            "2020-02-29         -0.084587  \n",
            "2020-03-31         -0.147676  \n",
            "2020-04-30          0.131885  \n",
            "2020-05-31          0.008707  \n",
            "2020-06-30         -0.033066  \n",
            "2020-07-31          0.017968  \n",
            "2020-08-31          0.016755  \n",
            "2020-09-30         -0.013300  \n",
            "2020-10-31         -0.082272  \n",
            "2020-11-30          0.123005  \n",
            "2020-12-31          0.019106  \n"
          ]
        },
        {
          "output_type": "stream",
          "name": "stderr",
          "text": [
            "/usr/local/lib/python3.7/dist-packages/ipykernel_launcher.py:2: SettingWithCopyWarning: \n",
            "A value is trying to be set on a copy of a slice from a DataFrame.\n",
            "Try using .loc[row_indexer,col_indexer] = value instead\n",
            "\n",
            "See the caveats in the documentation: https://pandas.pydata.org/pandas-docs/stable/user_guide/indexing.html#returning-a-view-versus-a-copy\n",
            "  \n"
          ]
        }
      ]
    },
    {
      "cell_type": "markdown",
      "metadata": {
        "id": "_or6n5-LQUa-"
      },
      "source": [
        "Here the calculation introduced a NaN value. If the DataFrame is large, we would not be able to observe it. **isnull()** provides a convenient way to check abnormal values."
      ]
    },
    {
      "cell_type": "code",
      "metadata": {
        "colab": {
          "base_uri": "https://localhost:8080/"
        },
        "id": "V5wgmhIPHW-B",
        "outputId": "53fff42b-80d3-4014-ee04-20cad9abc6de"
      },
      "source": [
        "missing = aapl_bar.isnull()\n",
        "print(missing)\n",
        "print('---------------------------------------------')\n",
        "print(missing.describe())"
      ],
      "execution_count": null,
      "outputs": [
        {
          "output_type": "stream",
          "name": "stdout",
          "text": [
            "             Open   High    Low  Close  rate_return\n",
            "Date                                               \n",
            "2016-01-31  False  False  False  False         True\n",
            "2016-02-29  False  False  False  False        False\n",
            "2016-03-31  False  False  False  False        False\n",
            "2016-04-30  False  False  False  False        False\n",
            "2016-05-31  False  False  False  False        False\n",
            "2016-06-30  False  False  False  False        False\n",
            "2016-07-31  False  False  False  False        False\n",
            "2016-08-31  False  False  False  False        False\n",
            "2016-09-30  False  False  False  False        False\n",
            "2016-10-31  False  False  False  False        False\n",
            "2016-11-30  False  False  False  False        False\n",
            "2016-12-31  False  False  False  False        False\n",
            "---------------------------------------------\n",
            "         Open   High    Low  Close rate_return\n",
            "count      12     12     12     12          12\n",
            "unique      1      1      1      1           2\n",
            "top     False  False  False  False       False\n",
            "freq       12     12     12     12          11\n"
          ]
        }
      ]
    },
    {
      "cell_type": "code",
      "source": [
        "#ejemplo_cfierro\n",
        "Errores_valor = columnas_IBM.isnull() \n",
        "#Esta sentencia ejecuta el método \"isnull()\" que verifica que exista o no un valor normal a lo largo de la tabla. Si existe, retorna el \"False\" para ese valor, de lo contrario retorna \"True\".\n",
        "print(Errores_valor)\n",
        "print('---------------------------------------------')\n",
        "print(Errores_valor.describe())\n",
        "#la sentencia usa el método \"describe\" para mostrarnos una pequeña descripción de lo que se encontró con el \"isnull\". Cuenta de valores,tipo de valores diferentes, el bool más frecuente (si fueron más True o False) y su frecuencia."
      ],
      "metadata": {
        "id": "I2Ci_W0NPAig",
        "colab": {
          "base_uri": "https://localhost:8080/"
        },
        "outputId": "a69e278c-c0ce-4953-d8ff-d3e5fff80176"
      },
      "execution_count": null,
      "outputs": [
        {
          "output_type": "stream",
          "name": "stdout",
          "text": [
            "             Open   High    Low  Close  Ratio de retorno  Ratio_de_retorno\n",
            "Date                                                                      \n",
            "2020-01-31  False  False  False  False              True              True\n",
            "2020-02-29  False  False  False  False             False             False\n",
            "2020-03-31  False  False  False  False             False             False\n",
            "2020-04-30  False  False  False  False             False             False\n",
            "2020-05-31  False  False  False  False             False             False\n",
            "2020-06-30  False  False  False  False             False             False\n",
            "2020-07-31  False  False  False  False             False             False\n",
            "2020-08-31  False  False  False  False             False             False\n",
            "2020-09-30  False  False  False  False             False             False\n",
            "2020-10-31  False  False  False  False             False             False\n",
            "2020-11-30  False  False  False  False             False             False\n",
            "2020-12-31  False  False  False  False             False             False\n",
            "---------------------------------------------\n",
            "         Open   High    Low  Close Ratio de retorno Ratio_de_retorno\n",
            "count      12     12     12     12               12               12\n",
            "unique      1      1      1      1                2                2\n",
            "top     False  False  False  False            False            False\n",
            "freq       12     12     12     12               11               11\n"
          ]
        }
      ]
    },
    {
      "cell_type": "markdown",
      "metadata": {
        "id": "d6KFV4i0QfLW"
      },
      "source": [
        "The row labelled \"unique\" indicates the number of unique values in each column. Since the \"rate_return\" column has 2 unique values, it has at least one missing value.\n",
        "\n",
        "We can deduce the number of missing values by comparing \"count\" with \"freq\". There are 12 counts and 11 False values, so there is one True value which corresponds to the missing value.\n",
        "\n",
        "We can also find the rows with missing values easily:"
      ]
    },
    {
      "cell_type": "code",
      "metadata": {
        "colab": {
          "base_uri": "https://localhost:8080/"
        },
        "id": "Eo0ZAhCsHW-B",
        "outputId": "33d1c05d-4c69-4cb4-a97f-49a44dc3e30b"
      },
      "source": [
        "print(missing[missing.rate_return == True])"
      ],
      "execution_count": null,
      "outputs": [
        {
          "output_type": "stream",
          "name": "stdout",
          "text": [
            "             Open   High    Low  Close  rate_return\n",
            "Date                                               \n",
            "2016-01-31  False  False  False  False         True\n"
          ]
        }
      ]
    },
    {
      "cell_type": "code",
      "source": [
        "#ejemplo_cfierro\n",
        "print(Errores_valor[Errores_valor.Ratio_de_retorno == True])\n",
        "#En este caso se puede ver como lo que hicimos con los brackets fue usar una sentencia lógica que compara si son o no el mismo booleano, en este caso sabemos que \"Ratio_de_retorno\" es\n",
        "#True asi que se compara con los otros que puedan ser True o no.\n"
      ],
      "metadata": {
        "colab": {
          "base_uri": "https://localhost:8080/"
        },
        "id": "QYXRyeXxe1kU",
        "outputId": "00dc2dcf-7fe0-49b9-c58c-f6d9ae926b16"
      },
      "execution_count": null,
      "outputs": [
        {
          "output_type": "stream",
          "name": "stdout",
          "text": [
            "             Open   High    Low  Close  Ratio de retorno  Ratio_de_retorno\n",
            "Date                                                                      \n",
            "2020-01-31  False  False  False  False              True              True\n"
          ]
        }
      ]
    },
    {
      "cell_type": "markdown",
      "metadata": {
        "id": "qgggpD8OQkZX"
      },
      "source": [
        "Usually when dealing with missing data, we either delete the whole row or fill it with some value. As we introduced in the Series chapter, the same method **dropna()** and **fillna()** can be applied to a DataFrame."
      ]
    },
    {
      "cell_type": "code",
      "metadata": {
        "id": "j8PaIokjHW-B",
        "colab": {
          "base_uri": "https://localhost:8080/"
        },
        "outputId": "89218581-48e6-4da8-9356-fe639f487d46"
      },
      "source": [
        "drop = aapl_bar.dropna()\n",
        "print(drop)\n",
        "print('\\n--------------------------------------------------\\n')\n",
        "fill = aapl_bar.fillna(0)\n",
        "print(fill)"
      ],
      "execution_count": null,
      "outputs": [
        {
          "output_type": "stream",
          "name": "stdout",
          "text": [
            "                 Open       High        Low      Close  rate_return\n",
            "Date                                                               \n",
            "2016-02-29  22.389513  22.706194  22.340971  22.350218    -0.001287\n",
            "2016-03-31  25.362144  25.403752  25.167974  25.193401     0.127211\n",
            "2016-04-30  21.726104  21.894847  21.383998  21.668316    -0.139921\n",
            "2016-05-31  23.163044  23.349094  22.981647  23.223511     0.071773\n",
            "2016-06-30  21.963038  22.272342  21.930479  22.232807    -0.042660\n",
            "2016-07-31  24.230497  24.314219  24.111891  24.235147     0.090062\n",
            "2016-08-31  24.705476  24.918251  24.700798  24.808355     0.023652\n",
            "2016-09-30  26.295458  26.508235  26.141137  26.433413     0.065504\n",
            "2016-10-31  26.573702  26.709318  26.468481  26.547981     0.004334\n",
            "2016-11-30  26.228349  26.369361  25.915770  25.974525    -0.021601\n",
            "2016-12-31  27.415206  27.544467  27.128480  27.220139     0.047955\n",
            "\n",
            "--------------------------------------------------\n",
            "\n",
            "                 Open       High        Low      Close  rate_return\n",
            "Date                                                               \n",
            "2016-01-31  21.792768  22.379026  21.691609  22.379026     0.000000\n",
            "2016-02-29  22.389513  22.706194  22.340971  22.350218    -0.001287\n",
            "2016-03-31  25.362144  25.403752  25.167974  25.193401     0.127211\n",
            "2016-04-30  21.726104  21.894847  21.383998  21.668316    -0.139921\n",
            "2016-05-31  23.163044  23.349094  22.981647  23.223511     0.071773\n",
            "2016-06-30  21.963038  22.272342  21.930479  22.232807    -0.042660\n",
            "2016-07-31  24.230497  24.314219  24.111891  24.235147     0.090062\n",
            "2016-08-31  24.705476  24.918251  24.700798  24.808355     0.023652\n",
            "2016-09-30  26.295458  26.508235  26.141137  26.433413     0.065504\n",
            "2016-10-31  26.573702  26.709318  26.468481  26.547981     0.004334\n",
            "2016-11-30  26.228349  26.369361  25.915770  25.974525    -0.021601\n",
            "2016-12-31  27.415206  27.544467  27.128480  27.220139     0.047955\n"
          ]
        }
      ]
    },
    {
      "cell_type": "code",
      "source": [
        "#ejemplo_cfierro\n",
        "drop = columnas_IBM.dropna()\n",
        "print(drop)\n",
        "print('\\n--------------------------------------------------\\n')\n",
        "fill = columnas_IBM.fillna(0)\n",
        "print(fill)\n",
        "#Estas sentencias lo que nos están mostrando es como los métodos \"dropna()\" y \"fillna()\" también están funcionando con estos DataFrames. Estos se encargan de tomar los valores nulos y\n",
        "#eliminarlos de las tablas o reemplazarlos por el valor dado como argumento respectivamente."
      ],
      "metadata": {
        "colab": {
          "base_uri": "https://localhost:8080/"
        },
        "id": "5nT05nERgf75",
        "outputId": "275e06c8-1be9-4a55-8a9c-ab0c8fb4c60d"
      },
      "execution_count": null,
      "outputs": [
        {
          "output_type": "stream",
          "name": "stdout",
          "text": [
            "                  Open        High         Low       Close  Ratio de retorno  \\\n",
            "Date                                                                           \n",
            "2020-02-29  111.840398  112.795492  108.725597  111.986671         -0.084587   \n",
            "2020-03-31   96.369615   97.927016   94.795007   95.448944         -0.147676   \n",
            "2020-04-30  108.863260  109.508593  107.744685  108.037231          0.131885   \n",
            "2020-05-31  107.904671  109.178548  106.656960  108.977867          0.008707   \n",
            "2020-06-30  103.995772  105.749541  103.829996  105.374359         -0.033066   \n",
            "2020-07-31  107.067042  107.311346  105.653556  107.267723          0.017968   \n",
            "2020-08-31  110.780865  110.780865  108.817320  109.064980          0.016755   \n",
            "2020-09-30  107.357929  108.711180  106.844929  107.614426         -0.013300   \n",
            "2020-10-31   95.435170   98.884629   95.302499   98.760803         -0.082272   \n",
            "2020-11-30  111.429669  112.237780  110.522787  110.908882          0.123005   \n",
            "2020-12-31  111.537414  113.162615  111.330895  113.027931          0.019106   \n",
            "\n",
            "            Ratio_de_retorno  \n",
            "Date                          \n",
            "2020-02-29         -0.084587  \n",
            "2020-03-31         -0.147676  \n",
            "2020-04-30          0.131885  \n",
            "2020-05-31          0.008707  \n",
            "2020-06-30         -0.033066  \n",
            "2020-07-31          0.017968  \n",
            "2020-08-31          0.016755  \n",
            "2020-09-30         -0.013300  \n",
            "2020-10-31         -0.082272  \n",
            "2020-11-30          0.123005  \n",
            "2020-12-31          0.019106  \n",
            "\n",
            "--------------------------------------------------\n",
            "\n",
            "                  Open        High         Low       Close  Ratio de retorno  \\\n",
            "Date                                                                           \n",
            "2020-01-31  121.628189  122.607002  119.832277  122.334641          0.000000   \n",
            "2020-02-29  111.840398  112.795492  108.725597  111.986671         -0.084587   \n",
            "2020-03-31   96.369615   97.927016   94.795007   95.448944         -0.147676   \n",
            "2020-04-30  108.863260  109.508593  107.744685  108.037231          0.131885   \n",
            "2020-05-31  107.904671  109.178548  106.656960  108.977867          0.008707   \n",
            "2020-06-30  103.995772  105.749541  103.829996  105.374359         -0.033066   \n",
            "2020-07-31  107.067042  107.311346  105.653556  107.267723          0.017968   \n",
            "2020-08-31  110.780865  110.780865  108.817320  109.064980          0.016755   \n",
            "2020-09-30  107.357929  108.711180  106.844929  107.614426         -0.013300   \n",
            "2020-10-31   95.435170   98.884629   95.302499   98.760803         -0.082272   \n",
            "2020-11-30  111.429669  112.237780  110.522787  110.908882          0.123005   \n",
            "2020-12-31  111.537414  113.162615  111.330895  113.027931          0.019106   \n",
            "\n",
            "            Ratio_de_retorno  \n",
            "Date                          \n",
            "2020-01-31          0.000000  \n",
            "2020-02-29         -0.084587  \n",
            "2020-03-31         -0.147676  \n",
            "2020-04-30          0.131885  \n",
            "2020-05-31          0.008707  \n",
            "2020-06-30         -0.033066  \n",
            "2020-07-31          0.017968  \n",
            "2020-08-31          0.016755  \n",
            "2020-09-30         -0.013300  \n",
            "2020-10-31         -0.082272  \n",
            "2020-11-30          0.123005  \n",
            "2020-12-31          0.019106  \n"
          ]
        }
      ]
    },
    {
      "cell_type": "markdown",
      "metadata": {
        "id": "0tvoFlKWQxYG"
      },
      "source": [
        "## DataFrame Concat\n",
        "We have seen how to extract a Series from a dataFrame. Now we need to consider how to merge a Series or a DataFrame into another one.\n",
        "\n",
        "In Pandas, the function **concat()** allows us to merge multiple Series into a DataFrame:"
      ]
    },
    {
      "cell_type": "code",
      "metadata": {
        "id": "uQrmLIWKHW-C",
        "colab": {
          "base_uri": "https://localhost:8080/"
        },
        "outputId": "9f743f45-cd78-4707-872f-412cc506a8bb"
      },
      "source": [
        "s1 = pd.Series([143.5, 144.09, 142.73, 144.18, 143.77], name = 'AAPL')\n",
        "s2 = pd.Series([898.7, 911.71, 906.69, 918.59, 926.99], name = 'GOOG')\n",
        "data_frame = pd.concat([s1,s2], axis = 1)\n",
        "print(data_frame)"
      ],
      "execution_count": null,
      "outputs": [
        {
          "output_type": "stream",
          "name": "stdout",
          "text": [
            "     AAPL    GOOG\n",
            "0  143.50  898.70\n",
            "1  144.09  911.71\n",
            "2  142.73  906.69\n",
            "3  144.18  918.59\n",
            "4  143.77  926.99\n"
          ]
        }
      ]
    },
    {
      "cell_type": "code",
      "source": [
        "#ejemplo_cfierro\n",
        "Serie1 = pd.Series([198.6, 200.1, 195.6, 197.9, 198.2], name = 'Python')\n",
        "Serie2 = pd.Series([550.5,570.9, 600.3, 602.9, 610.1], name = 'Java')\n",
        "#Lo que se hizo fue crear dos series con los datos que usamos anteriormente para crear los DataFrames.\n",
        "data_frame1 = pd.concat([Serie1,Serie2], axis = 1)\n",
        "#Se introduce una función nueva llamada \"concat\" que permite fusionar series y en este caso se usa para fusionar las dos series recién creadas. El axis permite que se muestren como columnas separadas y no un solo conjunto.\n",
        "print(data_frame1)"
      ],
      "metadata": {
        "colab": {
          "base_uri": "https://localhost:8080/"
        },
        "id": "EtXOinZ6hB5-",
        "outputId": "d6e8daf6-96ea-419d-f1df-8e2a483a7a68"
      },
      "execution_count": null,
      "outputs": [
        {
          "output_type": "stream",
          "name": "stdout",
          "text": [
            "   Python   Java\n",
            "0   198.6  550.5\n",
            "1   200.1  570.9\n",
            "2   195.6  600.3\n",
            "3   197.9  602.9\n",
            "4   198.2  610.1\n"
          ]
        }
      ]
    },
    {
      "cell_type": "markdown",
      "metadata": {
        "id": "3ojbNYJLR2vv"
      },
      "source": [
        "The \"axis = 1\" parameter will join two DataFrames by columns:"
      ]
    },
    {
      "cell_type": "code",
      "metadata": {
        "id": "DJsaLd-cRoIm",
        "colab": {
          "base_uri": "https://localhost:8080/"
        },
        "outputId": "77f18094-638b-4c8a-88da-6dd7344932bd"
      },
      "source": [
        "log_price = np.log(aapl_bar.Close)\n",
        "log_price.name = 'log_price'\n",
        "print(log_price)\n",
        "print('\\n---------------------- separate line--------------------\\n')\n",
        "concat = pd.concat([aapl_bar, log_price], axis = 1)\n",
        "print(concat)"
      ],
      "execution_count": null,
      "outputs": [
        {
          "output_type": "stream",
          "name": "stdout",
          "text": [
            "Date\n",
            "2016-01-31    3.108124\n",
            "2016-02-29    3.106836\n",
            "2016-03-31    3.226582\n",
            "2016-04-30    3.075851\n",
            "2016-05-31    3.145165\n",
            "2016-06-30    3.101569\n",
            "2016-07-31    3.187804\n",
            "2016-08-31    3.211181\n",
            "2016-09-30    3.274629\n",
            "2016-10-31    3.278954\n",
            "2016-11-30    3.257116\n",
            "2016-12-31    3.303957\n",
            "Freq: M, Name: log_price, dtype: float64\n",
            "\n",
            "---------------------- separate line--------------------\n",
            "\n",
            "                 Open       High        Low      Close  rate_return  log_price\n",
            "Date                                                                          \n",
            "2016-01-31  21.792768  22.379026  21.691609  22.379026          NaN   3.108124\n",
            "2016-02-29  22.389513  22.706194  22.340971  22.350218    -0.001287   3.106836\n",
            "2016-03-31  25.362144  25.403752  25.167974  25.193401     0.127211   3.226582\n",
            "2016-04-30  21.726104  21.894847  21.383998  21.668316    -0.139921   3.075851\n",
            "2016-05-31  23.163044  23.349094  22.981647  23.223511     0.071773   3.145165\n",
            "2016-06-30  21.963038  22.272342  21.930479  22.232807    -0.042660   3.101569\n",
            "2016-07-31  24.230497  24.314219  24.111891  24.235147     0.090062   3.187804\n",
            "2016-08-31  24.705476  24.918251  24.700798  24.808355     0.023652   3.211181\n",
            "2016-09-30  26.295458  26.508235  26.141137  26.433413     0.065504   3.274629\n",
            "2016-10-31  26.573702  26.709318  26.468481  26.547981     0.004334   3.278954\n",
            "2016-11-30  26.228349  26.369361  25.915770  25.974525    -0.021601   3.257116\n",
            "2016-12-31  27.415206  27.544467  27.128480  27.220139     0.047955   3.303957\n"
          ]
        }
      ]
    },
    {
      "cell_type": "code",
      "source": [
        "#ejemplos_cfierro\n",
        "registro_precios = np.log(columnas_IBM.Close)\n",
        "registro_precios.name = 'registro_precios'\n",
        "print(registro_precios)\n",
        "#Estas sentencias superiores lo que hacen es agregar la información de cierre de nuestra Serie de IBM.\n",
        "#Luego genera un nombre para la serie(que funciona como columna) y la imprime.\n",
        "print('\\n---------------------- separate line--------------------\\n')\n",
        "concat = pd.concat([columnas_IBM, registro_precios], axis = 1)\n",
        "print(concat)\n",
        "#En este caso se usa \"concat\" para fusionar las dos series directamente y la columna queda agregada en el nuevo DataFrame."
      ],
      "metadata": {
        "colab": {
          "base_uri": "https://localhost:8080/"
        },
        "id": "ehqS2XtbiAFI",
        "outputId": "5d73c68b-eb39-4ce6-8487-bf05cd71f132"
      },
      "execution_count": null,
      "outputs": [
        {
          "output_type": "stream",
          "name": "stdout",
          "text": [
            "Date\n",
            "2020-01-31    4.806760\n",
            "2020-02-29    4.718380\n",
            "2020-03-31    4.558591\n",
            "2020-04-30    4.682476\n",
            "2020-05-31    4.691145\n",
            "2020-06-30    4.657519\n",
            "2020-07-31    4.675328\n",
            "2020-08-31    4.691944\n",
            "2020-09-30    4.678555\n",
            "2020-10-31    4.592701\n",
            "2020-11-30    4.708709\n",
            "2020-12-31    4.727635\n",
            "Freq: M, Name: registro_precios, dtype: float64\n",
            "\n",
            "---------------------- separate line--------------------\n",
            "\n",
            "                  Open        High         Low       Close  Ratio de retorno  \\\n",
            "Date                                                                           \n",
            "2020-01-31  121.628189  122.607002  119.832277  122.334641               NaN   \n",
            "2020-02-29  111.840398  112.795492  108.725597  111.986671         -0.084587   \n",
            "2020-03-31   96.369615   97.927016   94.795007   95.448944         -0.147676   \n",
            "2020-04-30  108.863260  109.508593  107.744685  108.037231          0.131885   \n",
            "2020-05-31  107.904671  109.178548  106.656960  108.977867          0.008707   \n",
            "2020-06-30  103.995772  105.749541  103.829996  105.374359         -0.033066   \n",
            "2020-07-31  107.067042  107.311346  105.653556  107.267723          0.017968   \n",
            "2020-08-31  110.780865  110.780865  108.817320  109.064980          0.016755   \n",
            "2020-09-30  107.357929  108.711180  106.844929  107.614426         -0.013300   \n",
            "2020-10-31   95.435170   98.884629   95.302499   98.760803         -0.082272   \n",
            "2020-11-30  111.429669  112.237780  110.522787  110.908882          0.123005   \n",
            "2020-12-31  111.537414  113.162615  111.330895  113.027931          0.019106   \n",
            "\n",
            "            Ratio_de_retorno  registro_precios  \n",
            "Date                                            \n",
            "2020-01-31               NaN          4.806760  \n",
            "2020-02-29         -0.084587          4.718380  \n",
            "2020-03-31         -0.147676          4.558591  \n",
            "2020-04-30          0.131885          4.682476  \n",
            "2020-05-31          0.008707          4.691145  \n",
            "2020-06-30         -0.033066          4.657519  \n",
            "2020-07-31          0.017968          4.675328  \n",
            "2020-08-31          0.016755          4.691944  \n",
            "2020-09-30         -0.013300          4.678555  \n",
            "2020-10-31         -0.082272          4.592701  \n",
            "2020-11-30          0.123005          4.708709  \n",
            "2020-12-31          0.019106          4.727635  \n"
          ]
        }
      ]
    },
    {
      "cell_type": "markdown",
      "metadata": {
        "id": "mIZz-FUyR_62"
      },
      "source": [
        "We can also join two DataFrames by rows. Consider these two DataFrames:"
      ]
    },
    {
      "cell_type": "code",
      "metadata": {
        "id": "W7uXZptLHW-C"
      },
      "source": [
        "df_volume = aapl_table.loc['2016-10':'2017-04',['Volume', 'Stock Splits']].resample('M').agg(lambda x: x[-1])\n",
        "print(df_volume)\n",
        "print('\\n---------------------- separate line--------------------\\n')\n",
        "df_2017 = aapl_table.loc['2016-10':'2017-04',['Open', 'High', 'Low', 'Close']].resample('M').agg(lambda x: x[-1])\n",
        "print(df_2017)"
      ],
      "execution_count": null,
      "outputs": []
    },
    {
      "cell_type": "code",
      "source": [
        "#ejemplo_cfierro\n",
        "df_volumen = Tabla_IBM.loc['2020-03':'2020-07',['Volume', 'Stock Splits']].resample('M').agg(lambda x: x[-1])\n",
        "print(df_volumen)\n",
        "#En este caso se muestra que usando \"loc\" se están obteniendo los valores de volumen y \"stock splits\" luego de usar \"resample\" para agrupar los datos por meses y usar \"agg\" para una función que tomára el último día y su información.\n",
        "#Una vez realizado esto se imprime y se ve que los datos corresponden a las dos columnas junto con los indices como los últimos días de cada mes. Este resultado resulta en un DataFrame.\n",
        "print('\\n---------------------- separate line--------------------\\n')\n",
        "df_2020= Tabla_IBM.loc['2020-03':'2020-07',['Open', 'High', 'Low', 'Close']].resample('M').agg(lambda x: x[-1])\n",
        "print(df_2020)\n",
        "#De la misma forma, se realiza el mismo proceso pero en este caso se tomaron las columnas  'Open', 'High', 'Low', 'Close'."
      ],
      "metadata": {
        "id": "Vf7FGhvQi8Uc",
        "colab": {
          "base_uri": "https://localhost:8080/"
        },
        "outputId": "6da6a74f-078f-44ad-9ada-61e4df88d6e0"
      },
      "execution_count": null,
      "outputs": [
        {
          "output_type": "stream",
          "name": "stdout",
          "text": [
            "             Volume  Stock Splits\n",
            "Date                             \n",
            "2020-03-31  6635092           0.0\n",
            "2020-04-30  6941047           0.0\n",
            "2020-05-31  8294675           0.0\n",
            "2020-06-30  4099797           0.0\n",
            "2020-07-31  5519847           0.0\n",
            "\n",
            "---------------------- separate line--------------------\n",
            "\n",
            "                  Open        High         Low       Close\n",
            "Date                                                      \n",
            "2020-03-31   96.369623   97.927024   94.795015   95.448952\n",
            "2020-04-30  108.863268  109.508601  107.744693  108.037239\n",
            "2020-05-31  107.904671  109.178548  106.656960  108.977867\n",
            "2020-06-30  103.995772  105.749541  103.829996  105.374359\n",
            "2020-07-31  107.067042  107.311346  105.653556  107.267723\n"
          ]
        }
      ]
    },
    {
      "cell_type": "markdown",
      "metadata": {
        "id": "iZk_C9aSSLeP"
      },
      "source": [
        "Now we merge the DataFrames with our DataFrame 'aapl_bar'"
      ]
    },
    {
      "cell_type": "code",
      "metadata": {
        "id": "aFqmjokOHW-C",
        "colab": {
          "base_uri": "https://localhost:8080/"
        },
        "outputId": "2eede3c1-6349-40a9-81e8-56a6e95c5d27"
      },
      "source": [
        "concat = pd.concat([aapl_bar, df_volume], axis = 1)\n",
        "print(concat)"
      ],
      "execution_count": null,
      "outputs": [
        {
          "output_type": "stream",
          "name": "stdout",
          "text": [
            "                 Open       High        Low      Close  rate_return  \\\n",
            "Date                                                                  \n",
            "2016-01-31  21.792768  22.379026  21.691609  22.379026          NaN   \n",
            "2016-02-29  22.389513  22.706194  22.340971  22.350218    -0.001287   \n",
            "2016-03-31  25.362144  25.403752  25.167974  25.193401     0.127211   \n",
            "2016-04-30  21.726104  21.894847  21.383998  21.668316    -0.139921   \n",
            "2016-05-31  23.163044  23.349094  22.981647  23.223511     0.071773   \n",
            "2016-06-30  21.963038  22.272342  21.930479  22.232807    -0.042660   \n",
            "2016-07-31  24.230497  24.314219  24.111891  24.235147     0.090062   \n",
            "2016-08-31  24.705476  24.918251  24.700798  24.808355     0.023652   \n",
            "2016-09-30  26.295458  26.508235  26.141137  26.433413     0.065504   \n",
            "2016-10-31  26.573702  26.709318  26.468481  26.547981     0.004334   \n",
            "2016-11-30  26.228349  26.369361  25.915770  25.974525    -0.021601   \n",
            "2016-12-31  27.415206  27.544467  27.128480  27.220139     0.047955   \n",
            "2020-03-31        NaN        NaN        NaN        NaN          NaN   \n",
            "2020-04-30        NaN        NaN        NaN        NaN          NaN   \n",
            "2020-05-31        NaN        NaN        NaN        NaN          NaN   \n",
            "2020-06-30        NaN        NaN        NaN        NaN          NaN   \n",
            "2020-07-31        NaN        NaN        NaN        NaN          NaN   \n",
            "\n",
            "               Volume  Stock Splits  \n",
            "Date                                 \n",
            "2016-01-31        NaN           NaN  \n",
            "2016-02-29        NaN           NaN  \n",
            "2016-03-31        NaN           NaN  \n",
            "2016-04-30        NaN           NaN  \n",
            "2016-05-31        NaN           NaN  \n",
            "2016-06-30        NaN           NaN  \n",
            "2016-07-31        NaN           NaN  \n",
            "2016-08-31        NaN           NaN  \n",
            "2016-09-30        NaN           NaN  \n",
            "2016-10-31        NaN           NaN  \n",
            "2016-11-30        NaN           NaN  \n",
            "2016-12-31        NaN           NaN  \n",
            "2020-03-31  6635092.0           0.0  \n",
            "2020-04-30  6941047.0           0.0  \n",
            "2020-05-31  8294675.0           0.0  \n",
            "2020-06-30  4099797.0           0.0  \n",
            "2020-07-31  5519847.0           0.0  \n"
          ]
        }
      ]
    },
    {
      "cell_type": "code",
      "source": [
        "#ejemplo_cfierro\n",
        "concat = pd.concat([columnas_IBM, df_volumen], axis = 1)    #se fusionaron usando \"concat\" los dos DataFrames creados en el ejemplo anterior. Esto resulta en un DataFrame nuevo pero con la información integrada.\n",
        "print(concat)"
      ],
      "metadata": {
        "colab": {
          "base_uri": "https://localhost:8080/"
        },
        "id": "xrbqJ2RO6lMi",
        "outputId": "9b374faf-b4ae-48e9-84d8-7bb4a86baad1"
      },
      "execution_count": null,
      "outputs": [
        {
          "output_type": "stream",
          "name": "stdout",
          "text": [
            "                  Open        High         Low       Close  Ratio de retorno  \\\n",
            "Date                                                                           \n",
            "2020-01-31  121.628189  122.607002  119.832277  122.334641               NaN   \n",
            "2020-02-29  111.840398  112.795492  108.725597  111.986671         -0.084587   \n",
            "2020-03-31   96.369615   97.927016   94.795007   95.448944         -0.147676   \n",
            "2020-04-30  108.863260  109.508593  107.744685  108.037231          0.131885   \n",
            "2020-05-31  107.904671  109.178548  106.656960  108.977867          0.008707   \n",
            "2020-06-30  103.995772  105.749541  103.829996  105.374359         -0.033066   \n",
            "2020-07-31  107.067042  107.311346  105.653556  107.267723          0.017968   \n",
            "2020-08-31  110.780865  110.780865  108.817320  109.064980          0.016755   \n",
            "2020-09-30  107.357929  108.711180  106.844929  107.614426         -0.013300   \n",
            "2020-10-31   95.435170   98.884629   95.302499   98.760803         -0.082272   \n",
            "2020-11-30  111.429669  112.237780  110.522787  110.908882          0.123005   \n",
            "2020-12-31  111.537414  113.162615  111.330895  113.027931          0.019106   \n",
            "\n",
            "            Ratio_de_retorno     Volume  Stock Splits  \n",
            "Date                                                   \n",
            "2020-01-31               NaN        NaN           NaN  \n",
            "2020-02-29         -0.084587        NaN           NaN  \n",
            "2020-03-31         -0.147676  6635092.0           0.0  \n",
            "2020-04-30          0.131885  6941047.0           0.0  \n",
            "2020-05-31          0.008707  8294675.0           0.0  \n",
            "2020-06-30         -0.033066  4099797.0           0.0  \n",
            "2020-07-31          0.017968  5519847.0           0.0  \n",
            "2020-08-31          0.016755        NaN           NaN  \n",
            "2020-09-30         -0.013300        NaN           NaN  \n",
            "2020-10-31         -0.082272        NaN           NaN  \n",
            "2020-11-30          0.123005        NaN           NaN  \n",
            "2020-12-31          0.019106        NaN           NaN  \n"
          ]
        }
      ]
    },
    {
      "cell_type": "markdown",
      "metadata": {
        "id": "7yI3tgB4SR4O"
      },
      "source": [
        "By default the DataFrame are joined with all of the data. This default options results in zero information loss. We can also merge them by intersection, this is called 'inner join"
      ]
    },
    {
      "cell_type": "code",
      "metadata": {
        "id": "31QGLyijHW-C",
        "colab": {
          "base_uri": "https://localhost:8080/"
        },
        "outputId": "1b1c9580-6b1e-47f7-caf3-ff3d5bbc0459"
      },
      "source": [
        "concat = pd.concat([aapl_bar,df_volume],axis = 1, join = 'inner')\n",
        "print(concat)"
      ],
      "execution_count": null,
      "outputs": [
        {
          "output_type": "stream",
          "name": "stdout",
          "text": [
            "Empty DataFrame\n",
            "Columns: [Open, High, Low, Close, rate_return, Volume, Stock Splits]\n",
            "Index: []\n"
          ]
        }
      ]
    },
    {
      "cell_type": "code",
      "source": [
        "#ejemplo_cfierro\n",
        "concat = pd.concat([columnas_IBM,df_volumen],axis = 1, join = 'inner')\n",
        "#En este caso se puede ver como todos los valores que tenian nulos fueron eliminados y solo quedaron aquellos intervalos en cuyos datos estaban todos los valores.\n",
        "print(concat)"
      ],
      "metadata": {
        "colab": {
          "base_uri": "https://localhost:8080/"
        },
        "id": "rQ2baJJG7aP5",
        "outputId": "6782b80d-5954-41d5-e380-0c4029a1077f"
      },
      "execution_count": null,
      "outputs": [
        {
          "output_type": "stream",
          "name": "stdout",
          "text": [
            "                  Open        High         Low       Close  Ratio de retorno  \\\n",
            "Date                                                                           \n",
            "2020-03-31   96.369615   97.927016   94.795007   95.448944         -0.147676   \n",
            "2020-04-30  108.863260  109.508593  107.744685  108.037231          0.131885   \n",
            "2020-05-31  107.904671  109.178548  106.656960  108.977867          0.008707   \n",
            "2020-06-30  103.995772  105.749541  103.829996  105.374359         -0.033066   \n",
            "2020-07-31  107.067042  107.311346  105.653556  107.267723          0.017968   \n",
            "\n",
            "            Ratio_de_retorno   Volume  Stock Splits  \n",
            "Date                                                 \n",
            "2020-03-31         -0.147676  6635092           0.0  \n",
            "2020-04-30          0.131885  6941047           0.0  \n",
            "2020-05-31          0.008707  8294675           0.0  \n",
            "2020-06-30         -0.033066  4099797           0.0  \n",
            "2020-07-31          0.017968  5519847           0.0  \n"
          ]
        }
      ]
    },
    {
      "cell_type": "markdown",
      "metadata": {
        "id": "oudcWMm5Sd0u"
      },
      "source": [
        "Only the intersection part was left if use 'inner join' method. Now let's try to append a DataFrame to another one:"
      ]
    },
    {
      "cell_type": "code",
      "metadata": {
        "id": "lgw0qaOsHW-D",
        "colab": {
          "base_uri": "https://localhost:8080/"
        },
        "outputId": "07ed40f6-ea5b-4857-8ecc-d997540fc8bb"
      },
      "source": [
        "append = aapl_bar.append(df_2017)\n",
        "print(append)"
      ],
      "execution_count": null,
      "outputs": [
        {
          "output_type": "stream",
          "name": "stdout",
          "text": [
            "                 Open       High        Low      Close  rate_return\n",
            "Date                                                               \n",
            "2016-01-31  21.792768  22.379026  21.691609  22.379026          NaN\n",
            "2016-02-29  22.389513  22.706194  22.340971  22.350218    -0.001287\n",
            "2016-03-31  25.362144  25.403752  25.167974  25.193401     0.127211\n",
            "2016-04-30  21.726104  21.894847  21.383998  21.668316    -0.139921\n",
            "2016-05-31  23.163044  23.349094  22.981647  23.223511     0.071773\n",
            "2016-06-30  21.963038  22.272342  21.930479  22.232807    -0.042660\n",
            "2016-07-31  24.230497  24.314219  24.111891  24.235147     0.090062\n",
            "2016-08-31  24.705476  24.918251  24.700798  24.808355     0.023652\n",
            "2016-09-30  26.295458  26.508235  26.141137  26.433413     0.065504\n",
            "2016-10-31  26.573702  26.709318  26.468481  26.547981     0.004334\n",
            "2016-11-30  26.228349  26.369361  25.915770  25.974525    -0.021601\n",
            "2016-12-31  27.415206  27.544467  27.128480  27.220139     0.047955\n",
            "2016-10-31  26.573705  26.709322  26.468485  26.547985          NaN\n",
            "2016-11-30  26.228351  26.369363  25.915772  25.974527          NaN\n",
            "2016-12-31  27.415203  27.544463  27.128477  27.220135          NaN\n",
            "2017-01-31  28.472797  28.529201  28.348236  28.519800          NaN\n",
            "2017-02-28  32.356349  32.441323  32.266652  32.335106          NaN\n",
            "2017-03-31  33.923673  34.053496  33.756083  33.909512          NaN\n",
            "2017-04-30  34.010993  34.060563  33.817442  33.907135          NaN\n"
          ]
        }
      ]
    },
    {
      "cell_type": "code",
      "source": [
        "#ejemplo_cfierro\n",
        "append1 = columnas_IBM.append(df_2020)\n",
        "#En esta sentencia usamos la función append() para añadir un DataFrame a otro. En este caso se ve como se añadieron los datos al DataFrame justo al final. Añadidos asi sus indices sean iguales. Y como sus columnas tienen mismo\n",
        "#nombre, entonces se fusionaron los datos.\n",
        "print(append1)"
      ],
      "metadata": {
        "colab": {
          "base_uri": "https://localhost:8080/"
        },
        "id": "snurFqlN_HYY",
        "outputId": "5827b990-ffa4-4133-8b0f-50994c2d8258"
      },
      "execution_count": null,
      "outputs": [
        {
          "output_type": "stream",
          "name": "stdout",
          "text": [
            "                  Open        High         Low       Close  Ratio de retorno  \\\n",
            "Date                                                                           \n",
            "2020-01-31  121.628189  122.607002  119.832277  122.334641               NaN   \n",
            "2020-02-29  111.840398  112.795492  108.725597  111.986671         -0.084587   \n",
            "2020-03-31   96.369615   97.927016   94.795007   95.448944         -0.147676   \n",
            "2020-04-30  108.863260  109.508593  107.744685  108.037231          0.131885   \n",
            "2020-05-31  107.904671  109.178548  106.656960  108.977867          0.008707   \n",
            "2020-06-30  103.995772  105.749541  103.829996  105.374359         -0.033066   \n",
            "2020-07-31  107.067042  107.311346  105.653556  107.267723          0.017968   \n",
            "2020-08-31  110.780865  110.780865  108.817320  109.064980          0.016755   \n",
            "2020-09-30  107.357929  108.711180  106.844929  107.614426         -0.013300   \n",
            "2020-10-31   95.435170   98.884629   95.302499   98.760803         -0.082272   \n",
            "2020-11-30  111.429669  112.237780  110.522787  110.908882          0.123005   \n",
            "2020-12-31  111.537414  113.162615  111.330895  113.027931          0.019106   \n",
            "2020-03-31   96.369623   97.927024   94.795015   95.448952               NaN   \n",
            "2020-04-30  108.863268  109.508601  107.744693  108.037239               NaN   \n",
            "2020-05-31  107.904671  109.178548  106.656960  108.977867               NaN   \n",
            "2020-06-30  103.995772  105.749541  103.829996  105.374359               NaN   \n",
            "2020-07-31  107.067042  107.311346  105.653556  107.267723               NaN   \n",
            "\n",
            "            Ratio_de_retorno  \n",
            "Date                          \n",
            "2020-01-31               NaN  \n",
            "2020-02-29         -0.084587  \n",
            "2020-03-31         -0.147676  \n",
            "2020-04-30          0.131885  \n",
            "2020-05-31          0.008707  \n",
            "2020-06-30         -0.033066  \n",
            "2020-07-31          0.017968  \n",
            "2020-08-31          0.016755  \n",
            "2020-09-30         -0.013300  \n",
            "2020-10-31         -0.082272  \n",
            "2020-11-30          0.123005  \n",
            "2020-12-31          0.019106  \n",
            "2020-03-31               NaN  \n",
            "2020-04-30               NaN  \n",
            "2020-05-31               NaN  \n",
            "2020-06-30               NaN  \n",
            "2020-07-31               NaN  \n"
          ]
        }
      ]
    },
    {
      "cell_type": "markdown",
      "metadata": {
        "id": "zXT6cMquSq_P"
      },
      "source": [
        "'Append' is essentially to concat two DataFrames by axis = 0, thus here is an alternative way to append:"
      ]
    },
    {
      "cell_type": "code",
      "metadata": {
        "id": "2EuSaFO9HW-D"
      },
      "source": [
        "concat = pd.concat([aapl_bar, df_2017], axis = 0)\n",
        "print(concat)"
      ],
      "execution_count": null,
      "outputs": []
    },
    {
      "cell_type": "code",
      "source": [
        "#ejemplo_cfierro\n",
        "concat = pd.concat([columnas_IBM, df_2020], axis = 0)   #usando \"concat\" se combinan los dos DataFrames pero en este caso el argumento \"axis\" corresponde a 0, lo que no separa los elementos.\n",
        "#En este caso también se puede ver como se hizo una fusión de los datos. El axis=0 básicamente no separa las columnas de uno u otro DataFrame, sino que los combina directamente.\n",
        "print(concat)"
      ],
      "metadata": {
        "colab": {
          "base_uri": "https://localhost:8080/"
        },
        "id": "Kh2Tz8YkBUoJ",
        "outputId": "e74a810d-6959-4fc6-e7e0-aced1e39a6c5"
      },
      "execution_count": null,
      "outputs": [
        {
          "output_type": "stream",
          "name": "stdout",
          "text": [
            "                  Open        High         Low       Close  Ratio de retorno  \\\n",
            "Date                                                                           \n",
            "2020-01-31  121.628189  122.607002  119.832277  122.334641               NaN   \n",
            "2020-02-29  111.840398  112.795492  108.725597  111.986671         -0.084587   \n",
            "2020-03-31   96.369615   97.927016   94.795007   95.448944         -0.147676   \n",
            "2020-04-30  108.863260  109.508593  107.744685  108.037231          0.131885   \n",
            "2020-05-31  107.904671  109.178548  106.656960  108.977867          0.008707   \n",
            "2020-06-30  103.995772  105.749541  103.829996  105.374359         -0.033066   \n",
            "2020-07-31  107.067042  107.311346  105.653556  107.267723          0.017968   \n",
            "2020-08-31  110.780865  110.780865  108.817320  109.064980          0.016755   \n",
            "2020-09-30  107.357929  108.711180  106.844929  107.614426         -0.013300   \n",
            "2020-10-31   95.435170   98.884629   95.302499   98.760803         -0.082272   \n",
            "2020-11-30  111.429669  112.237780  110.522787  110.908882          0.123005   \n",
            "2020-12-31  111.537414  113.162615  111.330895  113.027931          0.019106   \n",
            "2020-03-31   96.369623   97.927024   94.795015   95.448952               NaN   \n",
            "2020-04-30  108.863268  109.508601  107.744693  108.037239               NaN   \n",
            "2020-05-31  107.904671  109.178548  106.656960  108.977867               NaN   \n",
            "2020-06-30  103.995772  105.749541  103.829996  105.374359               NaN   \n",
            "2020-07-31  107.067042  107.311346  105.653556  107.267723               NaN   \n",
            "\n",
            "            Ratio_de_retorno  \n",
            "Date                          \n",
            "2020-01-31               NaN  \n",
            "2020-02-29         -0.084587  \n",
            "2020-03-31         -0.147676  \n",
            "2020-04-30          0.131885  \n",
            "2020-05-31          0.008707  \n",
            "2020-06-30         -0.033066  \n",
            "2020-07-31          0.017968  \n",
            "2020-08-31          0.016755  \n",
            "2020-09-30         -0.013300  \n",
            "2020-10-31         -0.082272  \n",
            "2020-11-30          0.123005  \n",
            "2020-12-31          0.019106  \n",
            "2020-03-31               NaN  \n",
            "2020-04-30               NaN  \n",
            "2020-05-31               NaN  \n",
            "2020-06-30               NaN  \n",
            "2020-07-31               NaN  \n"
          ]
        }
      ]
    },
    {
      "cell_type": "markdown",
      "metadata": {
        "id": "-YXL7V9ASst9"
      },
      "source": [
        "Please note that if the two DataFrame have some columns with the same column names, these columns are considered to be the same and will be merged. It's very important to have the right column names. If we change a column names here:"
      ]
    },
    {
      "cell_type": "code",
      "metadata": {
        "id": "aT1eoa8mHW-D"
      },
      "source": [
        "df_2017.columns = ['Change', 'High','Low','Close']\n",
        "concat = pd.concat([aapl_bar, df_2017], axis = 0)\n",
        "print(concat)"
      ],
      "execution_count": null,
      "outputs": []
    },
    {
      "cell_type": "code",
      "source": [
        "#ejemplo_cfierro\n",
        "df_2020.columns = ['Change', 'High','Low','Close']  #En esta sentencia se está usando la propiedad de \"df_2020\" de sus columnas para cambiar uno de los atributos de la misma. Se cambia el nombre de una de las columnas.\n",
        "concat = pd.concat([columnas_IBM, df_2020], axis = 0)   #usando \"concat\" se combinan los dos DataFrames pero en este caso el argumento \"axis\" corresponde a 0, lo que no separa los elementos sino que los fusiona.\n",
        "#En este caso se muestra que al hacer la fusión, como existía otra columna diferente en \"df_2020\", el DataFrame resultante tiene una columna diferente y los datos ya no están combinados en la misma columna.\n",
        "print(concat)"
      ],
      "metadata": {
        "colab": {
          "base_uri": "https://localhost:8080/"
        },
        "id": "Po49KbmOCunK",
        "outputId": "4dc7c705-cf8f-4960-9b20-2f69b75cd9e9"
      },
      "execution_count": null,
      "outputs": [
        {
          "output_type": "stream",
          "name": "stdout",
          "text": [
            "                  Open        High         Low       Close  Ratio de retorno  \\\n",
            "Date                                                                           \n",
            "2020-01-31  121.628189  122.607002  119.832277  122.334641               NaN   \n",
            "2020-02-29  111.840398  112.795492  108.725597  111.986671         -0.084587   \n",
            "2020-03-31   96.369615   97.927016   94.795007   95.448944         -0.147676   \n",
            "2020-04-30  108.863260  109.508593  107.744685  108.037231          0.131885   \n",
            "2020-05-31  107.904671  109.178548  106.656960  108.977867          0.008707   \n",
            "2020-06-30  103.995772  105.749541  103.829996  105.374359         -0.033066   \n",
            "2020-07-31  107.067042  107.311346  105.653556  107.267723          0.017968   \n",
            "2020-08-31  110.780865  110.780865  108.817320  109.064980          0.016755   \n",
            "2020-09-30  107.357929  108.711180  106.844929  107.614426         -0.013300   \n",
            "2020-10-31   95.435170   98.884629   95.302499   98.760803         -0.082272   \n",
            "2020-11-30  111.429669  112.237780  110.522787  110.908882          0.123005   \n",
            "2020-12-31  111.537414  113.162615  111.330895  113.027931          0.019106   \n",
            "2020-03-31         NaN   97.927024   94.795015   95.448952               NaN   \n",
            "2020-04-30         NaN  109.508601  107.744693  108.037239               NaN   \n",
            "2020-05-31         NaN  109.178548  106.656960  108.977867               NaN   \n",
            "2020-06-30         NaN  105.749541  103.829996  105.374359               NaN   \n",
            "2020-07-31         NaN  107.311346  105.653556  107.267723               NaN   \n",
            "\n",
            "            Ratio_de_retorno      Change  \n",
            "Date                                      \n",
            "2020-01-31               NaN         NaN  \n",
            "2020-02-29         -0.084587         NaN  \n",
            "2020-03-31         -0.147676         NaN  \n",
            "2020-04-30          0.131885         NaN  \n",
            "2020-05-31          0.008707         NaN  \n",
            "2020-06-30         -0.033066         NaN  \n",
            "2020-07-31          0.017968         NaN  \n",
            "2020-08-31          0.016755         NaN  \n",
            "2020-09-30         -0.013300         NaN  \n",
            "2020-10-31         -0.082272         NaN  \n",
            "2020-11-30          0.123005         NaN  \n",
            "2020-12-31          0.019106         NaN  \n",
            "2020-03-31               NaN   96.369623  \n",
            "2020-04-30               NaN  108.863268  \n",
            "2020-05-31               NaN  107.904671  \n",
            "2020-06-30               NaN  103.995772  \n",
            "2020-07-31               NaN  107.067042  \n"
          ]
        }
      ]
    },
    {
      "cell_type": "markdown",
      "metadata": {
        "id": "shbpOFyyS6uV"
      },
      "source": [
        "Since the column name of 'Open' has been changed, the new DataFrame has an new column named 'Change'.\n",
        "\n",
        "# Summary\n",
        "\n",
        "Hereby we introduced the most import part of python: resampling and DataFrame manipulation. We only introduced the most commonly used method in Financial data analysis. There are also many methods used in data mining, which are also beneficial. You can always check the [Pandas](https://pandas.pydata.org/pandas-docs/stable/index.html) official documentations for help."
      ]
    }
  ]
}
